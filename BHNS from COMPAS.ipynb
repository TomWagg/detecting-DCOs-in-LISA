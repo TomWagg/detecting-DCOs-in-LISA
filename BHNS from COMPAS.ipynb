{
 "cells": [
  {
   "cell_type": "markdown",
   "metadata": {},
   "source": [
    "### <h1 style=\"font-size:45px; background: black; background-image: url(https://images.ctfassets.net/cnu0m8re1exe/5BIngirakRnX3gIKHE3c2M/63905ab53aa5b2b8cf3f1fa5b4013f94/bhbinary_xmm_960.jpg?w=650&h=433&fit=fill); color: white; background-size:contain; background-repeat: no-repeat; background-position: right; height: 400px; padding: 130px 10px; font-family: Georgia, serif\">BH-NS LISA Detection Rate using COMPAS Simulation</h1>"
   ]
  },
  {
   "cell_type": "markdown",
   "metadata": {},
   "source": [
    "### Imports"
   ]
  },
  {
   "cell_type": "code",
   "execution_count": 17,
   "metadata": {
    "scrolled": true
   },
   "outputs": [
    {
     "ename": "ModuleNotFoundError",
     "evalue": "No module named 'lisa_tools'",
     "output_type": "error",
     "traceback": [
      "\u001b[0;31m---------------------------------------------------------------------------\u001b[0m",
      "\u001b[0;31mModuleNotFoundError\u001b[0m                       Traceback (most recent call last)",
      "\u001b[0;32m<ipython-input-17-5f7d13110a17>\u001b[0m in \u001b[0;36m<module>\u001b[0;34m\u001b[0m\n\u001b[1;32m     17\u001b[0m \u001b[0;34m\u001b[0m\u001b[0m\n\u001b[1;32m     18\u001b[0m \u001b[0;31m# functions from Robson et al. 2019\u001b[0m\u001b[0;34m\u001b[0m\u001b[0;34m\u001b[0m\u001b[0;34m\u001b[0m\u001b[0m\n\u001b[0;32m---> 19\u001b[0;31m \u001b[0;32mimport\u001b[0m \u001b[0mlisa_tools\u001b[0m\u001b[0;34m.\u001b[0m\u001b[0mPhenomA\u001b[0m \u001b[0;32mas\u001b[0m \u001b[0mpa\u001b[0m\u001b[0;34m\u001b[0m\u001b[0;34m\u001b[0m\u001b[0m\n\u001b[0m\u001b[1;32m     20\u001b[0m \u001b[0;32mimport\u001b[0m \u001b[0mlisa_tools\u001b[0m\u001b[0;34m.\u001b[0m\u001b[0mLISA\u001b[0m \u001b[0;32mas\u001b[0m \u001b[0mli\u001b[0m\u001b[0;34m\u001b[0m\u001b[0;34m\u001b[0m\u001b[0m\n\u001b[1;32m     21\u001b[0m \u001b[0;32mimport\u001b[0m \u001b[0mlisa_tools\u001b[0m\u001b[0;34m.\u001b[0m\u001b[0mWaveformTools\u001b[0m \u001b[0;32mas\u001b[0m \u001b[0mwt\u001b[0m\u001b[0;34m\u001b[0m\u001b[0;34m\u001b[0m\u001b[0m\n",
      "\u001b[0;31mModuleNotFoundError\u001b[0m: No module named 'lisa_tools'"
     ]
    }
   ],
   "source": [
    "from __future__ import division \n",
    "import h5py as h5\n",
    "import numpy as np\n",
    "import scipy.stats as stats\n",
    "from scipy.integrate import odeint, quad\n",
    "from scipy.special import jv\n",
    "\n",
    "import seaborn as sns\n",
    "import matplotlib.gridspec as gridspec\n",
    "import matplotlib\n",
    "import matplotlib.pyplot as plt\n",
    "from matplotlib import colors\n",
    "\n",
    "from astropy.visualization import quantity_support\n",
    "import astropy.units as u\n",
    "import astropy.constants as c\n",
    "\n",
    "# functions from Robson et al. 2019\n",
    "import lisa_tools.PhenomA as pa\n",
    "import lisa_tools.LISA as li\n",
    "import lisa_tools.WaveformTools as wt\n",
    "\n",
    "# muAres sensitivity curve (from Valeriya Korol)\n",
    "import strain_sens_muHz as muAres\n",
    "\n",
    "# metallicity mass conversion\n",
    "import transform_rates.coencodeVarious as CV\n",
    "import transform_rates.FormationChannel as FC\n",
    "import transform_rates.totalMassEvolvedPerZ as TMEPZ\n",
    "\n",
    "import breivik as bre\n",
    "\n",
    "import time\n",
    "\n",
    "%config InlineBackend.figure_format = 'retina'\n",
    "plt.rc('font', family='serif')\n",
    "matplotlib.rcParams['text.usetex'] = False\n",
    "matplotlib.rcParams['hatch.color'] = \"white\"\n",
    "fs = 24"
   ]
  },
  {
   "cell_type": "markdown",
   "metadata": {},
   "source": [
    "### COMPAS File Functions"
   ]
  },
  {
   "cell_type": "code",
   "execution_count": 232,
   "metadata": {},
   "outputs": [
    {
     "name": "stdout",
     "output_type": "stream",
     "text": [
      "0.000719655\n"
     ]
    }
   ],
   "source": [
    "print(min(get_COMPAS_variable(fdata, (\"eccentricityDCOFormation\", \"doubleCompactObjects\"))))"
   ]
  },
  {
   "cell_type": "code",
   "execution_count": 174,
   "metadata": {},
   "outputs": [],
   "source": [
    "def get_COMPAS_variable(h5file, param):\n",
    "    \"\"\" Return a variable from the COMPAS output data\n",
    "        h5file --> [h5]    variable containing an h5 File\n",
    "        param  --> [tuple] name of variable and hdf5 keyname \"\"\"\n",
    "    xparam, fxparam = param\n",
    "    return h5file[fxparam][xparam][...].squeeze()"
   ]
  },
  {
   "cell_type": "code",
   "execution_count": 175,
   "metadata": {},
   "outputs": [],
   "source": [
    "def mask_COMPAS_data(h5file, DCO_type, flags):\n",
    "    \"\"\" mask COMPAS data based on type and flags\n",
    "        h5file    --> [h5]         variable containing an h5 File\n",
    "        DCO_type  --> [str]        'ALL', 'BBH', 'BHNS', or 'BNS'\n",
    "        bool_mask --> [bool tuple] flags: (mask binaries not merging in a Hubble time, \n",
    "                                           mask binaries with RLOF secondary after CEE,\n",
    "                                           mask Pessimistic CE binaries) \"\"\"\n",
    "    hubble, RLOF, pessimistic = flags\n",
    "    fDCO = h5file['doubleCompactObjects']\n",
    "    \n",
    "    # get the total number of binaries\n",
    "    BINARIES = len(fDCO['stellarType1'][...].squeeze())\n",
    "    \n",
    "    # store the stellar type of both stars\n",
    "    type1, type2 = fDCO['stellarType1'][...].squeeze(), fDCO['stellarType2'][...].squeeze()\n",
    "    \n",
    "    # create a mask where BH=14 and NS=13\n",
    "    if DCO_type == \"ALL\":\n",
    "        type_mask = np.repeat(True, BINARIES)\n",
    "    elif DCO_type == \"BBH\":\n",
    "        type_mask = np.logical_and(type1 == 14, type2 == 14)\n",
    "    elif DCO_type == \"BNS\":\n",
    "        type_mask = np.logical_and(type1 == 13, type2 == 13)\n",
    "    elif DCO_type == \"BHNS\":\n",
    "        type_mask = np.logical_or(np.logical_and(type1 == 14, type2 == 13),\n",
    "                                  np.logical_and(type1 == 13, type2 == 14))\n",
    "    else:\n",
    "        print(\"Error: Invalid DCO_type\")\n",
    "        return\n",
    "        \n",
    "    if hubble:\n",
    "        hubble_mask = fDCO['mergesInHubbleTimeFlag'][...].squeeze()\n",
    "    else:\n",
    "        hubble_mask = np.repeat(True, BINARIES)\n",
    "        \n",
    "    if RLOF:\n",
    "        rlof_mask = np.logical_not(fDCO['RLOFSecondaryAfterCEE'][...].squeeze())\n",
    "    else:\n",
    "        rlof_mask = np.repeat(True, BINARIES)\n",
    "        \n",
    "    if pessimistic:\n",
    "        pessimistic_mask = np.logical_not(fDCO['optimisticCEFlag'][...].squeeze())\n",
    "    else:\n",
    "        pessimistic_mask = np.repeat(True, BINARIES)\n",
    "    \n",
    "    # combine all masks\n",
    "    mask = type_mask * hubble_mask * rlof_mask * pessimistic_mask\n",
    "        \n",
    "    return mask"
   ]
  },
  {
   "cell_type": "code",
   "execution_count": 231,
   "metadata": {},
   "outputs": [],
   "source": [
    "folder_path = './'\n",
    "file_name = 'COMPASOutput_lowz.h5'\n",
    "\n",
    "file_path = folder_path + file_name\n",
    "\n",
    "fdata = h5.File(file_path, 'r+')"
   ]
  },
  {
   "cell_type": "markdown",
   "metadata": {},
   "source": [
    "## Detection Rate Calculation\n",
    "### Get data and compute necessary variables"
   ]
  },
  {
   "cell_type": "code",
   "execution_count": 177,
   "metadata": {},
   "outputs": [],
   "source": [
    "# retrieve variables\n",
    "m1_all = get_COMPAS_variable(fdata, ['M1', 'doubleCompactObjects'])\n",
    "m2_all = get_COMPAS_variable(fdata, ['M2', 'doubleCompactObjects'])\n",
    "a_all = get_COMPAS_variable(fdata, ['separationDCOFormation', 'doubleCompactObjects'])\n",
    "e_all = get_COMPAS_variable(fdata, ['eccentricityDCOFormation', 'doubleCompactObjects'])\n",
    "tform_all = get_COMPAS_variable(fdata, ['tform', 'doubleCompactObjects'])\n",
    "tc_all = get_COMPAS_variable(fdata, ['tc', 'doubleCompactObjects'])\n",
    "weightsDCO_all = get_COMPAS_variable(fdata, ['weight', 'doubleCompactObjects'])"
   ]
  },
  {
   "cell_type": "code",
   "execution_count": 178,
   "metadata": {},
   "outputs": [],
   "source": [
    "# mask the data to get only BHNSs that merge in a Hubble time, have RLOF and are pessimistic\n",
    "maskBHNSinaHubble = mask_COMPAS_data(fdata, 'BHNS', (True, True, True))\n",
    "\n",
    "# get the chirp mass of these systems\n",
    "m1 = m1_all[maskBHNSinaHubble] * u.M_sun\n",
    "m2 = m2_all[maskBHNSinaHubble] * u.M_sun\n",
    "weightsDCO = weightsDCO_all[maskBHNSinaHubble]\n",
    "a = a_all[maskBHNSinaHubble] * u.au\n",
    "e = e_all[maskBHNSinaHubble]\n",
    "tform = tform_all[maskBHNSinaHubble] * u.Myr"
   ]
  },
  {
   "cell_type": "code",
   "execution_count": 179,
   "metadata": {},
   "outputs": [],
   "source": [
    "# constants\n",
    "MW_AGE = 1e10 * u.yr\n",
    "SNR_CUTOFF = 7\n",
    "TOTAL_BINARIES = len(cm)\n",
    "lisa = li.LISA()"
   ]
  },
  {
   "cell_type": "markdown",
   "metadata": {},
   "source": [
    "Calculate the coalesence time using equation 5.14 from Peters (1964):\n",
    "$$ T\\left(a_{0}, e_{0}\\right) = \\frac{12}{19} \\frac{c_{0}^{4}}{\\beta} \\int_{0}^{e_{0}} \\frac{d e e^{29 / 19}\\left[1+(121 / 304) e^{2}\\right]^{1181 / 2299}}{\\left(1-e^{2}\\right)^{3 / 2}} $$\n",
    "where\n",
    "$$ \\beta = \\frac{64}{5} \\frac{G^3 m_1 m_2 (m_1 + m_2)}{c^5} $$\n",
    "$$ c_0 = a_0 \\frac{(1 - e_0)^2}{e_0^{12/19} (1 + \\frac{121}{304} e_0^2)^{870/2299}} $$"
   ]
  },
  {
   "cell_type": "code",
   "execution_count": 180,
   "metadata": {},
   "outputs": [],
   "source": [
    "def coalescence_time(a0, e0, m1, m2):\n",
    "    \"\"\" Calculate the coalescence of a binary with Peter (1964) Eq. 5.14\n",
    "        a0 --> [array_like] starting semi-major axis\n",
    "        e0 --> [array_like] starting eccentricity\n",
    "        m1 --> [array_like] primary mass\n",
    "        m2 --> [array_like] secondary mass \"\"\"\n",
    "    c0 = a0 * (1.0 - e0**2)*np.power(e0,-12.0/19.0)*np.power(1+(121.0*e0**2/304.0), -870.0/2299.0)\n",
    "    beta = (64 / 5) * (c.G**3 * m1 * m2 * (m1 + m2)) / c.c**5\n",
    "    \n",
    "    def intfunc(e):\n",
    "        return np.power(e, 29/19) * np.power(1 + (121/304)*e**2, 1181/2299) / np.power(1 - e**2, 3/2)\n",
    "    \n",
    "    t_inspr = [((12 / 19) * c0[i]**4 / beta[i] * quad(intfunc, 0, e0[i])[0]).to(u.Myr).value\n",
    "               for i in range(len(e0))]\n",
    "    return t_inspr if len(t_inspr) > 1 else t_inspr[0]\n",
    "\n",
    "tc = coalescence_time(a, e, m1, m2) * u.Myr"
   ]
  },
  {
   "cell_type": "markdown",
   "metadata": {},
   "source": [
    "$$ \\mathcal{M}_c = \\frac{(m_1 m_2)^{3/5}}{(m_1 + m_2)^{1/5}} $$"
   ]
  },
  {
   "cell_type": "code",
   "execution_count": 181,
   "metadata": {},
   "outputs": [],
   "source": [
    "def chirp_mass(m1, m2):\n",
    "    \"\"\" Calculate the chirp mass of a binary system\n",
    "        m1 --> [array_like] primary mass\n",
    "        m2 --> [array_like] secondary mass \"\"\"\n",
    "    return np.divide(np.power(np.multiply(m1, m2), 3/5), np.power(np.add(m1, m2), 1/5))\n",
    "cm = chirp_mass(m1, m2)"
   ]
  },
  {
   "cell_type": "markdown",
   "metadata": {},
   "source": [
    "Calculate the gravitational wave frequency (twice the orbital frequency)\n",
    "$$ f_{\\rm GW} (a, m_1, m_2) = \\frac{1}{\\pi} \\sqrt{\\frac{G (m_1 + m_2)}{a^3}} $$"
   ]
  },
  {
   "cell_type": "code",
   "execution_count": 182,
   "metadata": {
    "scrolled": true
   },
   "outputs": [],
   "source": [
    "def gw_frequency(a, m1, m2):\n",
    "    \"\"\" Convert separation of a binary to frequency.\n",
    "        a  --> [array_like] separation of binary\n",
    "        m1 --> [array_like] mass of primary star\n",
    "        m2 --> [array_like] mass of secondary star \"\"\"\n",
    "    freq = (1 / np.pi) * np.sqrt(np.divide(c.G * np.add(m1, m2), np.power(a, 3)))\n",
    "    return freq.to(1 / u.s)\n",
    "\n",
    "# convert the separation to frequency\n",
    "freq = gw_frequency(a, m1, m2)"
   ]
  },
  {
   "cell_type": "markdown",
   "metadata": {},
   "source": [
    "## 2. Plot Sensitivity Curve with one simulation\n",
    "### Strain and SNR Functions"
   ]
  },
  {
   "cell_type": "markdown",
   "metadata": {},
   "source": [
    "First, we are going to need two functions $F(e)$ and $g(n, e)$ in the following calculations each of which is defined as follows in Peters (1963).\n",
    "$$ F(e) = \\frac{1+(73 / 24) e^{2}+(37 / 96) e^{4}}{\\left(1-e^{2}\\right)^{7 / 2}} $$"
   ]
  },
  {
   "cell_type": "code",
   "execution_count": 183,
   "metadata": {},
   "outputs": [],
   "source": [
    "def F(e):\n",
    "    \"\"\" Calculate F(e) from Peters (1963) Eq.17\n",
    "        e --> [array_like] eccentricity \"\"\"\n",
    "    return np.divide(1 + 73/24 * np.square(e) + 37/96 * np.power(e, 4), np.power(1 - np.square(e), 7/2))"
   ]
  },
  {
   "cell_type": "markdown",
   "metadata": {},
   "source": [
    "Noting that $J_{n}(ne)$ is a Bessel function of the first kind\n",
    "$$ \\begin{aligned}\n",
    "g(n, e)=& \\frac{n^{4}}{32}\\left\\{\\left[J_{n-2}(n e)-2 e J_{n-1}(n e)+\\frac{2}{n} J_{n}(n e)+2 e J_{n+1}(n e)-J_{n+2}(n e)\\right]^{2}\\right.\\\\\n",
    "&\\left.+\\left(1-e^{2}\\right)\\left[J_{n-2}(n e)-2 J_{n}(n e)+J_{n+2}(n e)\\right]^{2}+\\frac{4}{3 n^{2}}\\left[J_{n}(n e)\\right]^{2}\\right\\}\n",
    "\\end{aligned} $$"
   ]
  },
  {
   "cell_type": "code",
   "execution_count": 184,
   "metadata": {},
   "outputs": [],
   "source": [
    "def g(n, e):\n",
    "    \"\"\" Calculate g(n, e) from Peters (1963) Eq.20\n",
    "        n  --> [int]        harmonic number\n",
    "        e  --> [array_like] eccentricity\"\"\"\n",
    "    ne = n * e\n",
    "    return (n**4 / 32.0) * (\n",
    "        np.square(jv(n - 2, ne) - 2 * e * jv(n - 1, ne) + (2.0 / n) * jv(n, ne) + 2 * e * jv(n + 1, ne) - jv(n + 2, ne)) +\n",
    "        (1 - np.square(e)) * np.square(jv(n - 2, ne) - 2 * jv(n, ne) + jv(n + 2, ne)) +\n",
    "        (4 / (3.0 * n**2)) * np.square(jv(n, ne))\n",
    "    )"
   ]
  },
  {
   "cell_type": "markdown",
   "metadata": {},
   "source": [
    "The characteristic strain is defined as the following (e.g, Barack & Cutler, 2004)\n",
    "$$ h_{c,n}^2 = \\frac{1}{(\\pi D)^2} \\left( \\frac{2 G}{c^3} \\frac{\\dot{E}_n}{\\dot{f_n}} \\right) $$\n",
    "where $\\dot{E}_n$ is given in Peters (1963) as\n",
    "$$ \\frac{32}{5} \\frac{G^{7 / 3}}{c^{5}}\\left(2 \\pi f_{\\mathrm{orb}} \\mathcal{M}_{c}\\right)^{10 / 3} g(n, e) $$\n",
    "and $ \\dot{f}_n = n \\dot{f}_{\\rm orb} $ which is equal to\n",
    "$$ \n",
    "\\begin{align}\n",
    "    \\frac{\\mathrm{d} f_{\\rm orb}}{\\mathrm{d} t} &= \\frac{\\mathrm{d} f_{\\rm orb}}{\\mathrm{d} a} \\frac{\\mathrm{d} a}{\\mathrm{d} t} \\\\\n",
    "    &= - \\frac{3}{4 \\pi} \\frac{\\sqrt{ G (m_1 + m_2) }}{a^{5/2}} \\cdot - \\frac{64}{5} \\frac{G^3 m_1 m_2 (m_1 + m_2)}{c^5} F(e) \\\\\n",
    "    &= - \\frac{48}{5 \\pi} \\frac{(G \\mathcal{M}_c)^{5/3}}{c^5} (2 \\pi f_{\\rm orb})^{11/3} F(e)\n",
    "\\end{align}\n",
    "$$\n",
    "combining these expressions gives a final equation for the characteristic strain\n",
    "$$ \\boxed{ h_{c, n}^{2}=\\frac{2}{3 \\pi^{4 / 3}} \\frac{\\left(G \\mathcal{M}_{c}\\right)^{5 / 3}}{c^{3} D_{L}^{2}} \\frac{1}{f_{n}^{1 / 3}}\\left(\\frac{2}{n}\\right)^{2 / 3} \\frac{g(n, e)}{F(e)} } $$"
   ]
  },
  {
   "cell_type": "code",
   "execution_count": 185,
   "metadata": {
    "scrolled": true
   },
   "outputs": [],
   "source": [
    "HC2_CONSTS = np.divide(2 * np.power(c.G, 5/3), 3 * np.power(np.pi, 4/3) * np.power(c.c, 3))\n",
    "def characteristic_strain(Mc, D, f, e, n):\n",
    "    \"\"\" Find the nth harmonic *characteristic* strain caused by a binary\n",
    "        Mc --> [array_like] Chirp Mass\n",
    "        D  --> [array_like] Distance\n",
    "        f  --> [array_like] Gravitational Wave Frequency (2 * orbital)\n",
    "        n  --> [int]        Harmonic Number \"\"\"\n",
    "    hcn2 = HC2_CONSTS * np.power(Mc, 5/3.) / np.power(D, 2) / np.power(f / 2. * n, 1/3) * \\\n",
    "           np.power(2 / n, 2/3) * (g(n, e) / F(e))\n",
    "    return np.sqrt(hcn2).decompose()\n",
    "\n",
    "def total_characteristic_strain(Mc, D, f, e, nf=100):\n",
    "    \"\"\" Find the total *characteristic* strain caused by a binary up to the nfth harmonth\n",
    "        Mc --> [array_like] Chirp Mass\n",
    "        D  --> [array_like] Distance\n",
    "        f  --> [array_like] Gravitational Wave Frequency (2 * orbital)\n",
    "        nf --> [int]        Final harmonic number of sum \"\"\"\n",
    "    return np.sum([characteristic_strain(Mc, D, f, e, n) for n in range(1, nf)], axis=0)\n",
    "\n",
    "def total_ASD(Mc, D, f, e, Tobs=4 * u.yr, nf=100):\n",
    "    hnpre = np.sqrt(2**(25/3) / 5) * np.multiply(np.divide(np.power(c.G * Mc, 5/3), D * c.c**4), \n",
    "                                                         np.power((f / 2) * np.pi, 2/3))\n",
    "    hnsum = np.sqrt(np.sum([g(n, e) / (n**2) for n in range(1, nf)], axis=0))\n",
    "    asd = hnpre * hnsum * np.sqrt(Tobs)\n",
    "    return asd.to(u.Hz**(-1/2))"
   ]
  },
  {
   "cell_type": "markdown",
   "metadata": {},
   "source": [
    "Finally, the signal-to-noise ratio. This is defined in Finn & Thorne (2000) as\n",
    "$$ \\left(\\frac{S}{N}\\right)^2 = \\int\\left[\\frac{h_{c, m}\\left(f_{m}\\right)}{h_{\\mathrm{n}}\\left(f_{m}\\right)}\\right]^{2} d \\ln f_{m}. $$\n",
    "Yet, since LISA BHNS binaries are stationary in frequency space, we can write this without the integral\n",
    "$$ \\left(\\frac{S}{N}\\right)^{2} \\approx \\sum_{n=1}^{\\infty}\\left[\\frac{h_{n}\\left(f_{n}\\right)}{h_{f}\\left(f_{n}\\right)}\\right]^{2} f_{n} T_{\\mathrm{obs}}, $$\n",
    "and this can be further simplifed by converting to using the amplitude spectral density of the noise of LISA\n",
    "$$ \\left(\\frac{S}{N}\\right)^{2} \\approx T_{\\mathrm{obs}} \\sum_{n=1}^{\\infty} \\frac{h_n^2(f_n)}{S_n(f_n)}. $$\n",
    "We know from Finn & Thorne (2000) that the strain can be written in terms of the characteristic strain as\n",
    "$$ h_n^2 = \\left(\\frac{\\dot{f_n}}{2 f_n^2} \\right) h_{c, n}^2, $$\n",
    "which gives the equation for the strain (using the equation for characteristic strain above) as\n",
    "$$ h_n^2 = \\frac{2^{25/3}}{5} \\frac{\\left(G \\mathcal{M}_{c}\\right)^{10/3}}{c^{8}} \\frac{\\left(\\pi f_{\\mathrm{orb}}\\right)^{4 / 3}}{D^2} \\frac{g(n, e)}{n^2}, $$\n",
    "therefore we can write a final expression for the signal-to-noise ratio as:\n",
    "$$ \\boxed{ \\left(\\frac{S}{N}\\right)^2 \\approx \\frac{2^{25/3}}{5} \\frac{\\left(G \\mathcal{M}_c \\right)^{10/3}}{c^8} \\frac{(\\pi f_{\\rm orb})^{4/3}}{D^2} \\cdot T_{\\mathrm{obs}} \\cdot \\sum_{n=1}^{\\infty} \\frac{g(n, e)}{n^2} \\frac{1}{S_n(f_n)} } $$"
   ]
  },
  {
   "cell_type": "code",
   "execution_count": 186,
   "metadata": {},
   "outputs": [],
   "source": [
    "def calc_snr(Mc, D, f, Sn, e, T=4*u.yr, nf=100):\n",
    "    \"\"\" Find the signal-to-noise ratio for a LISA binary\n",
    "        Mc --> [array_like] Chirp Mass\n",
    "        D  --> [array_like] Distance\n",
    "        f  --> [array_like] Frequency\n",
    "        Sn --> [function]   Sensitivity curve to check against\n",
    "        e  --> [array_like] Eccentricity\n",
    "        T  --> [float]      Observing Time (Default LISA Mission Length)\n",
    "        nf --> [int]        Final value of n \"\"\"\n",
    "    \n",
    "    # calculate prefactor to the sum\n",
    "    prefactor = np.sqrt(2**(25/3) * T / 5) * np.multiply(np.divide(np.power(c.G * Mc, 5/3), D * c.c**4), \n",
    "                                                         np.power((f / 2) * np.pi, 2/3))\n",
    "    \n",
    "    # sum over the contributions from different harmonics\n",
    "    sum_over_harmonics = np.sum([g(n, e) / (n**2 * Sn((f.to(u.Hz).value / 2 * n))) for n in range(1, nf)], axis=0)\n",
    "    \n",
    "    # return the product\n",
    "    return np.multiply(prefactor.to(u.s**(1/2)).value, np.sqrt(sum_over_harmonics))"
   ]
  },
  {
   "cell_type": "markdown",
   "metadata": {},
   "source": [
    "### Orbit Evolution Functions\n",
    "These functions evolve the eccentricity and allow us to convert this to a final semi-major axis.\n",
    "\n",
    "The rate of change of eccentricity (Peters, 1964, Eq. 5.13) and be integrated to find the final eccentricity\n",
    "$$ \\frac{\\mathrm{d}e}{\\mathrm{d}t} = -\\frac{19}{12} \\frac{\\beta}{c_0^4} \\frac{e^{-29/19} (1 - e^2)^{3/2}}{\\left(1 + \\frac{121}{304} e^2\\right)^{1181/2299}}, $$\n",
    "where $\\beta$ and $c_0$ are defined above. This final eccentricity and then be converted to a final semi-major axis using Peters (1964) Eq. 5.11\n",
    "$$ a(e) = \\frac{c_0 e^{12/19}}{(1 - e^2)} \\left[1 + \\frac{121}{304} e^2 \\right]^{870/2299} $$"
   ]
  },
  {
   "cell_type": "code",
   "execution_count": 187,
   "metadata": {},
   "outputs": [],
   "source": [
    "def dedt(e, beta, c0):\n",
    "    \"\"\" Rate of change of eccentricity from Peters (1964) Eq. 5.13\n",
    "        e    --> [array_like] eccentricity\n",
    "        beta --> [array_like] beta constant from Peters (1964), see Eq. 5.9\n",
    "        c0   --> [array_like] c0 constant from Peters (1964), see Eq. 5.11 \"\"\"\n",
    "    return - (19 / 12) * (beta / np.power(c0, 4)) * (np.power(e, -29/19) * np.power(1 - np.square(e), 3/2)) \\\n",
    "            / np.power(1 + (121/304) * np.square(e), 1181.0/2299.0)\n",
    "\n",
    "def evolve_eccentricity(e0, a0, m1, m2, t, nsteps=10000):\n",
    "    \"\"\" Evolve the eccentricity of a binary by numerically integrating\n",
    "        e0     --> [array_like] starting eccentricity\n",
    "        a0     --> [array_like] starting semi major axis\n",
    "        m1     --> [array_like] primary star mass\n",
    "        m2     --> [array_like] secondary star mass\n",
    "        t      --> [array_like] evolution time\n",
    "        nsteps --> [int]        number of integration steps to take \"\"\"\n",
    "    # calculate constants\n",
    "    c0 = (a0 * (1.0 - np.square(e0)) * np.power(e0,-12.0/19.0) * \\\n",
    "          np.power(1 + (121.0/304.0) * np.square(e0), -870.0/2299.0)).to(u.m).value\n",
    "    beta = (64/5 * c.G**3 * m1 * m2 * (m1 + m2) / c.c**5).to(u.m**4 / u.s).value\n",
    "\n",
    "    # initialise values\n",
    "    e = np.array(e0)\n",
    "\n",
    "    # find time step\n",
    "    dt = np.divide(t.to(u.s).value, nsteps)\n",
    "\n",
    "    # perform Euler's method\n",
    "    for i in range(nsteps):\n",
    "        e = e + dedt(e, beta, c0) * dt\n",
    "        a = e_to_a(e, c0)\n",
    "        c0 = f(e, a)\n",
    "    return e, c0 * u.m\n",
    "\n",
    "def e_to_a(e, c0):\n",
    "    \"\"\" Convert eccentricity to semi major axis using Peters (1964) Eq. 5.11\n",
    "        e  --> [array_like] eccentricity\n",
    "        c0 --> [array_like] c0 constant from Peters (1964), see Eq. 5.11 \"\"\"\n",
    "    a = c0 / (1.0 - np.square(e)) * np.power(e, 12.0/19.0) * np.power(1+(121.0*np.square(e)/304.0), 870.0/2299.0)\n",
    "    return a.to(u.AU)"
   ]
  },
  {
   "cell_type": "code",
   "execution_count": 201,
   "metadata": {},
   "outputs": [
    {
     "name": "stdout",
     "output_type": "stream",
     "text": [
      "[]\n"
     ]
    }
   ],
   "source": [
    "def myhn(mc, D, forb, e, n):\n",
    "    CONST = 2**(25/3.0) / 5.0 * c.G**(10/3.0) / c.c**8\n",
    "    factor = mc**(10/3.0) * (np.pi * forb)**(4/3.0) / D**2\n",
    "    nfac = g(n, e) / n**2\n",
    "    \n",
    "    return np.sqrt(CONST * factor * nfac)\n",
    "\n",
    "x = np.log10(myhn(masses, distances, freq_currents / 2, e_currents, 2).decompose()).astype(int)\n",
    "y = np.log10(bre.h_ecc_stationary(mass1.value, mass2.value, (2 / freq_currents).value, distances.to(u.kpc).value, e_currents, 2)).astype(int)\n",
    "\n",
    "z = y - x\n",
    "print(z[z>0])"
   ]
  },
  {
   "cell_type": "markdown",
   "metadata": {},
   "source": [
    "### Milky Way Simulation Functions\n",
    "These functions use the density distributions from McMillan to sample a mock Milky Way assuming there is only a disk."
   ]
  },
  {
   "cell_type": "code",
   "execution_count": 26,
   "metadata": {},
   "outputs": [],
   "source": [
    "def random_mw_radius_or_height(count, scale_length):\n",
    "    \"\"\" \n",
    "        Create a random sample of radii or heights using McMillan (2011)\n",
    "        and the inverse CDF method.\n",
    "        \n",
    "        Args:\n",
    "            count        --> [int]             number of lengths\n",
    "            scale_length --> [array_like, kpc] scale length\n",
    "        \n",
    "        Returns:\n",
    "            r (or z)     --> [array_like, kpc] random radii or heights\n",
    "    \"\"\"\n",
    "    u = np.random.rand(count)\n",
    "    r = - scale_length * np.log(1 - u)\n",
    "    return r[0] if count == 1 else r\n",
    "\n",
    "def simulate_milky_way(count=1, components=[\n",
    "                                    {\"type\": \"disk\", \"scale_height\": 0.3 * u.kpc, \"scale_radius\": 2.6 * u.kpc}\n",
    "                                ]):\n",
    "    \"\"\"\n",
    "        Create a random sample of positions in Milky Way and return distances to these points\n",
    "        Uses McMillan (2011) for Milky Models\n",
    "        \n",
    "        Args:\n",
    "            count      --> [int]              number of positions to simulate\n",
    "            components --> [array_like, dict] array of Milky Way components\n",
    "            \n",
    "            Each component is a dictionary with information about what type of component it is\n",
    "            and the scale of heights and radii.\n",
    "            Example: {\"type\": \"disk\", \"scale_height\": 0.3 * u.kpc, \"scale_radius\": 2.6 * u.kpc}\n",
    "            \n",
    "            Allowed types are 'disk', 'bulge', and 'halo'.\n",
    "            \n",
    "        Returns:\n",
    "            distances  --> [array_like, kpc]  array of distances to each random position\n",
    "    \"\"\"\n",
    "    EARTH_TO_MW_CENTRE = 8.2 * u.kpc\n",
    "    \n",
    "    # single component Milky Way model\n",
    "    if len(components) == 1 and components[0][\"type\"] == \"disk\":\n",
    "        \n",
    "        # randomise radii and heights\n",
    "        radii = random_mw_radius_or_height(count, 2.6 * u.kpc)\n",
    "        heights = random_mw_radius_or_height(count, 0.3 * u.kpc) * np.random.choice([-1, 1], count)\n",
    "\n",
    "        # sample angles uniformly on a circle\n",
    "        angles = 2 * np.pi * np.random.rand(count)\n",
    "\n",
    "        # calculate the distance to each coordinate\n",
    "        distances = np.sqrt(np.square(heights) + np.square(radii) + np.square(EARTH_TO_MW_CENTRE) \\\n",
    "                            - 2 * radii * EARTH_TO_MW_CENTRE * np.cos(angles))\n",
    "        return distances[0] if count == 1 else distances\n",
    "    else:\n",
    "        # TODO: implement multi-component galaxies\n",
    "        raise NotImplementedError"
   ]
  },
  {
   "cell_type": "code",
   "execution_count": 37,
   "metadata": {},
   "outputs": [
    {
     "data": {
      "image/png": "[encoded data removed]",
      "text/plain": [
       "<Figure size 432x288 with 1 Axes>"
      ]
     },
     "metadata": {
      "needs_background": "light"
     },
     "output_type": "display_data"
    }
   ],
   "source": [
    "plt.hist(simulate_milky_way(10000).value, bins='auto', density=True)\n",
    "plt.show()"
   ]
  },
  {
   "cell_type": "code",
   "execution_count": 190,
   "metadata": {},
   "outputs": [],
   "source": [
    "def random_mw_radius_or_height(count=1, Rd=2.6 * u.kpc):\n",
    "    \"\"\" Create a random sample of radii or heights using the inverse CDF method.\n",
    "        Default Rd = 2.6kpc for radius, 0.3kpc for height\n",
    "        count --> [int]   number of distances\n",
    "        Rd    --> [float] disk scale length \"\"\"\n",
    "    u = np.random.rand(count)\n",
    "    r = - Rd * np.log(1 - u)\n",
    "    return r if count == 1 else r[0]"
   ]
  },
  {
   "cell_type": "code",
   "execution_count": 191,
   "metadata": {},
   "outputs": [],
   "source": [
    "def create_random_distances(count=1):\n",
    "    EARTH_TO_MW_CENTRE = 8 * u.kpc\n",
    "    \n",
    "    # sample random radii from McMillan distribution\n",
    "    radii = random_mw_radius_or_height(count)\n",
    "    \n",
    "    # sample random heights from McMillan and randomise above or below plane\n",
    "    heights = random_mw_radius_or_height(count, 0.3 * u.kpc) * np.random.choice([-1, 1], count)\n",
    "    \n",
    "    # sample angles uniformly on a circle\n",
    "    angles = 2 * np.pi * np.random.rand(count)\n",
    "    \n",
    "    # calculate the distance to each coordinate\n",
    "    distances = np.sqrt(np.square(heights) + np.square(radii) + np.square(EARTH_TO_MW_CENTRE) \\\n",
    "                        - 2 * radii * EARTH_TO_MW_CENTRE * np.cos(angles))\n",
    "    return distances"
   ]
  },
  {
   "cell_type": "code",
   "execution_count": 49,
   "metadata": {},
   "outputs": [],
   "source": [
    "def random_inspiral_times(count, evolution_times, age=10*u.Gyr):\n",
    "    \"\"\"\n",
    "        Create a random sample of insprial times, assuming constant star formation\n",
    "        \n",
    "        Args:\n",
    "            count -->\n",
    "            evolution_times -->\n",
    "    \"\"\"\n",
    "    \n",
    "    if count == 1 and not isinstance(evolution_times.value, float) \\\n",
    "        or len(evolution_times) != count:\n",
    "            print(\"Error: Count must match the number of evolution times provided.\")\n",
    "            raise IndexError\n",
    "    \n",
    "    # randomise birth times uniformly\n",
    "    formation_times = np.random.rand(count) * age\n",
    "\n",
    "    # double compact object is formed t_form after t_birth\n",
    "    DCO_times = formation_times + evolution_times\n",
    "\n",
    "    # binary will inspiral for the rest of the age of the Milky Way\n",
    "    inspiral_times = age - DCO_times\n",
    "    \n",
    "    return insprial_times"
   ]
  },
  {
   "cell_type": "code",
   "execution_count": 50,
   "metadata": {},
   "outputs": [
    {
     "ename": "NameError",
     "evalue": "name 'tform' is not defined",
     "output_type": "error",
     "traceback": [
      "\u001b[0;31m---------------------------------------------------------------------------\u001b[0m",
      "\u001b[0;31mNameError\u001b[0m                                 Traceback (most recent call last)",
      "\u001b[0;32m<ipython-input-50-261a5ef9c1ef>\u001b[0m in \u001b[0;36m<module>\u001b[0;34m\u001b[0m\n\u001b[0;32m----> 1\u001b[0;31m \u001b[0mprint\u001b[0m\u001b[0;34m(\u001b[0m\u001b[0mrandom_inspiral_times\u001b[0m\u001b[0;34m(\u001b[0m\u001b[0mlen\u001b[0m\u001b[0;34m(\u001b[0m\u001b[0mtform\u001b[0m\u001b[0;34m)\u001b[0m\u001b[0;34m,\u001b[0m \u001b[0mtform\u001b[0m\u001b[0;34m)\u001b[0m\u001b[0;34m)\u001b[0m\u001b[0;34m\u001b[0m\u001b[0;34m\u001b[0m\u001b[0m\n\u001b[0m",
      "\u001b[0;31mNameError\u001b[0m: name 'tform' is not defined"
     ]
    }
   ],
   "source": [
    "print(random_inspiral_times(len(tform), tform))"
   ]
  },
  {
   "cell_type": "markdown",
   "metadata": {},
   "source": [
    "### One simulation of the Milky Way and LISA"
   ]
  },
  {
   "cell_type": "code",
   "execution_count": 208,
   "metadata": {
    "scrolled": false
   },
   "outputs": [
    {
     "name": "stdout",
     "output_type": "stream",
     "text": [
      "0 0 1\n",
      "[] [] [7.98455627]\n"
     ]
    }
   ],
   "source": [
    "# create random list of start times\n",
    "starts = np.random.rand(TOTAL_BINARIES) * MW_AGE\n",
    "\n",
    "# double compact object is formed at the start time + formation time\n",
    "dco_starts = starts + tform\n",
    "\n",
    "# binary will evolve for the rest of the age of the milky way\n",
    "evolution_times = MW_AGE - dco_starts\n",
    "\n",
    "# check which binaries will have already merged\n",
    "still_merging = evolution_times < tc\n",
    "\n",
    "# mask the variables to remove binaries that have already merged\n",
    "evolution_times = evolution_times[still_merging]\n",
    "weights = weightsDCO[still_merging]\n",
    "masses = cm[still_merging]\n",
    "times = tform[still_merging]\n",
    "births = dco_starts[still_merging]\n",
    "mass1, mass2 = m1[still_merging], m2[still_merging]\n",
    "a_init = a[still_merging]\n",
    "e_init = e[still_merging]\n",
    "tco = tc[still_merging]\n",
    "\n",
    "TOTAL_REMAINING = len(a_init)\n",
    "\n",
    "# find current eccentricity and convert this to separation and frequency\n",
    "e_currents, c0 = evolve_eccentricity(e_init, a_init, mass1, mass2, evolution_times, 100)\n",
    "a_currents = e_to_a(e_currents, c0)\n",
    "freq_currents = gw_frequency(a_currents, mass1, mass2)\n",
    "\n",
    "# give each binary a random position and find its distance from the Earth\n",
    "distances = create_random_distances(TOTAL_REMAINING)\n",
    "\n",
    "# calculate the SNR for different gravitational wave detectors\n",
    "snr = calc_snr(masses, distances, freq_currents, lisa.Sn, e_currents, 4 * u.yr)\n",
    "long_snr = calc_snr(masses, distances, freq_currents, lisa.Sn, e_currents, 10 * u.yr)\n",
    "muAres_snr = calc_snr(masses, distances, freq_currents, muAres.Sn_ares_full, e_currents, 10 * u.yr)\n",
    "cstrain = total_characteristic_strain(masses, distances, freq_currents, e_currents)\n",
    "\n",
    "# print out how many detection and their SNRs\n",
    "print(len(snr[snr > 7]), len(long_snr[long_snr > 7]), len(muAres_snr[muAres_snr > 7]))\n",
    "print(snr[snr > 7], long_snr[long_snr > 7], muAres_snr[muAres_snr > 7])"
   ]
  },
  {
   "cell_type": "code",
   "execution_count": 295,
   "metadata": {},
   "outputs": [],
   "source": [
    "asd = total_ASD(masses, distances, freq_currents, e_currents)"
   ]
  },
  {
   "cell_type": "code",
   "execution_count": 221,
   "metadata": {},
   "outputs": [],
   "source": [
    "def plot_sensitivity_with_binaries(Sn, yvals, snr, frequency, label, e=None, asd=False,\n",
    "                                   filename=None, hide_binaries=False, alt_sn=None):\n",
    "    \"\"\" Plot a gravitational wave sensitivty curve with simulated binaries overlaid\n",
    "        Sn            --> [function] sensitivty curve of detector\n",
    "        yvals         --> [array_like] either characteristic strain or ASD of binaries\n",
    "        snr           --> [array_like] SNR of binaries\n",
    "        frequency     --> [array_like] GW frequency of binaries\n",
    "        label         --> [str]        Colourbar label\n",
    "        e             --> [array_like] Eccentricity (if present, colour by e instead of snr)\n",
    "        asd           --> [bool]       Plot ASD instead of characteristic strain\n",
    "        filename      --> [str]        Name of file (if present, save plot in file)\n",
    "        hide_binaries --> [bool]       Whether to show the undetectable binaries\n",
    "        alt_sn        --> [function]   An alternative sensitivity curve \"\"\"\n",
    "    \n",
    "    # remove the *really* undetectable things\n",
    "    mask = snr > 1e-4\n",
    "    yvals, snr, frequency = yvals[mask], snr[mask], frequency[mask]\n",
    "    if e is not None:\n",
    "        e = e[mask]\n",
    "    \n",
    "    # define detectable binaries as above a certain SNR cutoff\n",
    "    detectable = snr > SNR_CUTOFF\n",
    "    \n",
    "    # work out the minimum frequency power of 10\n",
    "    if hide_binaries and len(snr[detectable]) > 0:\n",
    "        minfpow = int(np.floor(np.log10(frequency[detectable].min().value)))\n",
    "    else:\n",
    "        minfpow = int(np.floor(np.log10(frequency.min().value)))\n",
    "    \n",
    "    # define the range of frequencies to plot\n",
    "    frange = np.logspace(minfpow, -2, 1000)\n",
    "        \n",
    "    print(snr)\n",
    "    heights = yvals / np.sqrt(frequency * Sn(frequency.value))\n",
    "    print(heights)\n",
    "    print(heights / snr)\n",
    "\n",
    "    # create a new figure\n",
    "    fig, ax = plt.subplots(1, figsize=(12, 9))\n",
    "    plt.tight_layout()\n",
    "\n",
    "    # set and size axes labels\n",
    "    ax.set_xlabel(r'Frequency [Hz]', fontsize=1.5*fs, labelpad=10)\n",
    "    \n",
    "    if asd:\n",
    "        ax.set_ylabel(r'ASD $[\\rm Hz^{-1/2}]$', fontsize=1.5*fs, labelpad=10)\n",
    "    else:\n",
    "        ax.set_ylabel(r'Characteristic Strain', fontsize=1.5*fs, labelpad=10)\n",
    "    ax.tick_params(axis='both', which='major', labelsize=1.5*fs)\n",
    "\n",
    "    ax.set_xlim(np.power(10.0, minfpow), 1e-2)\n",
    "\n",
    "    cmap = 'plasma_r'\n",
    "    color = matplotlib.cm.get_cmap(cmap)(1.0)\n",
    "    \n",
    "    sensitivity_y = np.sqrt(Sn(frange)) if asd else np.sqrt(frange * Sn(frange))\n",
    "    \n",
    "    ax.loglog(frange, sensitivity_y, color=color)\n",
    "    ax.fill_between(frange, sensitivity_y, alpha=0.2, color=color)\n",
    "    \n",
    "    if alt_sn:\n",
    "        alt_sensitivity_y = np.sqrt(alt_sn(frange)) if asd else np.sqrt(frange * alt_sn(frange))\n",
    "        ax.loglog(frange, alt_sensitivity_y, color=color)\n",
    "        ax.fill_between(frange, alt_sensitivity_y, alpha=0.2, color=color)\n",
    "    \n",
    "    if e is not None:\n",
    "        boundaries = np.linspace(0, 1, 11)\n",
    "        norm = matplotlib.colors.BoundaryNorm(boundaries, plt.cm.plasma.N)\n",
    "        cmap = 'plasma'\n",
    "    else:\n",
    "        boundaries = np.logspace(-4, 2, 13)\n",
    "        norm = matplotlib.colors.BoundaryNorm(boundaries, plt.cm.plasma_r.N)\n",
    "    \n",
    "    colourvar = snr if e is None else e\n",
    "    if hide_binaries:        \n",
    "        p = ax.scatter(frequency[detectable], yvals[detectable], s=weights*1000, c=colourvar[detectable], cmap=cmap, norm=norm, label=\"Detectable Binaries\")\n",
    "    else:\n",
    "        p = ax.scatter(frequency.value, yvals,\n",
    "                       s=weights*100, c=colourvar, cmap=cmap, norm=norm, label=\"Undetectable Binaries\")\n",
    "        ax.scatter(frequency[detectable], yvals[detectable], s=150, marker=\"*\", c=colourvar[detectable], cmap=cmap, norm=norm, label=\"Detectable Binaries\")\n",
    "        legend = plt.legend(loc='best', fontsize=fs)\n",
    "        legend.legendHandles[0].set_sizes([150])\n",
    "        legend.legendHandles[0].set_facecolor(matplotlib.cm.get_cmap('plasma_r')(0.2))\n",
    "        legend.legendHandles[1].set_sizes([250])\n",
    "        legend.legendHandles[1].set_facecolor(matplotlib.cm.get_cmap('plasma_r')(1.0))\n",
    "    \n",
    "    if e is None:\n",
    "        def fmt(x, pos):\n",
    "            a, b = '{:0e}'.format(x).split('e')\n",
    "            b = int(b)\n",
    "            return r'$10^{{{}}}$'.format(b)\n",
    "        cbar = plt.colorbar(p, ticks=boundaries[::2], format=matplotlib.ticker.FuncFormatter(fmt))\n",
    "    else:\n",
    "        cbar = plt.colorbar(p, ticks=boundaries[::2])\n",
    "        yval = norm(SNR_CUTOFF) / norm(1e2)\n",
    "        cbar.ax.plot([-0.1, 1.1], [yval, yval], linewidth=3, color='white')\n",
    "    cbar.set_label(label=label, fontsize=1.5*fs, labelpad=15)\n",
    "    cbar.ax.tick_params(labelsize=fs)\n",
    "\n",
    "    if filename:\n",
    "        fig.savefig(filename.replace(\".png\", \".pdf\"), format=\"pdf\", bbox_inches='tight')\n",
    "        fig.savefig(filename, bbox_inches='tight')\n",
    "\n",
    "    plt.show()"
   ]
  },
  {
   "cell_type": "code",
   "execution_count": 223,
   "metadata": {
    "scrolled": false
   },
   "outputs": [
    {
     "name": "stdout",
     "output_type": "stream",
     "text": [
      "[0.0004672  0.01058906 0.00415189 ... 0.00119418 0.00262004 0.00150492]\n",
      "[ 36.45480028 227.13268072 133.9069342  ...  62.97888155   8.3926395\n",
      "  37.93671667] s(1/2)\n",
      "[78027.60272569 21449.75726254 32252.03314979 ... 52738.16838986\n",
      "  3203.24882881 25208.44489134] s(1/2)\n"
     ]
    },
    {
     "data": {
      "image/png": "[encoded data removed]",
      "text/plain": [
       "<Figure size 864x648 with 2 Axes>"
      ]
     },
     "metadata": {
      "image/png": {
       "height": 718,
       "width": 998
      },
      "needs_background": "light"
     },
     "output_type": "display_data"
    }
   ],
   "source": [
    "lisa = li.LISA()\n",
    "plot_sensitivity_with_binaries(lisa.Sn, cstrain, snr, freq_currents, \"Eccentricity\", hide_binaries=False)#, \"LISA_sensitivity_with_binaries_4years.png\")\n",
    "# plot_sensitivity_with_binaries(lisa.Sn, cstrain * np.power(freq_currents, -1/2), snr, freq_currents, \"Eccentricity\", asd=True, hide_binaries=False)#, \"LISA_sensitivity_with_binaries_4years.png\")\n",
    "# plot_sensitivity_with_binaries(lisa.Sn, cstrain, long_snr, freq_currents, \"Eccentricity: 10 Year Mission\", e_currents, hide_binaries=False)#, \"LISA_sensitivity_with_binaries_10years.png\")\n",
    "# plot_sensitivity_with_binaries(muAres.Sn_ares_full, cstrain, muAres_snr, freq_currents, r\"Eccentricity: $\\mu$-Ares\", e_currents, hide_binaries=False)#, \"muAres_sensitivity_with_binaries.png\")"
   ]
  },
  {
   "cell_type": "markdown",
   "metadata": {},
   "source": [
    "### 3. Run simulation 25,000 times to get a rate"
   ]
  },
  {
   "cell_type": "code",
   "execution_count": null,
   "metadata": {},
   "outputs": [],
   "source": [
    "# run the simulation with LOOPS number of trials\n",
    "LOOPS = 1000\n",
    "st = time.time()\n",
    "TOTAL_BINARIES = len(cm)\n",
    "\n",
    "# for each store the number that are detectable\n",
    "count_list = np.zeros(LOOPS)\n",
    "weight_list = np.zeros(LOOPS)\n",
    "detectable_binaries = np.zeros(LOOPS * 20, dtype=[\n",
    "    (\"weight\", 'f4'), ('mass', 'f4'), ('separation', 'f4'), ('birth', 'f4'), ('frequency', 'f4'), \n",
    "    ('snr', 'f4'), ('m1', 'f4'), ('m2', 'f4'), ('distance', 'f4'), ('tform', 'f4'), ('a_init', 'f4'), ('tc', 'f4')\n",
    "])\n",
    "detections = 0\n",
    "for i in range(LOOPS):\n",
    "    # create random list of start times\n",
    "    starts = np.random.rand(TOTAL_BINARIES)\n",
    "    \n",
    "    # double compact object starts after formation time\n",
    "    dco_starts = starts * MW_AGE + tform\n",
    "    \n",
    "    # binary will evolve for the rest of the age of the milky way\n",
    "    evolution_times = MW_AGE - dco_starts\n",
    "    \n",
    "    # find current separation and mask those that have already merged\n",
    "    a_currents = evolve_a_circ(a, m1, m2, evolution_times)\n",
    "    still_merging = np.isfinite(a_currents)\n",
    "    \n",
    "    # mask many arrays\n",
    "    a_currents = a_currents[still_merging]\n",
    "    weights = weightsDCO[still_merging]\n",
    "    masses = cm[still_merging]\n",
    "    times = tform[still_merging]\n",
    "    births = dco_starts[still_merging]\n",
    "    mass1, mass2 = m1[still_merging], m2[still_merging]\n",
    "    a_init = a[still_merging]\n",
    "    tco = tc[still_merging]\n",
    "    \n",
    "    # assume all binaries are at same angle and find distance from earth\n",
    "    TOTAL_REMAINING = len(a_currents)\n",
    "    radii = random_mw_distance(TOTAL_REMAINING)\n",
    "    angles = 2 * np.pi * np.random.rand(TOTAL_REMAINING)\n",
    "    heights = random_mw_distance(TOTAL_REMAINING, 0.3 * u.kpc) * np.random.choice([-1, 1], TOTAL_REMAINING)\n",
    "    distances = np.sqrt(np.square(heights) + np.square(radii) + np.square(EARTH_TO_MW_CENTRE) - 2 * radii * EARTH_TO_MW_CENTRE * np.cos(angles))\n",
    "    \n",
    "    # convert separation to frequency and use this to find the snr\n",
    "    freq_final = gw_frequency(a_currents, mass1, mass2)\n",
    "    snr = calc_snr(cm[still_merging], distances, freq_final, lisa.Sn, 4 * u.yr)\n",
    "    \n",
    "    # store counts and weights\n",
    "    count_list[i] = len(snr[snr > SNR_CUTOFF])\n",
    "    weight_list[i] = np.sum(weights[snr > SNR_CUTOFF])\n",
    "    \n",
    "    # store other parameters\n",
    "    for i in range(len(snr[snr > SNR_CUTOFF])):\n",
    "        detectable_binaries[detections] = (\n",
    "            weights[snr > SNR_CUTOFF][i], masses[snr > SNR_CUTOFF][i].value, a_currents[snr > SNR_CUTOFF][i].value,\n",
    "            births[snr > SNR_CUTOFF][i].value, freq_final[snr > SNR_CUTOFF][i].value, snr[snr > SNR_CUTOFF][i].value,\n",
    "            mass1[snr > SNR_CUTOFF][i].value, mass2[snr > SNR_CUTOFF][i].value, distances[snr > SNR_CUTOFF][i].value,\n",
    "            times[snr > SNR_CUTOFF][i].value, a_init[snr > SNR_CUTOFF][i].value, tco[snr > SNR_CUTOFF][i].value\n",
    "        )\n",
    "        detections += 1\n",
    "\n",
    "print(\"Calculations of {0} loops took {1}\".format(LOOPS, time.time() - st))"
   ]
  },
  {
   "cell_type": "code",
   "execution_count": null,
   "metadata": {},
   "outputs": [],
   "source": [
    "# get overall number of BHNS given weights\n",
    "weighted_mergers = weight_list\n",
    "\n",
    "# given we don't occupy full parameter space we correct using factor and mass we must correct\n",
    "factor, MsunPerZ = TMEPZ.totalMassEvolvedPerZ(pathCOMPASh5=folder_path, Mlower=5, Mupper=150,  MminM2=0.1, binaryFraction=0.7, x4=200, Mmax=200)\n",
    "if len(MsunPerZ) == 1:\n",
    "    MsunPerZ = MsunPerZ[0]\n",
    "\n",
    "# rate of mergers found by dividing\n",
    "mergers_per_Msun = weighted_mergers / factor / MsunPerZ\n",
    "\n",
    "# use mass of milky way to convert rate into \n",
    "MW_mass = 6e10\n",
    "mergers_in_MW = mergers_per_Msun * MW_mass\n",
    "ci = stats.t.interval(0.90, len(mergers_in_MW)-1, loc=np.mean(mergers_in_MW), scale=stats.sem(mergers_in_MW))\n",
    "print(\"LISA Detection Rate --- Mean:{0:1.2f}\".format(mergers_in_MW.mean()))\n",
    "print(\"Confidence Interval:\", ci)"
   ]
  },
  {
   "cell_type": "code",
   "execution_count": null,
   "metadata": {},
   "outputs": [],
   "source": [
    "sns.set_palette(\"colorblind\")"
   ]
  },
  {
   "cell_type": "code",
   "execution_count": null,
   "metadata": {},
   "outputs": [],
   "source": [
    "# np.save(\"mergers_muares\", mergers_in_MW)\n",
    "# mergers_in_MW = np.load(\"mergers_muares.npy\")"
   ]
  },
  {
   "cell_type": "code",
   "execution_count": null,
   "metadata": {
    "scrolled": true
   },
   "outputs": [],
   "source": [
    "lb, ub = np.round(np.percentile(mergers_in_MW, [5, 95]))\n",
    "lb, ub = int(lb), int(ub)"
   ]
  },
  {
   "cell_type": "code",
   "execution_count": null,
   "metadata": {},
   "outputs": [],
   "source": [
    "at_least_one = len(mergers_in_MW[mergers_in_MW >= 1])/len(mergers_in_MW)\n",
    "print(\"Probability that there is at least 1 detection is {0:2.0f}%\".format(at_least_one * 100))"
   ]
  },
  {
   "cell_type": "code",
   "execution_count": null,
   "metadata": {},
   "outputs": [],
   "source": [
    "f = plt.figure(figsize=(10, 10))\n",
    "\n",
    "bins = np.linspace(0, 20, 21)\n",
    "\n",
    "matplotlib.rcParams['hatch.color'] = (1, 1, 1, 0.5)\n",
    "\n",
    "hist, _, patches = plt.hist(mergers_in_MW, bins=bins, density=True)\n",
    "for i in range(lb, ub):\n",
    "    patches[i].set_hatch(\"/\")\n",
    "\n",
    "color90 = 'white'\n",
    "median = np.percentile(mergers_in_MW, 50)\n",
    "plt.plot([lb, lb], [0, hist[lb]], linewidth=2, color=color90, linestyle=\"--\", alpha=0.5)\n",
    "plt.plot([median, median], [0, hist[int(np.floor(median))]], linewidth=3, linestyle=\"--\", color=color90)\n",
    "plt.plot([ub, ub], [0, hist[ub - 1]], linewidth=2, color=color90, linestyle=\"--\", alpha=0.5)\n",
    "\n",
    "plt.annotate(\"Median: {0:1.2f} binaries\".format(median), xy=(0.95, 0.95), xycoords='axes fraction', ha='right', fontsize=0.85*fs)\n",
    "plt.annotate(\"90% Confidence: {0:1.1f}-{1:1.1f} binaries\".format(np.percentile(mergers_in_MW, 5), np.percentile(mergers_in_MW, 95)), xy=(0.95, 0.90), xycoords='axes fraction', ha='right', fontsize=0.85*fs)\n",
    "plt.xlabel(\"Number of Detectable Binaries\", fontsize=fs)\n",
    "plt.ylabel(\"Probability Density\", fontsize=fs)\n",
    "plt.tick_params(labelsize=0.7*fs)\n",
    "plt.grid(True, axis=\"y\")\n",
    "plt.yscale(\"log\")\n",
    "plt.show()\n",
    "\n",
    "# f.savefig(\"number_detectable.pdf\", format=\"pdf\", bbox_inches='tight')\n",
    "# f.savefig(\"number_detectable_muares.png\", bbox_inches='tight')"
   ]
  },
  {
   "cell_type": "code",
   "execution_count": null,
   "metadata": {},
   "outputs": [],
   "source": [
    "# remove ending zeroes in array\n",
    "detectable_binaries = detectable_binaries[:detections]"
   ]
  },
  {
   "cell_type": "code",
   "execution_count": null,
   "metadata": {},
   "outputs": [],
   "source": [
    "def obtainM1BHandM2BHassymetric(m1, m2):\n",
    "    m1bh, m2bh = np.zeros_like(m1), np.zeros_like(m1)\n",
    "    maskm1heavier = (m1 >= m2)\n",
    "    maskm2heavier = (m1 < m2)\n",
    "    print(len(maskm2heavier[maskm2heavier]))\n",
    "    m1bh[maskm1heavier] = m1[maskm1heavier]\n",
    "    m1bh[maskm2heavier] = m2[maskm2heavier]\n",
    "    m2bh[maskm1heavier] = m2[maskm1heavier]\n",
    "    m2bh[maskm2heavier] = m1[maskm2heavier]\n",
    "    return m1bh, m2bh # m1bh has all the heaviest systems"
   ]
  },
  {
   "cell_type": "markdown",
   "metadata": {},
   "source": [
    "## 4. KDE Plots\n",
    "### Helper Functions"
   ]
  },
  {
   "cell_type": "code",
   "execution_count": null,
   "metadata": {},
   "outputs": [],
   "source": [
    "from scipy.spatial.distance import cdist\n",
    "\n",
    "class gaussian_kde(object):\n",
    "    def __init__(self, dataset, bw_method=None, weights=None):\n",
    "        self.dataset = np.atleast_2d(dataset)\n",
    "        if not self.dataset.size > 1:\n",
    "            raise ValueError(\"`dataset` input should have multiple elements.\")\n",
    "        self.d, self.n = self.dataset.shape\n",
    "            \n",
    "        if weights is not None:\n",
    "            self.weights = weights / np.sum(weights)\n",
    "        else:\n",
    "            self.weights = np.ones(self.n) / self.n\n",
    "            \n",
    "        # Compute the effective sample size \n",
    "        # http://surveyanalysis.org/wiki/Design_Effects_and_Effective_Sample_Size#Kish.27s_approximate_formula_for_computing_effective_sample_size\n",
    "        self.neff = 1.0 / np.sum(self.weights ** 2)\n",
    "\n",
    "        self.set_bandwidth(bw_method=bw_method)\n",
    "\n",
    "    def evaluate(self, points):\n",
    "        points = np.atleast_2d(points)\n",
    "\n",
    "        d, m = points.shape\n",
    "        if d != self.d:\n",
    "            if d == 1 and m == self.d:\n",
    "                # points was passed in as a row vector\n",
    "                points = np.reshape(points, (self.d, 1))\n",
    "                m = 1\n",
    "            else:\n",
    "                msg = \"points have dimension %s, dataset has dimension %s\" % (d,\n",
    "                    self.d)\n",
    "                raise ValueError(msg)\n",
    "\n",
    "        # compute the normalised residuals\n",
    "        chi2 = cdist(points.T, self.dataset.T, 'mahalanobis', VI=self.inv_cov) ** 2\n",
    "        # compute the pdf\n",
    "        result = np.sum(np.exp(-.5 * chi2) * self.weights, axis=1) / self._norm_factor\n",
    "\n",
    "        return result\n",
    "\n",
    "    __call__ = evaluate\n",
    "\n",
    "    def scotts_factor(self):\n",
    "        return np.power(self.neff, -1./(self.d+4))\n",
    "\n",
    "    def silverman_factor(self):\n",
    "        return np.power(self.neff*(self.d+2.0)/4.0, -1./(self.d+4))\n",
    "\n",
    "    #  Default method to calculate bandwidth, can be overwritten by subclass\n",
    "    covariance_factor = scotts_factor\n",
    "\n",
    "    def set_bandwidth(self, bw_method=None):\n",
    "        if bw_method is None:\n",
    "            pass\n",
    "        elif bw_method == 'scott':\n",
    "            self.covariance_factor = self.scotts_factor\n",
    "        elif bw_method == 'silverman':\n",
    "            self.covariance_factor = self.silverman_factor\n",
    "        elif np.isscalar(bw_method): # and not isinstance(bw_method, string_types):\n",
    "            self._bw_method = 'use constant'\n",
    "            self.covariance_factor = lambda: bw_method\n",
    "        elif callable(bw_method):\n",
    "            self._bw_method = bw_method\n",
    "            self.covariance_factor = lambda: self._bw_method(self)\n",
    "        else:\n",
    "            msg = \"`bw_method` should be 'scott', 'silverman', a scalar \" \\\n",
    "                  \"or a callable.\"\n",
    "            raise ValueError(msg)\n",
    "\n",
    "        self._compute_covariance()\n",
    "\n",
    "    def _compute_covariance(self):\n",
    "        \"\"\"Computes the covariance matrix for each Gaussian kernel using\n",
    "        covariance_factor().\n",
    "        \"\"\"\n",
    "        self.factor = self.covariance_factor()\n",
    "        # Cache covariance and inverse covariance of the data\n",
    "        if not hasattr(self, '_data_inv_cov'):\n",
    "            # Compute the mean and residuals\n",
    "            _mean = np.sum(self.weights * self.dataset, axis=1)\n",
    "            _residual = (self.dataset - _mean[:, None])\n",
    "            # Compute the biased covariance\n",
    "            self._data_covariance = np.atleast_2d(np.dot(_residual * self.weights, _residual.T))\n",
    "            # Correct for bias (http://en.wikipedia.org/wiki/Weighted_arithmetic_mean#Weighted_sample_covariance)\n",
    "            self._data_covariance /= (1 - np.sum(self.weights ** 2))\n",
    "            self._data_inv_cov = np.linalg.inv(self._data_covariance)\n",
    "\n",
    "        self.covariance = self._data_covariance * self.factor**2\n",
    "        self.inv_cov = self._data_inv_cov / self.factor**2\n",
    "        self._norm_factor = np.sqrt(np.linalg.det(2*np.pi*self.covariance)) #* self.n\n",
    "        \n",
    "def lowess(x, y, f=2. / 3., iter=3):\n",
    "    n = len(x)\n",
    "    r = int(ceil(f * n))\n",
    "    h = [np.sort(np.abs(x - x[i]))[r] for i in range(n)]\n",
    "    w = np.clip(np.abs((x[:, None] - x[None, :]) / h), 0.0, 1.0)\n",
    "    w = (1 - w ** 3) ** 3\n",
    "    yest = np.zeros(n)\n",
    "    delta = np.ones(n)\n",
    "    for iteration in range(iter):\n",
    "        for i in range(n):\n",
    "            weights = delta * w[:, i]\n",
    "            b = np.array([np.sum(weights * y), np.sum(weights * y * x)])\n",
    "            A = np.array([[np.sum(weights), np.sum(weights * x)],\n",
    "                          [np.sum(weights * x), np.sum(weights * x * x)]])\n",
    "            beta = linalg.solve(A, b)\n",
    "            yest[i] = beta[0] + beta[1] * x[i]\n",
    "\n",
    "        residuals = y - yest\n",
    "        s = np.median(np.abs(residuals))\n",
    "        delta = np.clip(residuals / (6.0 * s), -1, 1)\n",
    "        delta = (1 - delta ** 2) ** 2\n",
    "\n",
    "    return yest"
   ]
  },
  {
   "cell_type": "code",
   "execution_count": null,
   "metadata": {},
   "outputs": [],
   "source": [
    "def bootstrapkde(repeats, samples, weights, bins, bandwidths):\n",
    "    \"\"\"bootstraps the kde function to obtain 1- and 2-sigma \n",
    "    uncertainty intervals for the kde plotted in plotChirpmass_kde() \"\"\"\n",
    "    \n",
    "    # make array where we will save each bootstrap result\n",
    "    nbins = len(bins)\n",
    "    array_probailities = np.zeros((repeats, nbins))\n",
    "    \n",
    "    xx_boot = bins\n",
    "    weights /= np.sum(weights) # normalize weights        \n",
    "\n",
    "    samples = np.asarray(samples)       \n",
    "    boot_index = np.arange(len(samples))                                  \n",
    "    for nr in range(repeats):\n",
    "        # (bootstrap) re-sample a random set of samples with replacement from existing samples\n",
    "        # do this by drawing random sample indecis nrs, each nr corresponds to a sample  \n",
    "        boot_randindex = np.random.choice(boot_index, size=len(boot_index), replace=True, p=None)\n",
    "        boot_randweight = np.asarray(weights)[boot_randindex] # get the corresponding weights \n",
    "        boot_randsamples = np.array(np.asarray(samples)[boot_randindex]) # get the corresponding samples\n",
    "        \n",
    "        # calculate the kde for this bootstrap \n",
    "        pdf_boot = gaussian_kde(boot_randsamples, weights=boot_randweight, bw_method = bandwidths)\n",
    "        y_boot = pdf_boot(xx_boot)\n",
    "        # add bootstrap kde to array\n",
    "        array_probailities[nr,:] = y_boot\n",
    "    \n",
    "    # calculate the 1- and 2-sigma uncertainties from these bootstraps for below and above mean. \n",
    "    percentile_min1sigma = np.percentile(array_probailities, 15.89, axis=0)\n",
    "    percentile_plus1sigma = np.percentile(array_probailities, 84.1, axis=0)\n",
    "    percentile_min2sigma = np.percentile(array_probailities, 2.27, axis=0)\n",
    "    percentile_plus2sigma = np.percentile(array_probailities, 97.725, axis=0)    \n",
    "        \n",
    "    std_bins = (np.std(array_probailities, axis=0)) \n",
    "\n",
    "    return [percentile_min1sigma, percentile_plus1sigma, percentile_min2sigma, percentile_plus2sigma]\n",
    "\n",
    "\n",
    "def plot_kde(all_var, detect_var, xlab='', nbins=500, init_var=None, log=False, repeats=100, path=file_path, uncertainty=True, plot=False):\n",
    "    # remove weights for artificial data\n",
    "    weights = weightsDCOAll\n",
    "    if len(all_var) != len(allBH):\n",
    "        weights = np.ones(len(all_var))\n",
    "    \n",
    "    # settings for kde\n",
    "    poissonErr = 4\n",
    "    bandwidths = 0.095\n",
    "    \n",
    "    if log:\n",
    "        all_var = np.log10(all_var)\n",
    "        detect_var = np.log10(detect_var)\n",
    "    \n",
    "    min_val = min(min(all_var), min(detect_var))\n",
    "    max_val = max(max(all_var), max(detect_var))\n",
    "    \n",
    "    if init_var is not None:\n",
    "        if log:\n",
    "            init_var = np.log10(init_var)\n",
    "        min_val = min(min_val, min(init_var))\n",
    "        max_val = max(max_val, max(init_var))\n",
    "        \n",
    "    print(min_val, max_val)\n",
    "    \n",
    "    bins = np.linspace(min_val, max_val, nbins)\n",
    "\n",
    "    # calculate the kernel density estimator\n",
    "    kde_all = gaussian_kde(all_var, weights=weights, bw_method=bandwidths)        \n",
    "    yy_all = kde_all(bins)\n",
    "    if init_var is not None:\n",
    "        kde_init = gaussian_kde(init_var, weights=detectable_binaries[\"weight\"], bw_method=bandwidths)        \n",
    "        yy_init = kde_init(bins)\n",
    "    kde_detectable = gaussian_kde(detect_var, weights=detectable_binaries[\"weight\"], bw_method=bandwidths)        \n",
    "    yy_detectable = kde_detectable(bins)\n",
    "\n",
    "    # calculate uncertainties\n",
    "    if uncertainty:\n",
    "        percentiles_all = bootstrapkde(repeats=repeats, samples=all_var, weights=weights, bins=bins, bandwidths=bandwidths)\n",
    "        if init_var is not None:\n",
    "            percentiles_init = bootstrapkde(repeats=repeats, samples=init_var, weights=detectable_binaries[\"weight\"], bins=bins, bandwidths=bandwidths)\n",
    "        percentiles_detectable = bootstrapkde(repeats=repeats, samples=detect_var, weights=detectable_binaries[\"weight\"], bins=bins, bandwidths=bandwidths)\n",
    "    \n",
    "    print(\"done!\")\n",
    "    \n",
    "    if plot:\n",
    "        d_col = '#3971bf'\n",
    "        i_col = '#4a8f3c'\n",
    "        f, axarr= plt.subplots(1, 1,  figsize=(10,10))\n",
    "        axarr.plot(bins, yy_all, lw=3, color='grey', zorder=2003)\n",
    "        axarr.plot(bins, yy_detectable, lw=3, color=d_col, zorder=2009)\n",
    "        \n",
    "        if uncertainty:\n",
    "            axarr.fill_between(bins, percentiles_all[1], percentiles_all[0], \\\n",
    "                               alpha = 0.75, color ='grey', zorder = 2001)\n",
    "            axarr.fill_between(bins, percentiles_all[3], percentiles_all[2], \\\n",
    "                               alpha = 0.45, color ='grey', zorder = 2000)\n",
    "            axarr.fill_between(bins, percentiles_detectable[1], percentiles_detectable[0], \\\n",
    "                               alpha = 0.75, color=d_col, zorder = 2008)\n",
    "            axarr.fill_between(bins, percentiles_detectable[3], percentiles_detectable[2], \\\n",
    "                               alpha = 0.45, color=d_col, zorder = 2007)\n",
    "        if init_var:\n",
    "            axarr.annotate(r\"All Binaries - DCO Formation\", xy=(0.036, 0.95), \\\n",
    "                              xycoords='axes fraction', fontsize=22, color='grey', weight='bold')\n",
    "            axarr.annotate(r\"Detectable Binaries - DCO Formation\", xy=(0.036, 0.90), \\\n",
    "                              xycoords='axes fraction', fontsize=22, color=i_col, weight='bold')\n",
    "            axarr.annotate(r\"Detectable Binaries - During LISA\", xy=(0.036, 0.85), \\\n",
    "                              xycoords='axes fraction', fontsize=22, color=d_col, weight='bold')\n",
    "            axarr.plot(bins, yy_init, lw=3, color=i_col, zorder=2006)\n",
    "            if uncertainty:\n",
    "                axarr.fill_between(bins, percentiles_init[1], percentiles_init[0], \\\n",
    "                                   alpha = 0.75, color=i_col, zorder = 2005)\n",
    "                axarr.fill_between(bins, percentiles_init[3], percentiles_init[2], \\\n",
    "                               alpha = 0.45, color=i_col, zorder = 2004)\n",
    "        else:\n",
    "            axarr.annotate(r\"All Binaries\", xy=(0.036, 0.95), \\\n",
    "                              xycoords='axes fraction', fontsize=22, color='grey', weight='bold')\n",
    "            axarr.annotate(r\"Detectable Binaries\", xy=(0.036, 0.90), \\\n",
    "                              xycoords='axes fraction', fontsize=22, color=d_col, weight='bold')\n",
    "\n",
    "        axarr.set_xlim(min(detect_var).value, max(all_var).value)\n",
    "\n",
    "        if log:\n",
    "            axarr.set_xscale(\"log\")\n",
    "            axarr.set_yscale(\"log\")\n",
    "            axarr.set_ylim((1e-2, 1e3))\n",
    "            \n",
    "        axarr.grid()\n",
    "        axarr.tick_params(labelsize=24)\n",
    "        \n",
    "        axarr.set_xlabel(xlab, fontsize=30)\n",
    "        axarr.set_ylabel('Probability Density', fontsize=30)\n",
    "\n",
    "        plt.tight_layout(pad=0.4, w_pad=3, h_pad=3.0)\n",
    "        plt.show()\n",
    "        \n",
    "        return\n",
    "    elif uncertainty:\n",
    "        if init_var is not None:\n",
    "            return bins, yy_all, yy_detectable, yy_init, percentiles_all, percentiles_detectable, percentiles_init\n",
    "        else:\n",
    "            return bins, yy_all, yy_detectable, percentiles_all, percentiles_detectable\n",
    "    else:\n",
    "        if init_var is not None:\n",
    "            return bins, yy_all, yy_detectable, yy_init\n",
    "        else:\n",
    "            return bins, yy_all, yy_detectable"
   ]
  },
  {
   "cell_type": "code",
   "execution_count": null,
   "metadata": {},
   "outputs": [],
   "source": [
    "d_col='#3971bf'\n",
    "i_col='#de8f05'\n",
    "\n",
    "def plot_kde_on_axis(varname, axis, d_col='#3971bf', i_col='#de8f05', show=[True, True, True]):\n",
    "    x, y, z = show\n",
    "    \n",
    "    if x:\n",
    "        axis.plot(bins[varname], kde[varname], lw=3, color='grey', zorder=2003)\n",
    "        axis.fill_between(bins[varname], un[varname][1], un[varname][0], alpha = 0.75, color ='grey', zorder = 2001)\n",
    "        axis.fill_between(bins[varname], un[varname][3], un[varname][2], alpha = 0.45, color ='grey', zorder = 2000)\n",
    "    \n",
    "    if z:\n",
    "        axis.plot(bins[varname], dkde[varname], lw=3, color=d_col, zorder=2009)\n",
    "        axis.fill_between(bins[varname], dun[varname][1], dun[varname][0], alpha = 0.75, color=d_col, zorder = 2008)\n",
    "        axis.fill_between(bins[varname], dun[varname][3], dun[varname][2], alpha = 0.45, color=d_col, zorder = 2007)\n",
    "    \n",
    "    if varname in set(['f', 'a']) and y:\n",
    "        axis.plot(bins[varname], ikde[varname], lw=3, color=i_col, zorder=2006)\n",
    "        axis.fill_between(bins[varname], iun[varname][1], iun[varname][0], alpha = 0.75, color=i_col, zorder = 2005)\n",
    "        axis.fill_between(bins[varname], iun[varname][3], iun[varname][2], alpha = 0.45, color=i_col, zorder = 2004)\n",
    "    \n",
    "    axis.set_ylabel('Probability Density', fontsize=30)\n",
    "    axis.grid()\n",
    "    axis.tick_params(which='both', direction='in', length=10, width=2, labelsize=26)\n",
    "    axis.tick_params(which='minor', length=5, width=1)\n",
    "    return axis\n",
    "\n",
    "def annotate_axes(axis, xloc='left', yloc='top', number=2, d_col='#3971bf', i_col='#de8f05', show=[True, True, True]):\n",
    "    x = 0.03 if xloc == \"left\" else 0.97\n",
    "    y = 0.95 if yloc == \"top\" else 0.05\n",
    "    delta = -0.05 if yloc == \"top\" else 0.05\n",
    "    \n",
    "    a, b, c = show\n",
    "    if number == 2:\n",
    "        if a:\n",
    "            axis.annotate(r\"All Binaries\", xy=(x, y), ha=xloc, xycoords='axes fraction', fontsize=26, color='grey', weight='bold')\n",
    "        if b:\n",
    "            axis.annotate(r\"Detectable Binaries\", xy=(x, y + delta), ha=xloc, xycoords='axes fraction', fontsize=26, color=d_col, weight='bold')\n",
    "    else:\n",
    "        if a:\n",
    "            axis.annotate(r\"All - DCO Formation\", xy=(x, y), ha=xloc, xycoords='axes fraction', fontsize=26, color='grey', weight='bold')\n",
    "        if b:\n",
    "            axis.annotate(r\"Detectable - DCO Formation\", xy=(x, y + delta), ha=xloc, xycoords='axes fraction', fontsize=26, color=i_col, weight='bold')\n",
    "        if c:\n",
    "            axis.annotate(r\"Detectable - During LISA\", xy=(x, y + 2 * delta), ha=xloc, xycoords='axes fraction', fontsize=26, color=d_col, weight='bold')\n",
    "    return axis"
   ]
  },
  {
   "cell_type": "code",
   "execution_count": null,
   "metadata": {},
   "outputs": [],
   "source": [
    "# mask the data to get only BHNSs that merge in a Hubble time, have RLOF and are pessimistic\n",
    "maskBHNS = maskTargetDCOsSTROOPWAFEL(DCOtype='BHNS', boolDCOmask=[0,1,1], f=fdata, otherSelection=None, otherparam=None)\n",
    "\n",
    "allM1 = get_COMPAS_variable(['M1', 'doubleCompactObjects'], fdata)[maskBHNS] * u.M_sun\n",
    "allM2 = get_COMPAS_variable(['M2', 'doubleCompactObjects'], fdata)[maskBHNS] * u.M_sun\n",
    "allBH, allNS = obtainM1BHandM2BHassymetric(allM1, allM2)\n",
    "allCM = chirp_mass(allBH, allNS)\n",
    "\n",
    "alla = get_COMPAS_variable(['separationDCOFormation', 'doubleCompactObjects'], fdata)[maskBHNS] * u.au\n",
    "allfreq = gw_frequency(alla, allBH, allNS)\n",
    "\n",
    "alle = get_COMPAS_variable(['eccentricityDCOFormation', 'doubleCompactObjects'], fdata)[maskBHNS]\n",
    "\n",
    "alltform = get_COMPAS_variable(['tform', 'doubleCompactObjects'], fdata)[maskBHNS] * u.Myr\n",
    "alltc = get_COMPAS_variable(['tc', 'doubleCompactObjects'], fdata)[maskBHNS] * u.Myr\n",
    "\n",
    "weightsDCOAll, weightsSystems = obtainweightsSTROOPWAFEL(fdata)\n",
    "weightsDCOAll = weightsDCOAll[maskBHNS]"
   ]
  },
  {
   "cell_type": "code",
   "execution_count": null,
   "metadata": {},
   "outputs": [],
   "source": [
    "repeats = 100\n",
    "bins, kde, dkde, ikde, un, dun, iun = {}, {}, {}, {}, {}, {}, {}"
   ]
  },
  {
   "cell_type": "code",
   "execution_count": null,
   "metadata": {},
   "outputs": [],
   "source": [
    "bins['m1'], kde['m1'], dkde['m1'], un['m1'], dun['m1'] = plot_kde(repeats=repeats, all_var=allBH.value, detect_var=detectable_binaries['m1'])"
   ]
  },
  {
   "cell_type": "code",
   "execution_count": null,
   "metadata": {},
   "outputs": [],
   "source": [
    "f, axarr= plt.subplots(1, 1, figsize=(10,10))\n",
    "\n",
    "axarr = plot_kde_on_axis('m1', axarr)\n",
    "axarr = annotate_axes(axarr)\n",
    "\n",
    "axarr.set_xlim(min(allBH).value, 13)\n",
    "\n",
    "axarr.set_xlabel(r\"$m_{\\rm BH}\\, [{\\rm M_{\\odot}}]$\", fontsize=30)\n",
    "\n",
    "plt.savefig(\"kde_mbh.pdf\", format=\"pdf\", bbox_inches=\"tight\")\n",
    "plt.savefig(\"kde_mbh.png\", bbox_inches=\"tight\")\n",
    "plt.show()"
   ]
  },
  {
   "cell_type": "code",
   "execution_count": null,
   "metadata": {},
   "outputs": [],
   "source": [
    "bins['m2'], kde['m2'], dkde['m2'], un['m2'], dun['m2'] = plot_kde(repeats=repeats, all_var=allNS.value, detect_var=detectable_binaries['m2'])"
   ]
  },
  {
   "cell_type": "code",
   "execution_count": null,
   "metadata": {},
   "outputs": [],
   "source": [
    "f, axarr= plt.subplots(1, 1, figsize=(10,10))\n",
    "\n",
    "axarr = plot_kde_on_axis('m2', axarr)\n",
    "axarr = annotate_axes(axarr, xloc='right')\n",
    "\n",
    "axarr.set_xlim(min(allNS).value, max(allNS).value)\n",
    "\n",
    "axarr.set_xlabel(r\"$m_{\\rm NS}\\, [{\\rm M_{\\odot}}]$\", fontsize=30)\n",
    "\n",
    "plt.savefig(\"kde_mns.pdf\", format=\"pdf\", bbox_inches=\"tight\")\n",
    "plt.savefig(\"kde_mns.png\", bbox_inches=\"tight\")\n",
    "plt.show()"
   ]
  },
  {
   "cell_type": "code",
   "execution_count": null,
   "metadata": {},
   "outputs": [],
   "source": [
    "bins['cm'], kde['cm'], dkde['cm'], un['cm'], dun['cm'] = plot_kde(repeats=repeats, all_var=allCM.value, detect_var=detectable_binaries['mass'])"
   ]
  },
  {
   "cell_type": "code",
   "execution_count": null,
   "metadata": {},
   "outputs": [],
   "source": [
    "f, axarr= plt.subplots(1, 1, figsize=(10,10))\n",
    "\n",
    "axarr = plot_kde_on_axis('cm', axarr)\n",
    "axarr = annotate_axes(axarr, yloc='bottom')\n",
    "\n",
    "axarr.set_xlim(min(allCM).value, max(allCM).value)\n",
    "\n",
    "axarr.set_xlabel(r\"$\\mathcal{M}_{\\rm c}\\, [{\\rm M_{\\odot}}]$\", fontsize=30)\n",
    "plt.savefig(\"kde_mchirp.pdf\", format=\"pdf\", bbox_inches=\"tight\")\n",
    "plt.savefig(\"kde_mchirp.png\", bbox_inches=\"tight\")\n",
    "plt.show()"
   ]
  },
  {
   "cell_type": "code",
   "execution_count": null,
   "metadata": {},
   "outputs": [],
   "source": [
    "bins['a'], kde['a'], dkde['a'], ikde['a'], un['a'], dun['a'], iun['a'] = plot_kde(repeats=repeats, all_var=alla.value, detect_var=(detectable_binaries[\"separation\"] * u.m).to(u.AU).value, init_var=detectable_binaries[\"a_init\"], log=True)"
   ]
  },
  {
   "cell_type": "code",
   "execution_count": null,
   "metadata": {
    "scrolled": false
   },
   "outputs": [],
   "source": [
    "f, axarr= plt.subplots(1, 1,  figsize=(10,10))\n",
    "\n",
    "axarr = plot_kde_on_axis('a', axarr)\n",
    "axarr = annotate_axes(axarr, number=3)\n",
    "\n",
    "axarr.set_xlim((-3, 0.7))\n",
    "\n",
    "axarr.set_yscale(\"log\")\n",
    "axarr.set_ylim((1e-1, 1e1))\n",
    "\n",
    "axarr.set_xlabel(r\"$\\log\\, \\rm{a}\\, [{\\rm AU}]$\", fontsize=30)\n",
    "plt.savefig(\"kde_a.pdf\", format=\"pdf\", bbox_inches=\"tight\")\n",
    "plt.savefig(\"kde_a.png\", bbox_inches=\"tight\")\n",
    "plt.show()"
   ]
  },
  {
   "cell_type": "code",
   "execution_count": null,
   "metadata": {},
   "outputs": [],
   "source": [
    "bins['f'], kde['f'], dkde['f'], ikde['f'], un['f'], dun['f'], iun['f'] = plot_kde(repeats=repeats, nbins=100, all_var=allfreq.value, detect_var=detectable_binaries[\"frequency\"], init_var=gw_frequency(detectable_binaries[\"a_init\"]*u.AU, detectable_binaries[\"m1\"]*u.M_sun, detectable_binaries[\"m2\"]*u.M_sun).value, log=True)"
   ]
  },
  {
   "cell_type": "code",
   "execution_count": null,
   "metadata": {
    "scrolled": false
   },
   "outputs": [],
   "source": [
    "f, axarr= plt.subplots(1, 1,  figsize=(10,10))\n",
    " \n",
    "axarr = plot_kde_on_axis('f', axarr, show=[False, False, False])\n",
    "axarr = annotate_axes(axarr, number=3, show=[False, False, False])\n",
    "\n",
    "# axarr.axvspan(-4, -2, color=d_col, alpha=0.2)\n",
    "\n",
    "axarr.set_xlim(-8, -2)\n",
    "\n",
    "axarr.set_yscale(\"log\")\n",
    "axarr.set_ylim((1e-2, 1e1))\n",
    "\n",
    "axarr.set_xlabel(r\"$\\log\\, \\rm{f}\\,\\, [{\\rm Hz}]$\", fontsize=30)\n",
    "plt.savefig(\"kde_f_blank.png\", bbox_inches=\"tight\")\n",
    "plt.show()"
   ]
  },
  {
   "cell_type": "code",
   "execution_count": null,
   "metadata": {
    "scrolled": false
   },
   "outputs": [],
   "source": [
    "f, axarr= plt.subplots(1, 1,  figsize=(10,10))\n",
    " \n",
    "axarr = plot_kde_on_axis('f', axarr, show=[False, False, False])\n",
    "axarr = annotate_axes(axarr, number=3, show=[False, False, False])\n",
    "\n",
    "axarr.axvspan(-4, -2, color=d_col, alpha=0.2)\n",
    "\n",
    "axarr.set_xlim(-8, -2)\n",
    "\n",
    "axarr.set_yscale(\"log\")\n",
    "axarr.set_ylim((1e-2, 1e1))\n",
    "\n",
    "axarr.set_xlabel(r\"$\\log\\, \\rm{f}\\,\\, [{\\rm Hz}]$\", fontsize=30)\n",
    "plt.savefig(\"kde_f_area.png\", bbox_inches=\"tight\")\n",
    "plt.show()"
   ]
  },
  {
   "cell_type": "code",
   "execution_count": null,
   "metadata": {
    "scrolled": false
   },
   "outputs": [],
   "source": [
    "f, axarr= plt.subplots(1, 1,  figsize=(10,10))\n",
    " \n",
    "axarr = plot_kde_on_axis('f', axarr, show=[True, False, False])\n",
    "axarr = annotate_axes(axarr, number=3, show=[True, False, False])\n",
    "\n",
    "axarr.axvspan(-4, -2, color=d_col, alpha=0.2)\n",
    "\n",
    "axarr.set_xlim(-8, -2)\n",
    "\n",
    "axarr.set_yscale(\"log\")\n",
    "axarr.set_ylim((1e-2, 1e1))\n",
    "\n",
    "axarr.set_xlabel(r\"$\\log\\, \\rm{f}\\,\\, [{\\rm Hz}]$\", fontsize=30)\n",
    "plt.savefig(\"kde_f_all.png\", bbox_inches=\"tight\")\n",
    "plt.show()"
   ]
  },
  {
   "cell_type": "code",
   "execution_count": null,
   "metadata": {
    "scrolled": false
   },
   "outputs": [],
   "source": [
    "f, axarr= plt.subplots(1, 1,  figsize=(10,10))\n",
    " \n",
    "axarr = plot_kde_on_axis('f', axarr, show=[True, True, False])\n",
    "axarr = annotate_axes(axarr, number=3, show=[True, True, False])\n",
    "\n",
    "axarr.axvspan(-4, -2, color=d_col, alpha=0.2)\n",
    "\n",
    "axarr.set_xlim(-8, -2)\n",
    "\n",
    "axarr.set_yscale(\"log\")\n",
    "axarr.set_ylim((1e-2, 1e1))\n",
    "\n",
    "axarr.set_xlabel(r\"$\\log\\, \\rm{f}\\,\\, [{\\rm Hz}]$\", fontsize=30)\n",
    "plt.savefig(\"kde_f_atDCO.png\", bbox_inches=\"tight\")\n",
    "plt.show()"
   ]
  },
  {
   "cell_type": "code",
   "execution_count": null,
   "metadata": {
    "scrolled": false
   },
   "outputs": [],
   "source": [
    "f, axarr= plt.subplots(1, 1,  figsize=(10,10))\n",
    " \n",
    "axarr = plot_kde_on_axis('f', axarr)\n",
    "axarr = annotate_axes(axarr, number=3)\n",
    "\n",
    "axarr.axvspan(-4, -2, color=d_col, alpha=0.2)\n",
    "\n",
    "axarr.set_xlim(-8, -2)\n",
    "\n",
    "axarr.set_yscale(\"log\")\n",
    "axarr.set_ylim((1e-2, 1e1))\n",
    "\n",
    "axarr.set_xlabel(r\"$\\log\\, \\rm{f}\\,\\, [{\\rm Hz}]$\", fontsize=30)\n",
    "plt.savefig(\"kde_f.png\", bbox_inches=\"tight\")\n",
    "plt.show()"
   ]
  },
  {
   "cell_type": "code",
   "execution_count": null,
   "metadata": {},
   "outputs": [],
   "source": [
    "random_r = random_mw_distance(len(allCM))\n",
    "angles = 2 * np.pi * np.random.rand(len(allCM))\n",
    "random_d = np.sqrt(np.square(random_r) + np.square(EARTH_TO_MW_CENTRE) - 2 * random_r * EARTH_TO_MW_CENTRE * np.cos(angles))"
   ]
  },
  {
   "cell_type": "code",
   "execution_count": null,
   "metadata": {},
   "outputs": [],
   "source": [
    "bins['d'], kde['d'], dkde['d'], un['d'], dun['d'] = plot_kde(repeats=repeats, nbins=100, all_var=random_d.value, detect_var=detectable_binaries[\"distance\"], log=True)"
   ]
  },
  {
   "cell_type": "code",
   "execution_count": null,
   "metadata": {},
   "outputs": [],
   "source": [
    "f, axarr= plt.subplots(1, 1,  figsize=(10,10))\n",
    "\n",
    "axarr = plot_kde_on_axis('d', axarr)\n",
    "axarr = annotate_axes(axarr)\n",
    "\n",
    "axarr.set_xlim((min(np.log10(random_d.value)), max(np.log10(random_d.value))))\n",
    "# axarr.set_ylim((1e-4, 1e1))\n",
    "# axarr.set_yscale(\"log\")\n",
    "\n",
    "axarr.set_xlabel(r\"$\\log \\, \\rm{d}\\, [{\\rm kpc}]$\", fontsize=30)\n",
    "plt.savefig(\"kde_d.pdf\", format=\"pdf\", bbox_inches=\"tight\")\n",
    "plt.savefig(\"kde_d.png\", bbox_inches=\"tight\")\n",
    "plt.show()"
   ]
  },
  {
   "cell_type": "code",
   "execution_count": null,
   "metadata": {},
   "outputs": [],
   "source": [
    "bins['tf'], kde['tf'], dkde['tf'], un['tf'], dun['tf'] = plot_kde(repeats=repeats, all_var=alltform.to(u.Myr).value, detect_var=detectable_binaries[\"tform\"] / 1e6)"
   ]
  },
  {
   "cell_type": "code",
   "execution_count": null,
   "metadata": {},
   "outputs": [],
   "source": [
    "f, axarr= plt.subplots(1, 1,  figsize=(10,10))\n",
    "\n",
    "axarr = plot_kde_on_axis('tf', axarr)\n",
    "axarr = annotate_axes(axarr, xloc='right')\n",
    "\n",
    "axarr.set_xlim(min(alltform).to(u.Myr).value, max(alltform).to(u.Myr).value)\n",
    "\n",
    "axarr.set_xlabel(r\"$t_{\\rm form}\\, [{\\rm Myr}]$\", fontsize=30)\n",
    "plt.savefig(\"kde_tform.pdf\", format=\"pdf\", bbox_inches=\"tight\")\n",
    "plt.savefig(\"kde_tform.png\", bbox_inches=\"tight\")\n",
    "plt.show()"
   ]
  },
  {
   "cell_type": "code",
   "execution_count": null,
   "metadata": {},
   "outputs": [],
   "source": [
    "uniform = np.random.rand(len(allBH)) * MW_AGE"
   ]
  },
  {
   "cell_type": "code",
   "execution_count": null,
   "metadata": {},
   "outputs": [],
   "source": [
    "bins['td'], kde['td'], dkde['td'], un['td'], dun['td'] = plot_kde(repeats=repeats, all_var=uniform.to(u.Gyr).value, detect_var=(detectable_binaries[\"birth\"] * u.yr).to(u.Gyr).value)"
   ]
  },
  {
   "cell_type": "code",
   "execution_count": null,
   "metadata": {},
   "outputs": [],
   "source": [
    "f, axarr= plt.subplots(1, 1,  figsize=(10,10))\n",
    "\n",
    "axarr = plot_kde_on_axis('td', axarr, show=[False, False, False])\n",
    "axarr = annotate_axes(axarr, show=[False, False, False])\n",
    "\n",
    "axarr.set_xlim(0, 10)\n",
    "axarr.set_ylim(0, 0.25)\n",
    "\n",
    "axarr.set_xlabel(r\"$t_{\\rm DCO}\\, [{\\rm Gyr}]$\", fontsize=30)\n",
    "plt.savefig(\"kde_tdco_blank.png\", bbox_inches=\"tight\")\n",
    "plt.show()"
   ]
  },
  {
   "cell_type": "code",
   "execution_count": null,
   "metadata": {},
   "outputs": [],
   "source": [
    "f, axarr= plt.subplots(1, 1,  figsize=(10,10))\n",
    "\n",
    "axarr = plot_kde_on_axis('td', axarr, show=[True, False, False])\n",
    "axarr = annotate_axes(axarr, show=[True, False, False])\n",
    "\n",
    "axarr.set_xlim(0, 10)\n",
    "axarr.set_ylim(0, 0.25)\n",
    "\n",
    "axarr.set_xlabel(r\"$t_{\\rm DCO}\\, [{\\rm Gyr}]$\", fontsize=30)\n",
    "plt.savefig(\"kde_tdco_all.png\", bbox_inches=\"tight\")\n",
    "plt.show()"
   ]
  },
  {
   "cell_type": "code",
   "execution_count": null,
   "metadata": {},
   "outputs": [],
   "source": [
    "f, axarr= plt.subplots(1, 1,  figsize=(10,10))\n",
    "\n",
    "axarr = plot_kde_on_axis('td', axarr)\n",
    "axarr = annotate_axes(axarr)\n",
    "\n",
    "axarr.set_xlim(0, 10)\n",
    "axarr.set_ylim(0, 0.25)\n",
    "\n",
    "axarr.set_xlabel(r\"$t_{\\rm DCO}\\, [{\\rm Gyr}]$\", fontsize=30)\n",
    "# plt.savefig(\"kde_tdco.pdf\", format=\"pdf\", bbox_inches=\"tight\")\n",
    "plt.savefig(\"kde_tdco.png\", bbox_inches=\"tight\")\n",
    "plt.show()"
   ]
  },
  {
   "cell_type": "code",
   "execution_count": null,
   "metadata": {},
   "outputs": [],
   "source": [
    "bins['tc'], kde['tc'], dkde['tc'], un['tc'], dun['tc'] = plot_kde(repeats=repeats, all_var=tc.to(u.Gyr).value, detect_var=(detectable_binaries[\"tc\"] * u.yr).to(u.Gyr).value)"
   ]
  },
  {
   "cell_type": "code",
   "execution_count": null,
   "metadata": {},
   "outputs": [],
   "source": [
    "f, axarr= plt.subplots(1, 1,  figsize=(10,10))\n",
    "\n",
    "axarr = plot_kde_on_axis('tc', axarr)\n",
    "axarr = annotate_axes(axarr, xloc='right')\n",
    "\n",
    "axarr.set_xlim(min(alltc).to(u.Gyr).value, 14)\n",
    "\n",
    "axarr.set_yscale(\"log\")\n",
    "axarr.set_ylim((1e-3, 1e0))\n",
    "\n",
    "axarr.set_xlabel(r\"$t_{\\rm c}\\, [{\\rm Gyr}]$\", fontsize=30)\n",
    "plt.savefig(\"kde_tc.pdf\", format=\"pdf\", bbox_inches=\"tight\")\n",
    "plt.savefig(\"kde_tc.png\", bbox_inches=\"tight\")\n",
    "plt.show()"
   ]
  },
  {
   "cell_type": "code",
   "execution_count": null,
   "metadata": {},
   "outputs": [],
   "source": [
    "f, axes = plt.subplots(3, 3,  figsize=(30,30))\n",
    "\n",
    "## black hole mass ##\n",
    "axes[0, 0] = plot_kde_on_axis('m1', axes[0, 0])\n",
    "axes[0, 0] = annotate_axes(axes[0, 0])\n",
    "axes[0, 0].set_xlim(min(allBH).value, 13)\n",
    "axes[0, 0].set_xlabel(r\"$m_{\\rm BH}\\, [{\\rm M_{\\odot}}]$\", fontsize=30)\n",
    "\n",
    "## neutron star mass ##\n",
    "axes[0, 1] = plot_kde_on_axis('m2', axes[0, 1])\n",
    "axes[0, 1] = annotate_axes(axes[0, 1], xloc='right')\n",
    "axes[0, 1].set_xlim(min(allNS).value, max(allNS).value)\n",
    "axes[0, 1].set_xlabel(r\"$m_{\\rm NS}\\, [{\\rm M_{\\odot}}]$\", fontsize=30)\n",
    "\n",
    "## chirp mass ##\n",
    "axes[0, 2] = plot_kde_on_axis('cm', axes[0, 2])\n",
    "axes[0, 2] = annotate_axes(axes[0, 2], yloc='bottom')\n",
    "axes[0, 2].set_xlim(min(allCM).value, 4.5)\n",
    "axes[0, 2].set_xlabel(r\"$\\mathcal{M}_{\\rm c}\\, [{\\rm M_{\\odot}}]$\", fontsize=30)\n",
    "\n",
    "## frequency ##\n",
    "axes[1, 0] = plot_kde_on_axis('f', axes[1, 0])\n",
    "axes[1, 0] = annotate_axes(axes[1, 0], number=3)\n",
    "axes[1, 0].axvspan(-4, -2, color=d_col, alpha=0.2)\n",
    "axes[1, 0].set_xlim(-8, -2)\n",
    "axes[1, 0].set_xlabel(r\"$\\log\\, \\rm{f}\\,\\, [{\\rm Hz}]$\", fontsize=30)\n",
    "axes[1, 0].set_yscale(\"log\")\n",
    "axes[1, 0].set_ylim((1e-2, 1e1))\n",
    "\n",
    "## separation ##\n",
    "axes[1, 1] = plot_kde_on_axis('a', axes[1, 1])\n",
    "axes[1, 1] = annotate_axes(axes[1, 1], number=3)\n",
    "axes[1, 1].set_xlim((-3, 1))\n",
    "axes[1, 1].set_xlabel(r\"$\\log\\, \\rm{a}\\, [{\\rm AU}]$\", fontsize=30)\n",
    "axes[1, 1].set_yscale(\"log\")\n",
    "axes[1, 1].set_ylim((1e-1, 1e1))\n",
    "\n",
    "## distance ##\n",
    "axes[1, 2] = plot_kde_on_axis('d', axes[1, 2])\n",
    "axes[1, 2] = annotate_axes(axes[1, 2])\n",
    "axes[1, 2].set_xlim(-0.5, max(np.log10(random_d.value)))\n",
    "axes[1, 2].set_xlabel(r\"$\\log \\, \\rm{d}\\, [{\\rm kpc}]$\", fontsize=30)\n",
    "\n",
    "## tform ##\n",
    "axes[2, 0] = plot_kde_on_axis('tf', axes[2, 0])\n",
    "axes[2, 0] = annotate_axes(axes[2, 0], xloc='right')\n",
    "axes[2, 0].set_xlim(min(alltform).to(u.Myr).value, max(alltform).to(u.Myr).value)\n",
    "axes[2, 0].set_xlabel(r\"$t_{\\rm form}\\, [{\\rm Myr}]$\", fontsize=30)\n",
    "\n",
    "## tdco ##\n",
    "axes[2, 1] = plot_kde_on_axis('td', axes[2, 1])\n",
    "axes[2, 1] = annotate_axes(axes[2, 1])\n",
    "axes[2, 1].set_xlim(min(uniform).to(u.Gyr).value, max(uniform).to(u.Gyr).value)\n",
    "axes[2, 1].set_xlabel(r\"$t_{\\rm DCO}\\, [{\\rm Gyr}]$\", fontsize=30)\n",
    "\n",
    "## tc ##\n",
    "axes[2, 2] = plot_kde_on_axis('tc', axes[2, 2])\n",
    "axes[2, 2] = annotate_axes(axes[2, 2], xloc='right')\n",
    "axes[2, 2].set_xlim(min(tc).to(u.Gyr).value, 14)\n",
    "axes[2, 2].set_yscale(\"log\")\n",
    "axes[2, 2].set_ylim((1e-3, 1e0))\n",
    "axes[2, 2].set_xlabel(r\"$t_{\\rm c}\\, [{\\rm Gyr}]$\", fontsize=30)\n",
    "\n",
    "plt.tight_layout(pad=0.4, w_pad=3, h_pad=3.0)\n",
    "plt.savefig(\"all_params_grid_kde.pdf\", format=\"pdf\", bbox_inches=\"tight\")\n",
    "plt.savefig(\"all_params_grid_kde.png\", bbox_inches=\"tight\")\n",
    "plt.show()"
   ]
  },
  {
   "cell_type": "markdown",
   "metadata": {},
   "source": [
    "# Attempt at Eccentricity"
   ]
  },
  {
   "cell_type": "code",
   "execution_count": 135,
   "metadata": {},
   "outputs": [],
   "source": [
    "def orbital_period(a, m1, m2):\n",
    "    T = 2 * np.pi * np.sqrt(np.power(a, 3) / (c.G * (m1 + m2)))\n",
    "    return T.to(u.day)"
   ]
  },
  {
   "cell_type": "code",
   "execution_count": null,
   "metadata": {},
   "outputs": [],
   "source": [
    "print(orbital_period(a, m1, m2).to(u.s))\n",
    "print(orbital_period(a, m1, m2).to(u.s) * gw_frequency(a, m1, m2).to(1 / u.s))"
   ]
  },
  {
   "cell_type": "code",
   "execution_count": null,
   "metadata": {},
   "outputs": [],
   "source": [
    "f, ax = plt.subplots(1, figsize=(12, 10))\n",
    "\n",
    "period = orbital_period(a, m1, m2)\n",
    "\n",
    "plt.scatter(np.log10(period.value), e, s=10, label=\"At DCO\", color=\"grey\")\n",
    "\n",
    "starts = np.random.rand(len(tc))\n",
    "\n",
    "# double compact object starts after formation time\n",
    "dco_starts = starts * MW_AGE + tform\n",
    "\n",
    "# binary will evolve for the rest of the age of the milky way\n",
    "evolution_times = MW_AGE - dco_starts\n",
    "\n",
    "## PLOT LINE\n",
    "# period_mask = np.logical_and(np.log10(period.value) > -1, np.log10(period.value) < -0.5)\n",
    "# e_mask = np.logical_and(e > 0.68, e < 0.72)\n",
    "# t_mask = tc.to(u.yr).value < evolution_times.to(u.yr).value\n",
    "# traj = np.logical_and(np.logical_and(period_mask, e_mask), t_mask)\n",
    "# ti = 0\n",
    "# print(min(evolution_times[traj][ti].to(u.Myr), tc[traj][ti].to(u.Myr)))\n",
    "# beta = (c.G**3 * m1[traj][ti] * m2[traj][ti] * (m1[traj][ti] + m2[traj][ti]) / c.c**5).to(u.m**4 / u.s).value\n",
    "# sol = odeint(orbit_evolution, [a[traj][ti].to(u.m).value, e[traj][ti]],\n",
    "#              np.linspace(0, (48 * u.Myr).to(u.s), 2000),\n",
    "#             args=(beta,), tfirst=True)\n",
    "\n",
    "# aline, eline = np.transpose(sol)\n",
    "# print(aline)\n",
    "# print(eline)\n",
    "# pline = orbital_period(aline * u.m, m1[traj][ti].to(u.kg), m2[traj][ti].to(u.kg)).to(u.day)\n",
    "# plt.plot(np.log10(pline.value), eline, lw=2, color='black', zorder=1000)\n",
    "\n",
    "# period_mask = np.logical_and(np.log10(period.value) > 0.5, np.log10(period.value) < 1)\n",
    "# t_mask = tc.to(u.yr).value < evolution_times.to(u.yr).value\n",
    "# traj = np.logical_and(period_mask, t_mask)\n",
    "# ti = 2\n",
    "# print(min(evolution_times[traj][ti].to(u.Myr), tc[traj][ti].to(u.Myr)))\n",
    "# beta = (c.G**3 * m1[traj][ti] * m2[traj][ti] * (m1[traj][ti] + m2[traj][ti]) / c.c**5).to(u.m**4 / u.s).value\n",
    "# sol = odeint(orbit_evolution, [a[traj][ti].to(u.m).value, e[traj][ti]],\n",
    "#              np.linspace(0, (evolution_times[traj][ti]).to(u.s), 2000),\n",
    "#             args=(beta,), tfirst=True)\n",
    "\n",
    "# aline, eline = np.transpose(sol)\n",
    "# print(aline)\n",
    "# print(eline)\n",
    "# pline = orbital_period(aline * u.m, m1[traj][ti].to(u.kg), m2[traj][ti].to(u.kg)).to(u.day)\n",
    "# plt.plot(np.log10(pline.value), eline, lw=2, color='black', zorder=1000)\n",
    "## DONE PLOT LINE\n",
    "\n",
    "# find current separation and mask those that have already merged\n",
    "still_merging = evolution_times < tc\n",
    "\n",
    "evolution_times = evolution_times[still_merging]\n",
    "mass1, mass2 = m1[still_merging], m2[still_merging]\n",
    "a_init = a[still_merging]\n",
    "e_init = e[still_merging]\n",
    "\n",
    "e_currents, c0 = evolve_eccentricity(e_init, a_init, mass1, mass2, evolution_times, 100)\n",
    "a_currents = e_to_a(e_currents, c0)\n",
    "\n",
    "plt.scatter(np.log10(orbital_period(a_currents, mass1, mass2).value),\n",
    "            e_currents, s=10, label=\"Today\", color=\"orange\")\n",
    "\n",
    "plt.xlabel(r\"$\\log_{10}$ Period [days]\", fontsize=fs)\n",
    "plt.ylabel(\"Eccentricity\", fontsize=fs)\n",
    "\n",
    "plt.annotate(\"BHNS at DCO\", xy=(0.98, 0.11), ha='right', xycoords='axes fraction', fontsize=fs, color='grey')\n",
    "plt.annotate(\"BHNS today\", xy=(0.98, 0.06), ha='right', xycoords='axes fraction', fontsize=fs, color='orange')\n",
    "\n",
    "ax.tick_params(which='both', labelsize=fs)\n",
    "\n",
    "plt.xlim((-1.2, 3))\n",
    "\n",
    "plt.grid(True)\n",
    "\n",
    "plt.show()"
   ]
  },
  {
   "cell_type": "code",
   "execution_count": null,
   "metadata": {},
   "outputs": [],
   "source": [
    "i = 6\n",
    "print(\"{0}, {1}, {2}, {3}, {4}, {5}\".format(a[i].value, e[i], m1[i].value, m2[i].value, tc[i].value, evolution_times[i].to(u.Myr).value))"
   ]
  }
 ],
 "metadata": {
  "kernelspec": {
   "display_name": "Python 3",
   "language": "python",
   "name": "python3"
  },
  "language_info": {
   "codemirror_mode": {
    "name": "ipython",
    "version": 3
   },
   "file_extension": ".py",
   "mimetype": "text/x-python",
   "name": "python",
   "nbconvert_exporter": "python",
   "pygments_lexer": "ipython3",
   "version": "3.8.3"
  }
 },
 "nbformat": 4,
 "nbformat_minor": 2
}
