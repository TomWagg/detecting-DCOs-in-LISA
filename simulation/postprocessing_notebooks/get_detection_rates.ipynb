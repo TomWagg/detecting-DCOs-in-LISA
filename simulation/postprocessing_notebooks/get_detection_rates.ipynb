{
 "cells": [
  {
   "cell_type": "markdown",
   "id": "indoor-graham",
   "metadata": {},
   "source": [
    "<table align=\"center\" style=\"text-align:center\">\n",
    "    <tbody>\n",
    "        <tr>\n",
    "            <td colspan=\"15\"><img src=\"https://raw.githubusercontent.com/TomWagg/tomwagg.github.io/main/img/milky_way_dcos.png\"/></td>\n",
    "            <td colspan=\"50\">\n",
    "                <h1 style=\"font-size:50px\">Get Detection Rates</h1>\n",
    "                <h2 style=\"font-size:20px;\"><i>Part of the notebook series for Wagg et al. 2021</i></h2>\n",
    "                <p style=\"font-size:15px;\">This notebook converts the raw data into detection totals and saves them for easy access.</p>\n",
    "            </td>\n",
    "            <td colspan=\"15\"><img src=\"https://raw.githubusercontent.com/TomWagg/tomwagg.github.io/main/img/milky_way_dcos.png\"/></td>\n",
    "        </tr>\n",
    "    </tbody>\n",
    "</table>"
   ]
  },
  {
   "cell_type": "code",
   "execution_count": 1,
   "id": "excess-homework",
   "metadata": {},
   "outputs": [],
   "source": [
    "import h5py as h5\n",
    "import numpy as np\n",
    "import astropy.units as u\n",
    "import matplotlib.pyplot as plt\n",
    "import seaborn as sns\n",
    "import legwork\n",
    "import os\n",
    "import sys\n",
    "sys.path.append(\"../src/\")\n",
    "from variations import variations\n",
    "from galaxy import simulate_mw"
   ]
  },
  {
   "cell_type": "code",
   "execution_count": 2,
   "id": "educational-principal",
   "metadata": {},
   "outputs": [],
   "source": [
    "%config InlineBackend.figure_format = 'retina'\n",
    "plt.rc('font', family='serif')\n",
    "fs = 20\n",
    "\n",
    "params = {'legend.fontsize': fs,\n",
    "         'axes.labelsize': fs,\n",
    "         'xtick.labelsize':0.7*fs,\n",
    "         'ytick.labelsize':0.7*fs}\n",
    "plt.rcParams.update(params)"
   ]
  },
  {
   "cell_type": "code",
   "execution_count": 3,
   "id": "valid-moral",
   "metadata": {},
   "outputs": [],
   "source": [
    "dco_colours = {\"BHBH\": plt.get_cmap(\"plasma\")(0.2), \n",
    "               \"BHNS\": plt.get_cmap(\"plasma\")(0.5),\n",
    "               \"NSNS\": plt.get_cmap(\"plasma\")(0.8)}\n",
    "\n",
    "dco_types = [\"BHBH\", \"BHNS\", \"NSNS\"]\n",
    "data_path = \"../data/\"\n",
    "sim_folder = data_path + \"simulation/\"\n",
    "simple_sim_folder = data_path + \"simple_mw_simulation/\"\n",
    "extended_sim_folder = data_path + \"simulation_10yr/\"\n",
    "\n",
    "total_DCOs_in_MW = np.load(data_path + \"total_DCO_in_MW.npy\")\n",
    "total_DCOs_in_simple_MW = np.load(data_path + \"total_DCO_in_simple_MW.npy\")\n",
    "\n",
    "total_DCOs_in_simple_MW_new = np.zeros_like(total_DCOs_in_MW)\n",
    "total_DCOs_in_simple_MW_new[:, 0] = total_DCOs_in_simple_MW[0]\n",
    "total_DCOs_in_simple_MW_new[:, 5] = total_DCOs_in_simple_MW[1]\n",
    "total_DCOs_in_simple_MW = total_DCOs_in_simple_MW_new"
   ]
  },
  {
   "cell_type": "markdown",
   "id": "weighted-groove",
   "metadata": {},
   "source": [
    "# Calculate number of detections"
   ]
  },
  {
   "cell_type": "code",
   "execution_count": 7,
   "id": "amended-quick",
   "metadata": {},
   "outputs": [],
   "source": [
    "def get_detections(dco_types=dco_types, variation_list=range(len(variations)), folder=sim_folder, totals=total_DCOs_in_MW, extended_mission=False):\n",
    "    # set up arrays for return\n",
    "    detections = np.zeros(shape=(len(dco_types), len(variations), 2500))\n",
    "\n",
    "    for d in range(len(dco_types)):\n",
    "        for v in variation_list:\n",
    "            # open the proper output file\n",
    "            fname = folder + \"{}_{}_all.h5\".format(dco_types[d], variations[v][\"file\"])\n",
    "            \n",
    "            if extended_mission:\n",
    "                fname = folder + \"{}_{}_10yr_all.h5\".format(dco_types[d], variations[v][\"file\"])\n",
    "            \n",
    "            if os.path.isfile(fname):\n",
    "                with h5.File(fname, \"r\") as f:\n",
    "                    parameter = \"n_detect\"\n",
    "                    n_detect = f[\"simulation\"].attrs[parameter].astype(int)\n",
    "                    total_mw_weight = f[\"simulation\"].attrs[\"total_MW_weight\"]\n",
    "                    full_data = f[\"simulation\"][...].squeeze()\n",
    "\n",
    "                # go through the file and normalise the detections for all binaries with SNR > x\n",
    "                cursor = 0\n",
    "                detections_per_MW = np.zeros(len(n_detect))\n",
    "                \n",
    "                checks = np.zeros(len(n_detect))\n",
    "                for i in range(len(n_detect)):\n",
    "                    weights = full_data[\"weight\"][cursor:cursor + n_detect[i]]\n",
    "                    checks = np.sum(weights)**2 / np.sum(weights**2)\n",
    "                    detections[d][v][i] = np.sum(weights) / total_mw_weight[i] * totals[d][v]\n",
    "                    cursor += n_detect[i]\n",
    "\n",
    "            # set to zero if no file exists (simulation will have crashed)\n",
    "            else:\n",
    "                detections[d][v] = 0\n",
    "                \n",
    "            print(d, v, detections[d][v].mean())\n",
    "    \n",
    "    return detections"
   ]
  },
  {
   "cell_type": "code",
   "execution_count": 8,
   "id": "computational-attention",
   "metadata": {},
   "outputs": [
    {
     "name": "stdout",
     "output_type": "stream",
     "text": [
      "0 0 73.80783369032252\n",
      "0 1 68.62366120385612\n",
      "0 2 46.84862548763242\n",
      "0 3 46.779646198353895\n",
      "0 4 65.84109988197558\n",
      "0 5 153.6305161178988\n",
      "0 6 27.821580433662557\n",
      "0 7 58.11973117813617\n",
      "0 8 67.36739038755559\n",
      "0 9 26.62016179861819\n",
      "0 10 151.06891782969865\n",
      "0 11 50.239850558539594\n",
      "0 12 95.89324804919633\n",
      "0 13 58.035859509547265\n",
      "0 14 75.08305257718563\n",
      "0 15 82.38948931797887\n",
      "0 16 91.55351131976154\n",
      "0 17 89.38411729509289\n",
      "0 18 75.39496679533205\n",
      "0 19 5.694392047082277\n",
      "1 0 42.213972596870185\n",
      "1 1 22.3072577369226\n",
      "1 2 8.22970777718762\n"
     ]
    },
    {
     "name": "stderr",
     "output_type": "stream",
     "text": [
      "/var/folders/3c/rntdf51j7jldynz_vkv0_3ww0000gn/T/ipykernel_40607/2404253287.py:27: RuntimeWarning: invalid value encountered in double_scalars\n",
      "  checks = np.sum(weights)**2 / np.sum(weights**2)\n"
     ]
    },
    {
     "name": "stdout",
     "output_type": "stream",
     "text": [
      "1 3 7.420886798563629\n",
      "1 4 20.99500531062175\n",
      "1 5 197.61074728432706\n",
      "1 6 2.096371145504264\n",
      "1 7 21.624367326569494\n",
      "1 8 37.81348407467861\n",
      "1 9 16.293546710261513\n",
      "1 10 56.63888254339634\n",
      "1 11 70.0094390048155\n",
      "1 12 29.97284123489926\n",
      "1 13 51.76866757421958\n",
      "1 14 43.20473362682169\n",
      "1 15 86.3005802375068\n",
      "1 16 142.60713205454445\n",
      "1 17 108.8317922172436\n",
      "1 18 33.95393881388039\n",
      "1 19 15.486080721460935\n",
      "2 0 7.9421002667664\n",
      "2 1 2.895727185379542\n",
      "2 2 3.9818298893804216\n",
      "2 3 12.723437395199408\n",
      "2 4 2.750812152758768\n",
      "2 5 16.896838100955957\n",
      "2 6 10.14040141837234\n",
      "2 7 5.866511286471199\n",
      "2 8 27.61721257533844\n",
      "2 9 34.83348405731635\n",
      "2 10 9.911149733723445\n",
      "2 11 6.652564900516423\n",
      "2 12 7.169384745014485\n",
      "2 13 8.26159484261536\n",
      "2 14 7.997393322720041\n",
      "2 15 15.353282959305751\n",
      "2 16 33.74133289471605\n",
      "2 17 7.241657269176164\n",
      "2 18 8.77644775013363\n",
      "2 19 8.45776051387555\n"
     ]
    }
   ],
   "source": [
    "detections_4yr = get_detections()"
   ]
  },
  {
   "cell_type": "code",
   "execution_count": 9,
   "id": "upper-border",
   "metadata": {},
   "outputs": [
    {
     "name": "stdout",
     "output_type": "stream",
     "text": [
      "0 0 117.49470260871541\n",
      "0 1 107.51826461157428\n",
      "0 2 75.61640666419683\n",
      "0 3 71.02261684700977\n",
      "0 4 100.70227413500433\n",
      "0 5 238.43116608032045\n",
      "0 6 43.72366857168408\n",
      "0 7 91.35245057613889\n",
      "0 8 109.23750208010925\n",
      "0 9 42.236225751973805\n",
      "0 10 228.98004295286518\n",
      "0 11 76.38406148583994\n",
      "0 12 153.18091716713434\n",
      "0 13 91.22163084479088\n",
      "0 14 120.12407924603669\n",
      "0 15 129.6764554217308\n",
      "0 16 142.49787851401393\n",
      "0 17 140.0598067077698\n",
      "0 18 111.99384045673665\n",
      "0 19 9.225239692914757\n",
      "1 0 71.05713214946786\n",
      "1 1 36.710781485866626\n",
      "1 2 13.561604759657962\n",
      "1 3 12.117263183209998\n",
      "1 4 28.869572005669873\n",
      "1 5 288.8120806199364\n",
      "1 6 3.4712578177694144\n",
      "1 7 34.655480402700896\n",
      "1 8 62.49096465215815\n",
      "1 9 26.54569112695937\n",
      "1 10 95.76031212376435\n",
      "1 11 117.05887925102495\n",
      "1 12 49.675283154488824\n",
      "1 13 84.58479305590787\n",
      "1 14 72.05016560626514\n",
      "1 15 144.62328270575864\n",
      "1 16 228.59677142172112\n",
      "1 17 180.03640094744804\n",
      "1 18 55.704642204484855\n",
      "1 19 26.107842309990122\n",
      "2 0 13.036639307270876\n",
      "2 1 4.685194896342399\n",
      "2 2 6.510130602611694\n",
      "2 3 21.158245949086336\n",
      "2 4 3.8431476880488757\n",
      "2 5 25.390456130739533\n",
      "2 6 16.641430161458974\n",
      "2 7 9.692253339825676\n",
      "2 8 45.92737644696061\n",
      "2 9 57.10928571798522\n",
      "2 10 15.755045249461645\n",
      "2 11 10.84823994622411\n",
      "2 12 11.61753789181924\n",
      "2 13 13.528680397624363\n",
      "2 14 12.877505711566393\n",
      "2 15 25.531490452532953\n",
      "2 16 55.14841356652209\n",
      "2 17 11.792638685713333\n",
      "2 18 14.254341333798898\n",
      "2 19 13.354736375718854\n"
     ]
    }
   ],
   "source": [
    "detections_10yr = get_detections(dco_types, extended_mission=True, folder=extended_sim_folder)"
   ]
  },
  {
   "cell_type": "code",
   "execution_count": 10,
   "id": "49e53442-f041-423a-aa7a-a5d6dc2f1ab9",
   "metadata": {},
   "outputs": [
    {
     "name": "stdout",
     "output_type": "stream",
     "text": [
      "0 0 52.3751446651769\n",
      "0 5 96.72893783753781\n",
      "1 0 24.93725218656574\n",
      "1 5 101.39867208989773\n",
      "2 0 17.374324879667842\n",
      "2 5 43.457652745656496\n"
     ]
    }
   ],
   "source": [
    "detections_simple = get_detections(folder=simple_sim_folder + \"simple_mw_\", variation_list=[0, 5], totals=total_DCOs_in_simple_MW)"
   ]
  },
  {
   "cell_type": "code",
   "execution_count": 11,
   "id": "unlimited-african",
   "metadata": {},
   "outputs": [],
   "source": [
    "np.save(\"../data/detections_4yr\", detections_4yr)\n",
    "np.save(\"../data/detections_10yr\", detections_10yr)"
   ]
  }
 ],
 "metadata": {
  "kernelspec": {
   "display_name": "Python 3 (ipykernel)",
   "language": "python",
   "name": "python3"
  },
  "language_info": {
   "codemirror_mode": {
    "name": "ipython",
    "version": 3
   },
   "file_extension": ".py",
   "mimetype": "text/x-python",
   "name": "python",
   "nbconvert_exporter": "python",
   "pygments_lexer": "ipython3",
   "version": "3.8.12"
  }
 },
 "nbformat": 4,
 "nbformat_minor": 5
}
