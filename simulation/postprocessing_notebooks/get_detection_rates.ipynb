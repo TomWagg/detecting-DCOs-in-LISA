{
 "cells": [
  {
   "cell_type": "markdown",
   "id": "limited-integrity",
   "metadata": {},
   "source": [
    "<h1 style=\"font-size:50px; text-align:center\">DCO Detections</h1>"
   ]
  },
  {
   "cell_type": "code",
   "execution_count": 8,
   "id": "molecular-mentor",
   "metadata": {},
   "outputs": [],
   "source": [
    "import h5py as h5\n",
    "import numpy as np\n",
    "import astropy.units as u\n",
    "import matplotlib.pyplot as plt\n",
    "import seaborn as sns\n",
    "import legwork\n",
    "import os\n",
    "import sys\n",
    "sys.path.append(\"../src/\")\n",
    "from variations import variations\n",
    "from galaxy import simulate_mw"
   ]
  },
  {
   "cell_type": "code",
   "execution_count": 9,
   "id": "crucial-monday",
   "metadata": {},
   "outputs": [],
   "source": [
    "%config InlineBackend.figure_format = 'retina'\n",
    "plt.rc('font', family='serif')\n",
    "fs = 20\n",
    "\n",
    "params = {'legend.fontsize': fs,\n",
    "         'axes.labelsize': fs,\n",
    "         'xtick.labelsize':0.7*fs,\n",
    "         'ytick.labelsize':0.7*fs}\n",
    "plt.rcParams.update(params)"
   ]
  },
  {
   "cell_type": "code",
   "execution_count": 10,
   "id": "stable-corps",
   "metadata": {},
   "outputs": [],
   "source": [
    "dco_colours = {\"BHBH\": plt.get_cmap(\"plasma\")(0.2), \n",
    "               \"BHNS\": plt.get_cmap(\"plasma\")(0.5),\n",
    "               \"NSNS\": plt.get_cmap(\"plasma\")(0.8)}\n",
    "\n",
    "dco_types = [\"BHBH\", \"BHNS\", \"NSNS\"]\n",
    "data_path = \"../data/\"\n",
    "sim_folder = data_path + \"simulation/\"\n",
    "simple_sim_folder = data_path + \"simple_mw_simulation/\"\n",
    "extended_sim_folder = data_path + \"simulation_10yr/\"\n",
    "\n",
    "total_DCOs_in_MW = np.load(data_path + \"total_DCO_in_MW.npy\")\n",
    "total_DCOs_in_simple_MW = np.load(data_path + \"total_DCO_in_simple_MW.npy\")\n",
    "\n",
    "total_DCOs_in_simple_MW_new = np.zeros_like(total_DCOs_in_MW)\n",
    "total_DCOs_in_simple_MW_new[:, 0] = total_DCOs_in_simple_MW[0]\n",
    "total_DCOs_in_simple_MW_new[:, 5] = total_DCOs_in_simple_MW[1]\n",
    "total_DCOs_in_simple_MW = total_DCOs_in_simple_MW_new"
   ]
  },
  {
   "cell_type": "code",
   "execution_count": 75,
   "id": "reflected-darkness",
   "metadata": {},
   "outputs": [],
   "source": [
    "simple_mw_fiducial = detections_4yr[:, 0].mean(axis=1) / total_DCOs_in_MW[:, 0] * total_DCOs_in_simple_MW[0, :]\n",
    "simple_mw_katie = detections_4yr[:, 5].mean(axis=1) / total_DCOs_in_MW[:, 5] * total_DCOs_in_simple_MW[1, :]"
   ]
  },
  {
   "cell_type": "markdown",
   "id": "fluid-drawing",
   "metadata": {},
   "source": [
    "# Calculate number of detections"
   ]
  },
  {
   "cell_type": "code",
   "execution_count": 11,
   "id": "unavailable-electricity",
   "metadata": {},
   "outputs": [],
   "source": [
    "def get_detections(dco_types=dco_types, variation_list=range(len(variations)), folder=sim_folder, totals=total_DCOs_in_MW, extended_mission=False):\n",
    "    # set up arrays for return\n",
    "    detections = np.zeros(shape=(len(dco_types), len(variations), 2500))\n",
    "\n",
    "    for d in range(len(dco_types)):\n",
    "        for v in variation_list:\n",
    "            # open the proper output file\n",
    "            fname = folder + \"{}_{}_all.h5\".format(dco_types[d], variations[v][\"file\"])\n",
    "            \n",
    "            if extended_mission:\n",
    "                fname = folder + \"{}_{}_10yr_all.h5\".format(dco_types[d], variations[v][\"file\"])\n",
    "            \n",
    "            if os.path.isfile(fname):\n",
    "                with h5.File(fname, \"r\") as f:\n",
    "                    parameter = \"n_detect\"\n",
    "                    if v in [17, 19]:\n",
    "                        parameter = \"n_ten_year\"\n",
    "                    n_detect = f[\"simulation\"].attrs[parameter].astype(np.int)\n",
    "                    total_mw_weight = f[\"simulation\"].attrs[\"total_MW_weight\"]\n",
    "                    full_data = f[\"simulation\"][...].squeeze()\n",
    "\n",
    "                # go through the file and normalise the detections for all binaries with SNR > x\n",
    "                cursor = 0\n",
    "                detections_per_MW = np.zeros(len(n_detect))\n",
    "                \n",
    "                checks = np.zeros(len(n_detect))\n",
    "                for i in range(len(n_detect)):\n",
    "                    weights = full_data[\"weight\"][cursor:cursor + n_detect[i]]\n",
    "                    checks = np.sum(weights)**2 / np.sum(weights**2)\n",
    "                    detections[d][v][i] = np.sum(weights) / total_mw_weight[i] * totals[d][v]\n",
    "                    cursor += n_detect[i]\n",
    "\n",
    "            # set to zero if no file exists (simulation will have crashed)\n",
    "            else:\n",
    "                detections[d][v] = 0\n",
    "                \n",
    "            print(d, v, detections[d][v].mean())\n",
    "    \n",
    "    return detections"
   ]
  },
  {
   "cell_type": "code",
   "execution_count": 56,
   "id": "silver-director",
   "metadata": {},
   "outputs": [
    {
     "name": "stdout",
     "output_type": "stream",
     "text": [
      "0 0 52.3751446651769\n",
      "0 5 96.72893783753781\n",
      "1 0 24.93725218656574\n",
      "1 5 101.39867208989773\n",
      "2 0 17.374324879667842\n",
      "2 5 43.457652745656496\n"
     ]
    }
   ],
   "source": [
    "detections_simple = get_detections(folder=simple_sim_folder + \"simple_mw_\", variation_list=[0, 5], totals=total_DCOs_in_simple_MW)"
   ]
  },
  {
   "cell_type": "code",
   "execution_count": 12,
   "id": "norman-confusion",
   "metadata": {},
   "outputs": [
    {
     "name": "stdout",
     "output_type": "stream",
     "text": [
      "0 0 74.0329532213235\n",
      "0 1 68.8149290199246\n",
      "0 2 46.99094453972454\n",
      "0 3 46.91890587905573\n",
      "0 4 69.26099797363257\n",
      "0 5 154.3290318193001\n",
      "0 6 27.93464327369012\n",
      "0 7 58.2729097140852\n",
      "0 8 67.6154535109307\n",
      "0 9 26.70402162619144\n",
      "0 10 151.51430066855596\n",
      "0 11 50.389973861134926\n",
      "0 12 96.21717718968601\n",
      "0 13 58.252718934233485\n",
      "0 14 75.33006261623602\n",
      "0 15 82.66221097394889\n",
      "0 16 91.84220949516094\n",
      "0 17 133.7688998176066\n",
      "0 18 75.67522813889646\n",
      "0 19 0.0\n",
      "1 0 42.35845607368241\n",
      "1 1 22.404356730637712\n",
      "1 2 8.255220459339595\n",
      "1 3 7.426608930563379\n",
      "1 4 7.25588173138878\n",
      "1 5 148.35334375131637\n",
      "1 6 2.1124608250568686\n",
      "1 7 21.754622932183523\n",
      "1 8 37.96281102288457\n",
      "1 9 16.309998128093063\n",
      "1 10 56.81392835161141\n",
      "1 11 70.23141789580879\n",
      "1 12 30.105679754325177\n",
      "1 13 51.90679829236058\n",
      "1 14 43.355132494925826\n",
      "1 15 86.57157445373693\n",
      "1 16 142.87203884283383\n",
      "1 17 159.61919311598655\n",
      "1 18 34.0127559258105\n",
      "1 19 25.30273476438943\n",
      "2 0 7.9437775048188515\n",
      "2 1 2.872357175852811\n",
      "2 2 3.941399857096911\n",
      "2 3 12.698251280785508\n",
      "2 4 0.22172825228413504\n",
      "2 5 18.229603118571266\n",
      "2 6 10.186644511593554\n",
      "2 7 5.88380652769224\n",
      "2 8 27.674711660410907\n",
      "2 9 34.91083185822268\n",
      "2 10 9.922384582165915\n",
      "2 11 6.651565800822859\n",
      "2 12 7.174457270668815\n",
      "2 13 8.241894157598301\n",
      "2 14 7.977803612771134\n",
      "2 15 15.408928837510228\n",
      "2 16 33.57742069286192\n",
      "2 17 16.037509503475523\n",
      "2 18 8.78340758800099\n",
      "2 19 15.593787834383983\n"
     ]
    },
    {
     "name": "stderr",
     "output_type": "stream",
     "text": [
      "<ipython-input-11-750470f2041e>:29: RuntimeWarning: invalid value encountered in double_scalars\n",
      "  checks = np.sum(weights)**2 / np.sum(weights**2)\n"
     ]
    }
   ],
   "source": [
    "detections_4yr = get_detections()"
   ]
  },
  {
   "cell_type": "code",
   "execution_count": 13,
   "id": "private-absence",
   "metadata": {},
   "outputs": [
    {
     "name": "stdout",
     "output_type": "stream",
     "text": [
      "0 0 117.85307042719589\n",
      "0 1 107.81793943653936\n",
      "0 2 75.84611789279842\n",
      "0 3 71.23404612765857\n",
      "0 4 109.29265007499845\n",
      "0 5 239.51524701306107\n",
      "0 6 43.90135517568294\n",
      "0 7 91.59321622234809\n",
      "0 8 109.63974114265565\n",
      "0 9 42.36927988724541\n",
      "0 10 229.65512412136198\n",
      "0 11 76.6123071404033\n",
      "0 12 153.69836509852482\n",
      "0 13 91.56249372768977\n",
      "0 14 120.51926634201887\n",
      "0 15 130.1057040790012\n",
      "0 16 142.94722094700487\n",
      "0 17 0.0\n",
      "0 18 112.41014867373673\n",
      "0 19 0.0\n",
      "1 0 71.30033554572967\n",
      "1 1 36.870576113373566\n",
      "1 2 13.603646703439113\n",
      "1 3 12.126606619013852\n",
      "1 4 11.759682194353912\n",
      "1 5 216.8213949117562\n",
      "1 6 3.497899772869856\n",
      "1 7 34.86422965855323\n",
      "1 8 62.73774394981621\n",
      "1 9 26.572494024089305\n",
      "1 10 96.05626501827614\n",
      "1 11 117.43003777716703\n",
      "1 12 49.89544216492731\n",
      "1 13 84.81048474851073\n",
      "1 14 72.30097755311093\n",
      "1 15 145.0774172322893\n",
      "1 16 229.021412431313\n",
      "1 17 0.0\n",
      "1 18 55.80113722951058\n",
      "1 19 0.0\n",
      "2 0 13.039392426318459\n",
      "2 1 4.647382960910449\n",
      "2 2 6.444029137268982\n",
      "2 3 21.116363084674852\n",
      "2 4 0.3666325737525432\n",
      "2 5 27.393168798645807\n",
      "2 6 16.717319781064802\n",
      "2 7 9.720827368119851\n",
      "2 8 46.02299732536297\n",
      "2 9 57.236096968170514\n",
      "2 10 15.772904483792418\n",
      "2 11 10.846610729017204\n",
      "2 12 11.625757601193516\n",
      "2 13 13.496419765592972\n",
      "2 14 12.845962108347791\n",
      "2 15 25.624025854366298\n",
      "2 16 54.880507792774004\n",
      "2 17 0.0\n",
      "2 18 14.265645212932428\n",
      "2 19 0.0\n"
     ]
    }
   ],
   "source": [
    "detections_10yr = get_detections(dco_types, extended_mission=True, folder=extended_sim_folder)"
   ]
  },
  {
   "cell_type": "code",
   "execution_count": 17,
   "id": "false-debate",
   "metadata": {},
   "outputs": [
    {
     "name": "stderr",
     "output_type": "stream",
     "text": [
      "<ipython-input-17-c28fa89acc87>:1: RuntimeWarning: invalid value encountered in true_divide\n",
      "  detections_10yr.mean(axis=2) / detections_4yr.mean(axis=2)\n"
     ]
    },
    {
     "data": {
      "text/plain": [
       "array([[1.59190016, 1.56678123, 1.61405817, 1.51823758, 1.57798261,\n",
       "        1.5519779 , 1.57157386, 1.57179754, 1.62151898, 1.58662543,\n",
       "        1.51573233, 1.52038791, 1.59741087, 1.57181494, 1.59988273,\n",
       "        1.57394416, 1.55644362, 0.        , 1.48542861,        nan],\n",
       "       [1.68326096, 1.64568778, 1.64788412, 1.63285919, 1.62071029,\n",
       "        1.46152011, 1.65584125, 1.60261245, 1.6526106 , 1.62921503,\n",
       "        1.69071683, 1.67204424, 1.65734315, 1.63389936, 1.66764518,\n",
       "        1.67580893, 1.60298274, 0.        , 1.64059441, 0.        ],\n",
       "       [1.64145992, 1.61796834, 1.6349595 , 1.66293473, 1.65352214,\n",
       "        1.502675  , 1.64110172, 1.65213239, 1.66299826, 1.63949393,\n",
       "        1.58962842, 1.63068532, 1.62043722, 1.63753859, 1.61021288,\n",
       "        1.66293362, 1.6344468 , 0.        , 1.6241584 , 0.        ]])"
      ]
     },
     "execution_count": 17,
     "metadata": {},
     "output_type": "execute_result"
    }
   ],
   "source": [
    "detections_10yr.mean(axis=2) / detections_4yr.mean(axis=2)"
   ]
  },
  {
   "cell_type": "code",
   "execution_count": 14,
   "id": "guilty-heading",
   "metadata": {},
   "outputs": [],
   "source": [
    "np.save(\"../data/detections_4yr\", detections_4yr)\n",
    "np.save(\"../data/detections_10yr\", detections_10yr)"
   ]
  },
  {
   "cell_type": "markdown",
   "id": "extensive-exposure",
   "metadata": {},
   "source": [
    "# What if we assumed everything was circular?"
   ]
  },
  {
   "cell_type": "code",
   "execution_count": 18,
   "id": "cooked-investing",
   "metadata": {},
   "outputs": [],
   "source": [
    "fid_sources = [None, None, None]\n",
    "total_mw_weights = [None, None, None]\n",
    "for i in range(len(dco_types)):\n",
    "    with h5.File(sim_folder + \"{}_fiducial_all.h5\".format(dco_types[i]), \"r\") as f:\n",
    "        full_data = f[\"simulation\"][...].squeeze()\n",
    "        snr_mask = full_data[\"snr\"] > 7\n",
    "        \n",
    "        data = full_data[snr_mask]\n",
    "        \n",
    "        total_mw_weights[i] = f[\"simulation\"].attrs[\"total_MW_weight\"].sum()\n",
    "        \n",
    "    fid_sources[i] = legwork.source.Source(m_1=data[\"m_1\"] * u.Msun, m_2=data[\"m_2\"] * u.Msun,\n",
    "                                           dist=data[\"dist\"] * u.kpc, ecc=data[\"e_LISA\"],\n",
    "                                           a=data[\"a_LISA\"] * u.AU)\n",
    "    fid_sources[i].weight = data[\"weight\"]"
   ]
  },
  {
   "cell_type": "code",
   "execution_count": 20,
   "id": "cooked-retention",
   "metadata": {},
   "outputs": [
    {
     "name": "stdout",
     "output_type": "stream",
     "text": [
      "0.7507807027945674\n",
      "55.584457522400825\n",
      "0.8945025757444555\n",
      "37.88796901335333\n",
      "0.800666948268491\n",
      "6.360363999609783\n"
     ]
    }
   ],
   "source": [
    "for i in range(len(dco_types)):\n",
    "    snr_true = fid_sources[i].get_snr()\n",
    "    new_source = fid_sources[i]\n",
    "    new_source.ecc = np.zeros(new_source.n_sources)\n",
    "    snr_circ = new_source.get_snr()\n",
    "    \n",
    "    full_mask = snr_circ > 7\n",
    "    \n",
    "    print(np.sum(new_source.weight[full_mask]) / np.sum(new_source.weight))\n",
    "    \n",
    "    print(np.sum(new_source.weight[full_mask]) / total_mw_weights[i] * total_DCOs_in_MW[i][0])"
   ]
  },
  {
   "cell_type": "markdown",
   "id": "agricultural-metadata",
   "metadata": {},
   "source": [
    "# Sesana specific"
   ]
  },
  {
   "cell_type": "code",
   "execution_count": 55,
   "id": "breathing-program",
   "metadata": {},
   "outputs": [],
   "source": [
    "fid_sources = [None, None, None]\n",
    "total_mw_weights = [None, None, None]\n",
    "for i in range(len(dco_types)):\n",
    "    with h5.File(sim_folder + \"{}_massTransferEfficiencyFixed_0_5_all.h5\".format(dco_types[i]), \"r\") as f:\n",
    "        full_data = f[\"simulation\"][...].squeeze()\n",
    "        snr_mask = full_data[\"snr\"] > 7\n",
    "        \n",
    "        data = full_data[snr_mask]\n",
    "        \n",
    "        total_mw_weights[i] = f[\"simulation\"].attrs[\"total_MW_weight\"].sum()\n",
    "        \n",
    "    fid_sources[i] = legwork.source.Source(m_1=data[\"m_1\"] * u.Msun, m_2=data[\"m_2\"] * u.Msun,\n",
    "                                           dist=data[\"dist\"] * u.kpc, ecc=data[\"e_LISA\"],\n",
    "                                           a=data[\"a_LISA\"] * u.AU)\n",
    "    fid_sources[i].weight = data[\"weight\"]\n",
    "    fid_sources[i].zams_mask = np.logical_and(data[\"m_1_ZAMS\"] >= 20, data[\"m_1_ZAMS\"] <= 120)"
   ]
  },
  {
   "cell_type": "code",
   "execution_count": 56,
   "id": "better-rough",
   "metadata": {},
   "outputs": [
    {
     "name": "stdout",
     "output_type": "stream",
     "text": [
      "27.72703093695445\n",
      "6.985324518363619\n",
      "0.06933292048296986\n"
     ]
    }
   ],
   "source": [
    "for i in range(len(dco_types)):\n",
    "    snr_true = fid_sources[i].get_snr()\n",
    "    new_source = fid_sources[i]\n",
    "    new_source.ecc = np.zeros(new_source.n_sources)\n",
    "    snr_circ = new_source.get_snr()\n",
    "    \n",
    "    full_mask = np.logical_and(fid_sources[i].zams_mask, snr_circ > 7)\n",
    "    \n",
    "    print(np.sum(new_source.weight[full_mask]) / total_mw_weights[i] * total_DCOs_in_MW[i][2])"
   ]
  }
 ],
 "metadata": {
  "kernelspec": {
   "display_name": "Python 3",
   "language": "python",
   "name": "python3"
  },
  "language_info": {
   "codemirror_mode": {
    "name": "ipython",
    "version": 3
   },
   "file_extension": ".py",
   "mimetype": "text/x-python",
   "name": "python",
   "nbconvert_exporter": "python",
   "pygments_lexer": "ipython3",
   "version": "3.8.5"
  }
 },
 "nbformat": 4,
 "nbformat_minor": 5
}
