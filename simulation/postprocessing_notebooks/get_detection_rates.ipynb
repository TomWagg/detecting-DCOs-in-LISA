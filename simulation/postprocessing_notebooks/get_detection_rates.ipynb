{
 "cells": [
  {
   "cell_type": "markdown",
   "id": "furnished-option",
   "metadata": {},
   "source": [
    "<h1 style=\"font-size:50px; text-align:center\">DCO Detections</h1>"
   ]
  },
  {
   "cell_type": "code",
   "execution_count": 1,
   "id": "final-participation",
   "metadata": {},
   "outputs": [],
   "source": [
    "import h5py as h5\n",
    "import numpy as np\n",
    "import astropy.units as u\n",
    "import matplotlib.pyplot as plt\n",
    "import seaborn as sns\n",
    "import legwork\n",
    "import os\n",
    "import sys\n",
    "sys.path.append(\"../src/\")\n",
    "from variations import variations\n",
    "from galaxy import simulate_mw"
   ]
  },
  {
   "cell_type": "code",
   "execution_count": 2,
   "id": "southwest-insider",
   "metadata": {},
   "outputs": [],
   "source": [
    "%config InlineBackend.figure_format = 'retina'\n",
    "plt.rc('font', family='serif')\n",
    "fs = 20\n",
    "\n",
    "params = {'legend.fontsize': fs,\n",
    "         'axes.labelsize': fs,\n",
    "         'xtick.labelsize':0.7*fs,\n",
    "         'ytick.labelsize':0.7*fs}\n",
    "plt.rcParams.update(params)"
   ]
  },
  {
   "cell_type": "code",
   "execution_count": 3,
   "id": "affiliated-sleeping",
   "metadata": {},
   "outputs": [],
   "source": [
    "dco_colours = {\"BHBH\": plt.get_cmap(\"plasma\")(0.2), \n",
    "               \"BHNS\": plt.get_cmap(\"plasma\")(0.5),\n",
    "               \"NSNS\": plt.get_cmap(\"plasma\")(0.8)}\n",
    "\n",
    "dco_types = [\"BHBH\", \"BHNS\", \"NSNS\"]\n",
    "data_path = \"../data/\"\n",
    "sim_folder = data_path + \"simulation/\"\n",
    "simple_sim_folder = data_path + \"simple_mw_simulation/\"\n",
    "\n",
    "total_DCOs_in_MW = np.load(data_path + \"total_DCO_in_MW.npy\")\n",
    "total_DCOs_in_simple_MW = np.load(data_path + \"total_DCO_in_simple_MW.npy\")\n",
    "\n",
    "total_DCOs_in_simple_MW_new = np.zeros_like(total_DCOs_in_MW)\n",
    "total_DCOs_in_simple_MW_new[:, 0] = total_DCOs_in_simple_MW[0]\n",
    "total_DCOs_in_simple_MW_new[:, 5] = total_DCOs_in_simple_MW[1]\n",
    "total_DCOs_in_simple_MW = total_DCOs_in_simple_MW_new"
   ]
  },
  {
   "cell_type": "code",
   "execution_count": 75,
   "id": "eligible-indian",
   "metadata": {},
   "outputs": [],
   "source": [
    "simple_mw_fiducial = detections_4yr[:, 0].mean(axis=1) / total_DCOs_in_MW[:, 0] * total_DCOs_in_simple_MW[0, :]\n",
    "simple_mw_katie = detections_4yr[:, 5].mean(axis=1) / total_DCOs_in_MW[:, 5] * total_DCOs_in_simple_MW[1, :]"
   ]
  },
  {
   "cell_type": "code",
   "execution_count": 78,
   "id": "exterior-batch",
   "metadata": {},
   "outputs": [
    {
     "name": "stdout",
     "output_type": "stream",
     "text": [
      "[52 22 11]\n",
      "[80 74 22]\n"
     ]
    }
   ],
   "source": [
    "print(simple_mw_fiducial.round().astype(int))\n",
    "print(simple_mw_katie.round().astype(int))"
   ]
  },
  {
   "cell_type": "markdown",
   "id": "acknowledged-samoa",
   "metadata": {},
   "source": [
    "# Calculate number of detections"
   ]
  },
  {
   "cell_type": "code",
   "execution_count": 4,
   "id": "bottom-marble",
   "metadata": {},
   "outputs": [],
   "source": [
    "def get_detections(dco_types=dco_types, variation_list=range(len(variations)), folder=sim_folder, totals=total_DCOs_in_MW, t_obs=4*u.yr):\n",
    "    # set up arrays for return\n",
    "    detections = np.zeros(shape=(len(dco_types), len(variations), 2500))\n",
    "\n",
    "    for d in range(len(dco_types)):\n",
    "        for v in variation_list:\n",
    "            # open the proper output file\n",
    "            fname = folder + \"{}_{}_all.h5\".format(dco_types[d], variations[v][\"file\"])\n",
    "            if os.path.isfile(fname):\n",
    "                with h5.File(fname, \"r\") as f:\n",
    "                    parameter = \"n_detect\"\n",
    "                    if v in [17, 19]:\n",
    "                        parameter = \"n_ten_year\"\n",
    "                    n_detect = f[\"simulation\"].attrs[parameter].astype(np.int)\n",
    "                    total_mw_weight = f[\"simulation\"].attrs[\"total_MW_weight\"]\n",
    "                    full_data = f[\"simulation\"][...].squeeze()\n",
    "\n",
    "                # go through the file and normalise the detections for all binaries with SNR > x\n",
    "                cursor = 0\n",
    "                detections_per_MW = np.zeros(len(n_detect))\n",
    "                \n",
    "                checks = np.zeros(len(n_detect))\n",
    "                for i in range(len(n_detect)):\n",
    "                    snr = full_data[\"snr\"][cursor:cursor + n_detect[i]]\n",
    "                    weights = full_data[\"weight\"][cursor:cursor + n_detect[i]]\n",
    "                    checks = np.sum(weights)**2 / np.sum(weights**2)\n",
    "                    detections[d][v][i] = np.sum(weights[snr * np.sqrt(t_obs / (4 * u.yr)) > 7]) / total_mw_weight[i] * totals[d][v]\n",
    "                    cursor += n_detect[i]\n",
    "\n",
    "            # set to zero if no file exists (simulation will have crashed)\n",
    "            else:\n",
    "                detections[d][v] = 0\n",
    "                \n",
    "            print(d, v, detections[d][v].mean())\n",
    "    \n",
    "    return detections"
   ]
  },
  {
   "cell_type": "code",
   "execution_count": 56,
   "id": "thermal-judge",
   "metadata": {},
   "outputs": [
    {
     "name": "stdout",
     "output_type": "stream",
     "text": [
      "0 0 52.3751446651769\n",
      "0 5 96.72893783753781\n",
      "1 0 24.93725218656574\n",
      "1 5 101.39867208989773\n",
      "2 0 17.374324879667842\n",
      "2 5 43.457652745656496\n"
     ]
    }
   ],
   "source": [
    "detections_simple = get_detections(folder=simple_sim_folder + \"simple_mw_\", variation_list=[0, 5], totals=total_DCOs_in_simple_MW)"
   ]
  },
  {
   "cell_type": "code",
   "execution_count": 63,
   "id": "paperback-malaysia",
   "metadata": {},
   "outputs": [
    {
     "data": {
      "text/plain": [
       "array([ 97, 101,  43])"
      ]
     },
     "execution_count": 63,
     "metadata": {},
     "output_type": "execute_result"
    }
   ],
   "source": [
    "detections_simple[:, 5].mean(axis=1).round().astype(int)"
   ]
  },
  {
   "cell_type": "code",
   "execution_count": 80,
   "id": "derived-grave",
   "metadata": {},
   "outputs": [
    {
     "data": {
      "text/plain": [
       "array([0.75827354, 0.79552324, 1.00616999])"
      ]
     },
     "execution_count": 80,
     "metadata": {},
     "output_type": "execute_result"
    }
   ],
   "source": [
    "(detections_4yr[:, 11].mean(axis=1) / total_DCOs_in_MW[:, 11]) / (detections_4yr[:, 0].mean(axis=1) / total_DCOs_in_MW[:, 0])"
   ]
  },
  {
   "cell_type": "code",
   "execution_count": 81,
   "id": "sacred-bachelor",
   "metadata": {},
   "outputs": [
    {
     "data": {
      "text/plain": [
       "array([0.89879758, 2.08820566, 0.83680915])"
      ]
     },
     "execution_count": 81,
     "metadata": {},
     "output_type": "execute_result"
    }
   ],
   "source": [
    "total_DCOs_in_MW[:, 11] / total_DCOs_in_MW[:, 0]"
   ]
  },
  {
   "cell_type": "code",
   "execution_count": 83,
   "id": "dirty-election",
   "metadata": {},
   "outputs": [
    {
     "data": {
      "text/plain": [
       "array([0.70287485, 0.75264659, 1.19052106])"
      ]
     },
     "execution_count": 83,
     "metadata": {},
     "output_type": "execute_result"
    }
   ],
   "source": [
    "(detections_4yr[:, 18].mean(axis=1) / total_DCOs_in_MW[:, 18]) / (detections_4yr[:, 0].mean(axis=1) / total_DCOs_in_MW[:, 0])"
   ]
  },
  {
   "cell_type": "code",
   "execution_count": 82,
   "id": "automatic-nomination",
   "metadata": {},
   "outputs": [
    {
     "data": {
      "text/plain": [
       "array([1.45605119, 1.06884256, 0.93392604])"
      ]
     },
     "execution_count": 82,
     "metadata": {},
     "output_type": "execute_result"
    }
   ],
   "source": [
    "total_DCOs_in_MW[:, 18] / total_DCOs_in_MW[:, 0]"
   ]
  },
  {
   "cell_type": "code",
   "execution_count": 76,
   "id": "modern-chocolate",
   "metadata": {},
   "outputs": [
    {
     "data": {
      "text/plain": [
       "array([1.09217310e-04, 8.73358274e-05, 5.16216468e-05])"
      ]
     },
     "execution_count": 76,
     "metadata": {},
     "output_type": "execute_result"
    }
   ],
   "source": []
  },
  {
   "cell_type": "code",
   "execution_count": 5,
   "id": "attractive-problem",
   "metadata": {},
   "outputs": [
    {
     "name": "stdout",
     "output_type": "stream",
     "text": [
      "0 0 74.0329532213235\n",
      "0 1 68.8149290199246\n",
      "0 2 46.99094453972454\n",
      "0 3 46.91890587905573\n",
      "0 4 69.26099797363257\n",
      "0 5 154.3290318193001\n",
      "0 6 27.93464327369012\n",
      "0 7 58.2729097140852\n",
      "0 8 67.6154535109307\n",
      "0 9 26.70402162619144\n",
      "0 10 151.51430066855596\n",
      "0 11 50.389973861134926\n",
      "0 12 96.21717718968601\n",
      "0 13 58.252718934233485\n",
      "0 14 75.33006261623602\n",
      "0 15 82.66221097394889\n",
      "0 16 91.84220949516094\n",
      "0 17 86.1838335035012\n",
      "0 18 75.67522813889646\n",
      "0 19 0.0\n",
      "1 0 42.35845607368241\n",
      "1 1 22.404356730637712\n",
      "1 2 8.255220459339595\n",
      "1 3 7.426608930563379\n",
      "1 4 7.25588173138878\n",
      "1 5 148.35334375131637\n",
      "1 6 2.1124608250568686\n",
      "1 7 21.754622932183523\n",
      "1 8 37.96281102288457\n",
      "1 9 16.309998128093063\n",
      "1 10 56.81392835161141\n",
      "1 11 70.23141789580879\n",
      "1 12 30.105679754325177\n",
      "1 13 51.90679829236058\n",
      "1 14 43.355132494925826\n",
      "1 15 86.57157445373693\n",
      "1 16 142.87203884283383\n",
      "1 17 96.10273007453586\n",
      "1 18 34.0127559258105\n",
      "1 19 14.95590921147829\n",
      "2 0 7.9437775048188515\n",
      "2 1 2.872357175852811\n",
      "2 2 3.941399857096911\n",
      "2 3 12.698251280785508\n",
      "2 4 0.22172825228413504\n",
      "2 5 18.229603118571266\n",
      "2 6 10.186644511593554\n",
      "2 7 5.88380652769224\n",
      "2 8 27.674711660410907\n",
      "2 9 34.91083185822268\n",
      "2 10 9.922384582165915\n",
      "2 11 6.651565800822859\n",
      "2 12 7.174457270668815\n",
      "2 13 8.241894157598301\n",
      "2 14 7.977803612771134\n",
      "2 15 15.408928837510228\n"
     ]
    },
    {
     "name": "stderr",
     "output_type": "stream",
     "text": [
      "<ipython-input-4-94c9bded0a7e>:26: RuntimeWarning: invalid value encountered in double_scalars\n",
      "  checks = np.sum(weights)**2 / np.sum(weights**2)\n"
     ]
    },
    {
     "name": "stdout",
     "output_type": "stream",
     "text": [
      "2 16 33.57742069286192\n",
      "2 17 9.731617839656844\n",
      "2 18 8.78340758800099\n",
      "2 19 9.608981019431885\n"
     ]
    }
   ],
   "source": [
    "detections_4yr = get_detections()"
   ]
  },
  {
   "cell_type": "code",
   "execution_count": 6,
   "id": "academic-synthetic",
   "metadata": {},
   "outputs": [],
   "source": [
    "detections_10yr = get_detections(dco_types, t_obs=10*u.yr)"
   ]
  },
  {
   "cell_type": "code",
   "execution_count": 7,
   "id": "olive-lighting",
   "metadata": {},
   "outputs": [],
   "source": [
    "detections_only_fractions = get_detections(dco_types, only_frac=True)"
   ]
  },
  {
   "cell_type": "code",
   "execution_count": 7,
   "id": "sixth-sudan",
   "metadata": {},
   "outputs": [
    {
     "ename": "NameError",
     "evalue": "name 'detections_10yr' is not defined",
     "output_type": "error",
     "traceback": [
      "\u001b[0;31m---------------------------------------------------------------------------\u001b[0m",
      "\u001b[0;31mNameError\u001b[0m                                 Traceback (most recent call last)",
      "\u001b[0;32m<ipython-input-7-a152b41621dd>\u001b[0m in \u001b[0;36m<module>\u001b[0;34m\u001b[0m\n\u001b[1;32m      1\u001b[0m \u001b[0mnp\u001b[0m\u001b[0;34m.\u001b[0m\u001b[0msave\u001b[0m\u001b[0;34m(\u001b[0m\u001b[0;34m\"../data/detections_4yr\"\u001b[0m\u001b[0;34m,\u001b[0m \u001b[0mdetections_4yr\u001b[0m\u001b[0;34m)\u001b[0m\u001b[0;34m\u001b[0m\u001b[0;34m\u001b[0m\u001b[0m\n\u001b[0;32m----> 2\u001b[0;31m \u001b[0mnp\u001b[0m\u001b[0;34m.\u001b[0m\u001b[0msave\u001b[0m\u001b[0;34m(\u001b[0m\u001b[0;34m\"../data/detections_10yr\"\u001b[0m\u001b[0;34m,\u001b[0m \u001b[0mdetections_10yr\u001b[0m\u001b[0;34m)\u001b[0m\u001b[0;34m\u001b[0m\u001b[0;34m\u001b[0m\u001b[0m\n\u001b[0m\u001b[1;32m      3\u001b[0m \u001b[0mnp\u001b[0m\u001b[0;34m.\u001b[0m\u001b[0msave\u001b[0m\u001b[0;34m(\u001b[0m\u001b[0;34m\"../data/detections_only_fractions\"\u001b[0m\u001b[0;34m,\u001b[0m \u001b[0mdetections_only_fractions\u001b[0m\u001b[0;34m)\u001b[0m\u001b[0;34m\u001b[0m\u001b[0;34m\u001b[0m\u001b[0m\n",
      "\u001b[0;31mNameError\u001b[0m: name 'detections_10yr' is not defined"
     ]
    }
   ],
   "source": [
    "np.save(\"../data/detections_4yr\", detections_4yr)\n",
    "np.save(\"../data/detections_10yr\", detections_10yr)\n",
    "np.save(\"../data/detections_only_fractions\", detections_only_fractions)"
   ]
  },
  {
   "cell_type": "markdown",
   "id": "racial-extraction",
   "metadata": {},
   "source": [
    "# What if we assumed everything was circular?"
   ]
  },
  {
   "cell_type": "code",
   "execution_count": 55,
   "id": "cooked-committee",
   "metadata": {},
   "outputs": [],
   "source": [
    "fid_sources = [None, None, None]\n",
    "total_mw_weights = [None, None, None]\n",
    "for i in range(len(dco_types)):\n",
    "    with h5.File(sim_folder + \"{}_massTransferEfficiencyFixed_0_5_all.h5\".format(dco_types[i]), \"r\") as f:\n",
    "        full_data = f[\"simulation\"][...].squeeze()\n",
    "        snr_mask = full_data[\"snr\"] > 7\n",
    "        \n",
    "        data = full_data[snr_mask]\n",
    "        \n",
    "        total_mw_weights[i] = f[\"simulation\"].attrs[\"total_MW_weight\"].sum()\n",
    "        \n",
    "    fid_sources[i] = legwork.source.Source(m_1=data[\"m_1\"] * u.Msun, m_2=data[\"m_2\"] * u.Msun,\n",
    "                                           dist=data[\"dist\"] * u.kpc, ecc=data[\"e_LISA\"],\n",
    "                                           a=data[\"a_LISA\"] * u.AU)\n",
    "    fid_sources[i].weight = data[\"weight\"]\n",
    "    fid_sources[i].zams_mask = np.logical_and(data[\"m_1_ZAMS\"] >= 20, data[\"m_1_ZAMS\"] <= 120)"
   ]
  },
  {
   "cell_type": "code",
   "execution_count": 56,
   "id": "active-copyright",
   "metadata": {},
   "outputs": [
    {
     "name": "stdout",
     "output_type": "stream",
     "text": [
      "27.72703093695445\n",
      "6.985324518363619\n",
      "0.06933292048296986\n"
     ]
    }
   ],
   "source": [
    "for i in range(len(dco_types)):\n",
    "    snr_true = fid_sources[i].get_snr()\n",
    "    new_source = fid_sources[i]\n",
    "    new_source.ecc = np.zeros(new_source.n_sources)\n",
    "    snr_circ = new_source.get_snr()\n",
    "    \n",
    "    full_mask = np.logical_and(fid_sources[i].zams_mask, snr_circ > 7)\n",
    "    \n",
    "    print(np.sum(new_source.weight[full_mask]) / total_mw_weights[i] * total_DCOs_in_MW[i][2])"
   ]
  }
 ],
 "metadata": {
  "kernelspec": {
   "display_name": "Python 3",
   "language": "python",
   "name": "python3"
  },
  "language_info": {
   "codemirror_mode": {
    "name": "ipython",
    "version": 3
   },
   "file_extension": ".py",
   "mimetype": "text/x-python",
   "name": "python",
   "nbconvert_exporter": "python",
   "pygments_lexer": "ipython3",
   "version": "3.8.5"
  }
 },
 "nbformat": 4,
 "nbformat_minor": 5
}
