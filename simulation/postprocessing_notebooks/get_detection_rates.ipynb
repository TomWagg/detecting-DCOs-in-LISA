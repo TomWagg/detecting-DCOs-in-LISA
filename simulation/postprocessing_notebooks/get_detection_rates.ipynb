{
 "cells": [
  {
   "cell_type": "markdown",
   "id": "digital-pointer",
   "metadata": {},
   "source": [
    "<h1 style=\"font-size:50px; text-align:center\">DCO Detections</h1>"
   ]
  },
  {
   "cell_type": "code",
   "execution_count": 15,
   "id": "funky-unemployment",
   "metadata": {},
   "outputs": [],
   "source": [
    "import h5py as h5\n",
    "import numpy as np\n",
    "import astropy.units as u\n",
    "import matplotlib.pyplot as plt\n",
    "import seaborn as sns\n",
    "import legwork\n",
    "import os\n",
    "import sys\n",
    "sys.path.append(\"../src/\")\n",
    "from variations import variations\n",
    "from galaxy import simulate_mw"
   ]
  },
  {
   "cell_type": "code",
   "execution_count": 16,
   "id": "polar-poison",
   "metadata": {},
   "outputs": [],
   "source": [
    "%config InlineBackend.figure_format = 'retina'\n",
    "plt.rc('font', family='serif')\n",
    "fs = 20\n",
    "\n",
    "params = {'legend.fontsize': fs,\n",
    "         'axes.labelsize': fs,\n",
    "         'xtick.labelsize':0.7*fs,\n",
    "         'ytick.labelsize':0.7*fs}\n",
    "plt.rcParams.update(params)"
   ]
  },
  {
   "cell_type": "code",
   "execution_count": 17,
   "id": "apart-pittsburgh",
   "metadata": {},
   "outputs": [],
   "source": [
    "dco_colours = {\"BHBH\": plt.get_cmap(\"plasma\")(0.2), \n",
    "               \"BHNS\": plt.get_cmap(\"plasma\")(0.5),\n",
    "               \"NSNS\": plt.get_cmap(\"plasma\")(0.8)}\n",
    "\n",
    "dco_types = [\"BHBH\", \"BHNS\", \"NSNS\"]\n",
    "data_path = \"../data/\"\n",
    "sim_folder = data_path + \"simulation/\"\n",
    "\n",
    "total_DCOs_in_MW = np.load(data_path + \"total_DCO_in_MW.npy\")\n",
    "total_bound_DCOs_in_MW = np.load(data_path + \"total_DCO_in_MW_nohubble.npy\")"
   ]
  },
  {
   "cell_type": "markdown",
   "id": "dangerous-sapphire",
   "metadata": {},
   "source": [
    "# Calculate number of detections"
   ]
  },
  {
   "cell_type": "code",
   "execution_count": 12,
   "id": "attractive-conjunction",
   "metadata": {},
   "outputs": [],
   "source": [
    "def get_detections(dco_type, MW_SIZE=200000, MW_MASS_FAC=1.0, t_obs=4*u.yr, only_frac=False):\n",
    "    # set up arrays for return\n",
    "    detections = np.zeros(shape=(len(dco_types), len(variations), 2500))\n",
    "    \n",
    "    # go through each physics variation\n",
    "#     for d in range(len(dco_types)):\n",
    "    \n",
    "    for d in range(len(dco_types)):\n",
    "        for v in range(len(variations)):\n",
    "            # open the proper output file\n",
    "            fname = sim_folder + \"{}_{}_all.h5\".format(dco_types[d], variations[v][\"file\"])\n",
    "            if os.path.isfile(fname):\n",
    "                with h5.File(fname, \"r\") as f:\n",
    "                    parameter = \"n_detect\"\n",
    "                    if v in [7, 8, 9, 17, 19]:\n",
    "                        parameter = \"n_ten_year\"\n",
    "                    n_detect = f[\"simulation\"].attrs[parameter].astype(np.int)\n",
    "                    total_mw_weight = f[\"simulation\"].attrs[\"total_MW_weight\"]\n",
    "                    full_data = f[\"simulation\"][...].squeeze()\n",
    "                \n",
    "#                 circ_sources = legwork.source.Source(m_1=full_data[\"m_1\"] * u.Msun, m_2=full_data[\"m_2\"] * u.Msun,\n",
    "#                                            dist=full_data[\"dist\"] * u.kpc, ecc=np.zeros(len(full_data[\"m_1\"])),\n",
    "#                                            a=full_data[\"a_LISA\"] * u.AU)\n",
    "#                 circ_snr = circ_sources.get_snr()\n",
    "                \n",
    "#                 print(dco_types[d])\n",
    "#                 true_rate = np.sum(full_data[\"weight\"][full_data[\"snr\"] >= 7]) / np.sum(total_mw_weight) * total_DCOs_in_MW[d][v] * MW_MASS_FAC\n",
    "#                 circ_rate = np.sum(full_data[\"weight\"][circ_snr >= 7]) / np.sum(total_mw_weight) * total_DCOs_in_MW[d][v] * MW_MASS_FAC\n",
    "#                 print(true_rate, circ_rate, (true_rate - circ_rate) / true_rate)\n",
    "#                 print()\n",
    "\n",
    "                # go through the file and normalise the detections for all binaries with SNR > x\n",
    "                cursor = 0\n",
    "                detections_per_MW = np.zeros(len(n_detect))\n",
    "                \n",
    "                checks = np.zeros(len(n_detect))\n",
    "                for i in range(len(n_detect)):\n",
    "                    snr = full_data[\"snr\"][cursor:cursor + n_detect[i]]\n",
    "                    weights = full_data[\"weight\"][cursor:cursor + n_detect[i]]\n",
    "                    checks = np.sum(weights)**2 / np.sum(weights**2)\n",
    "                    detections[d][v][i] = np.sum(weights[snr * np.sqrt(t_obs / (4 * u.yr)) > 7]) / total_mw_weight[i]\n",
    "                    cursor += n_detect[i]\n",
    "                if not only_frac:\n",
    "                    detections[d][v] *= total_DCOs_in_MW[d][v] * MW_MASS_FAC\n",
    "\n",
    "            # set to zero if no file exists (simulation will have crashed)\n",
    "            else:\n",
    "                detections[d][v] = 0\n",
    "                \n",
    "            print(detections[d][v])\n",
    "    \n",
    "    return detections"
   ]
  },
  {
   "cell_type": "code",
   "execution_count": 5,
   "id": "coated-allergy",
   "metadata": {},
   "outputs": [],
   "source": [
    "def get_detections_alt(dco_type, MW_SIZE=100000, MW_MASS_FAC=1.5, t_obs=4*u.yr, only_frac=False):\n",
    "    # set up arrays for return\n",
    "    detections = np.zeros(shape=(len(dco_types), len(variations), 2500))\n",
    "    \n",
    "    fname = sim_folder + \"{}_{}_all.h5\".format(dco_types[dco_type], variations[0][\"file\"])\n",
    "    if os.path.isfile(fname):\n",
    "        with h5.File(fname, \"r\") as f:\n",
    "            total_mw_weight = f[\"simulation\"].attrs[\"total_MW_weight\"].sum()\n",
    "            full_data = f[\"simulation\"][...].squeeze()\n",
    "            \n",
    "        factor = total_DCOs_in_MW[dco_type][0] * MW_MASS_FAC / total_mw_weight\n",
    "        \n",
    "        weights = full_data[\"weight\"][full_data[\"snr\"] > 7]\n",
    "        avg = weights.sum() * factor\n",
    "        print(avg)\n",
    "        \n",
    "    sample_rates = np.zeros(1000)\n",
    "    for i in range(len(sample_rates)):\n",
    "        sample = np.random.choice(weights, len(weights), replace=True)\n",
    "        sample_rates[i] = sample.sum() * factor\n",
    "        \n",
    "    print(np.percentile(sample_rates, [5, 95]))\n",
    "    \n",
    "    sample_rates = np.zeros(1000)\n",
    "    for i in range(len(sample_rates)):\n",
    "        sample = np.random.choice(weights, 100, replace=True)\n",
    "        sample_rates[i] = sample.sum() * factor * (len(weights) / 100)\n",
    "        \n",
    "    print(np.percentile(sample_rates, [5, 95]))"
   ]
  },
  {
   "cell_type": "code",
   "execution_count": 13,
   "id": "square-mountain",
   "metadata": {},
   "outputs": [
    {
     "name": "stdout",
     "output_type": "stream",
     "text": [
      "[188.53132612  92.34068491 110.65467279 ...  76.09741935 113.23238329\n",
      "  84.43272143]\n",
      "[ 44.39526204  87.90986848  65.62856389 ...  94.37928739  88.88728249\n",
      " 120.32520638]\n",
      "[56.52694073 59.05925402 66.61515288 ... 67.86646924 53.60359513\n",
      " 83.49439941]\n",
      "[ 78.66441656 104.46929416 100.72448952 ...  37.77374984  93.64765327\n",
      "  87.46964701]\n",
      "[ 72.43467848  86.76929771  32.41913152 ...  85.33662976 103.54711038\n",
      "  55.5299427 ]\n",
      "[261.0843016  257.04690057 293.21462966 ...  88.46689663 139.4015524\n",
      " 303.99706783]\n",
      "[45.54866626 41.39222345 37.71110985 ... 38.97435545 36.20761162\n",
      " 19.85184678]\n",
      "[ 87.63420197  61.14160151 143.04181091 ... 161.52964088  78.51305133\n",
      " 166.87207368]\n",
      "[ 79.17846851  75.15629446 154.55851205 ...  90.70297393 145.18578219\n",
      "  97.13841458]\n",
      "[0. 0. 0. ... 0. 0. 0.]\n",
      "[221.59229951  81.21770627 127.62432459 ... 315.62085411 186.42320579\n",
      " 246.40210526]\n",
      "[ 56.9636817   91.27605326  84.51157102 ...  64.44891843  86.58810645\n",
      " 111.03212926]\n",
      "[201.08948553 268.44151361  81.98711141 ... 121.70320883  72.37694853\n",
      " 110.79784379]\n",
      "[124.30898876  77.10457571  60.79247124 ... 104.04653947  91.47502936\n",
      "  86.76992556]\n",
      "[116.10012597 127.9122778  122.59384804 ...  72.26044378  85.87290403\n",
      " 105.35794753]\n",
      "[ 64.3646771   90.79247132 185.01390354 ...  69.46431324 102.34104967\n",
      " 140.13560037]\n",
      "[ 60.80034548 121.33767257 377.45398905 ... 123.54937688  83.59213398\n",
      " 220.30518036]\n",
      "[ 74.51346701 161.19576909 122.26346084 ... 269.91098102  37.98937377\n",
      " 193.78022253]\n",
      "[183.75847053 135.7158392   84.76020075 ... 142.79649297  92.07663458\n",
      " 119.03963811]\n",
      "[0. 0. 0. ... 0. 0. 0.]\n",
      "[20.41198259 43.46551497 49.80346253 ... 82.40149649 48.67986805\n",
      " 37.99800661]\n",
      "[21.99224054 30.5448125  60.01668104 ... 22.06480578 33.25620429\n",
      " 56.53518488]\n",
      "[12.13245055 14.31871865 10.24632141 ... 15.12796841  9.55495139\n",
      "  6.84659694]\n",
      "[16.02070128  9.41436874 14.09373883 ... 13.5688408  12.88751766\n",
      " 10.13952852]\n",
      "[ 9.72115106  9.57514714 10.50046774 ... 18.37851544  5.83360751\n",
      "  6.84948312]\n",
      "[269.51735604 288.89815514 202.73584431 ... 291.64423257 400.44758048\n",
      " 276.44693027]\n",
      "[2.06811913 2.46119475 2.87913095 ... 3.06006931 3.31476518 4.18885059]\n",
      "[ 18.93278047 137.55801621  34.87104883 ...  43.75193428   6.59342484\n",
      "  24.87488537]\n",
      "[58.56716974 33.75085838 99.83725902 ... 42.87651509 58.56635184\n",
      " 53.40478154]\n",
      "[0. 0. 0. ... 0. 0. 0.]\n",
      "[ 40.30542124  59.92855479  52.48202773 ...  51.25803738  50.66926231\n",
      " 216.50366763]\n",
      "[ 65.20436482 121.41357998  93.17331703 ...  90.07309206 187.13992101\n",
      "  62.28255184]\n",
      "[30.41348976 60.96385101 47.02576504 ... 31.08983305 53.23241017\n",
      "  7.35841638]\n",
      "[41.38081676 44.64406405 67.61947605 ... 52.57253181 83.81351431\n",
      " 58.30679762]\n",
      "[ 69.77479851  46.74511624  48.12830514 ... 195.69944603 151.4126807\n",
      "  29.21985879]\n",
      "[ 46.83097213 127.26410904  63.95302028 ... 156.18555277  95.87194347\n",
      " 123.87851687]\n",
      "[276.25317945 237.07413117 158.91345962 ... 120.41386751 262.75279189\n",
      " 255.74114184]\n",
      "[239.41032296 206.21532966 127.61384224 ...  94.84432276  96.78738451\n",
      "  34.02969566]\n",
      "[33.5319086  70.66108881 52.42330671 ... 17.81263912 50.20729337\n",
      " 24.52323379]\n",
      "[17.48696222 37.09739051 12.41449902 ... 14.00015105 14.68953582\n",
      " 19.66808322]\n",
      "[10.02409362  4.57583233  5.6023848  ... 10.52395789 17.43156308\n",
      " 24.21448412]\n",
      "[5.98813535 1.9755585  3.13512257 ... 0.96783425 6.82038668 2.09818153]\n",
      "[5.65858175 3.087882   3.88341262 ... 7.70809539 7.56679868 8.26979306]\n",
      "[31.09847331 14.50708863 16.83286503 ... 13.97715537 18.76133971\n",
      " 27.38576018]\n",
      "[0.24534118 0.25788096 0.26887006 ... 0.36281801 0.55292688 0.39767655]\n",
      "[36.24714548 28.60445112 20.42089976 ... 29.49467463 26.96510147\n",
      " 27.13273472]\n",
      "[19.20943739 12.93458604 19.55921205 ...  8.70332408 21.32940202\n",
      " 14.77152429]\n",
      "[23.08728445  3.70872437  6.9190865  ...  3.2201205   3.36552329\n",
      "  8.98415058]\n",
      "[16.25523636 19.14084488 28.19138431 ... 39.00936356 62.61020868\n",
      " 30.85750429]\n",
      "[0. 0. 0. ... 0. 0. 0.]\n",
      "[12.66387918  1.41170881  6.96355625 ...  9.62707187  7.77480462\n",
      " 68.30529309]\n",
      "[ 7.79954862 15.26075927  7.52882484 ...  7.66072544  6.15800105\n",
      " 23.18143318]\n",
      "[ 6.99315596  8.72500692 11.02947174 ... 15.00596568 16.39559004\n",
      "  4.85599322]\n",
      "[ 6.7055968  13.07663802 10.24011066 ...  6.14343204 19.78147258\n",
      "  8.31266607]\n",
      "[10.75987875  7.1573071  10.59720631 ... 12.05814986 13.27783236\n",
      "  8.00485236]\n",
      "[22.8908221  28.43322122 25.21389442 ... 19.49913934 25.93146995\n",
      " 19.77121833]\n"
     ]
    },
    {
     "name": "stderr",
     "output_type": "stream",
     "text": [
      "<ipython-input-12-955773ba0689>:40: RuntimeWarning: invalid value encountered in double_scalars\n",
      "  checks = np.sum(weights)**2 / np.sum(weights**2)\n"
     ]
    },
    {
     "name": "stdout",
     "output_type": "stream",
     "text": [
      "[36.14185379 21.63848667 22.85295891 ... 34.33913528 36.71255205\n",
      " 27.92619249]\n",
      "[15.57677404  7.41507175 17.40544723 ... 12.7637186   8.67870967\n",
      " 17.21095397]\n",
      "[13.99659303  6.63974364 10.15455435 ... 16.42890068 16.90366061\n",
      "  8.521889  ]\n",
      "[15.33901952  8.9052546  21.5699419  ...  7.17932093  4.97526637\n",
      "  7.10394811]\n"
     ]
    }
   ],
   "source": [
    "detections_4yr = get_detections(dco_types)"
   ]
  },
  {
   "cell_type": "code",
   "execution_count": 6,
   "id": "supposed-religion",
   "metadata": {},
   "outputs": [],
   "source": [
    "detections_10yr = get_detections(dco_types, t_obs=10*u.yr)"
   ]
  },
  {
   "cell_type": "code",
   "execution_count": 7,
   "id": "handed-professor",
   "metadata": {},
   "outputs": [],
   "source": [
    "detections_only_fractions = get_detections(dco_types, only_frac=True)"
   ]
  },
  {
   "cell_type": "code",
   "execution_count": 14,
   "id": "egyptian-joining",
   "metadata": {},
   "outputs": [
    {
     "ename": "NameError",
     "evalue": "name 'detections_10yr' is not defined",
     "output_type": "error",
     "traceback": [
      "\u001b[0;31m---------------------------------------------------------------------------\u001b[0m",
      "\u001b[0;31mNameError\u001b[0m                                 Traceback (most recent call last)",
      "\u001b[0;32m<ipython-input-14-a152b41621dd>\u001b[0m in \u001b[0;36m<module>\u001b[0;34m\u001b[0m\n\u001b[1;32m      1\u001b[0m \u001b[0mnp\u001b[0m\u001b[0;34m.\u001b[0m\u001b[0msave\u001b[0m\u001b[0;34m(\u001b[0m\u001b[0;34m\"../data/detections_4yr\"\u001b[0m\u001b[0;34m,\u001b[0m \u001b[0mdetections_4yr\u001b[0m\u001b[0;34m)\u001b[0m\u001b[0;34m\u001b[0m\u001b[0;34m\u001b[0m\u001b[0m\n\u001b[0;32m----> 2\u001b[0;31m \u001b[0mnp\u001b[0m\u001b[0;34m.\u001b[0m\u001b[0msave\u001b[0m\u001b[0;34m(\u001b[0m\u001b[0;34m\"../data/detections_10yr\"\u001b[0m\u001b[0;34m,\u001b[0m \u001b[0mdetections_10yr\u001b[0m\u001b[0;34m)\u001b[0m\u001b[0;34m\u001b[0m\u001b[0;34m\u001b[0m\u001b[0m\n\u001b[0m\u001b[1;32m      3\u001b[0m \u001b[0mnp\u001b[0m\u001b[0;34m.\u001b[0m\u001b[0msave\u001b[0m\u001b[0;34m(\u001b[0m\u001b[0;34m\"../data/detections_only_fractions\"\u001b[0m\u001b[0;34m,\u001b[0m \u001b[0mdetections_only_fractions\u001b[0m\u001b[0;34m)\u001b[0m\u001b[0;34m\u001b[0m\u001b[0;34m\u001b[0m\u001b[0m\n",
      "\u001b[0;31mNameError\u001b[0m: name 'detections_10yr' is not defined"
     ]
    }
   ],
   "source": [
    "np.save(\"../data/detections_4yr\", detections_4yr)\n",
    "np.save(\"../data/detections_10yr\", detections_10yr)\n",
    "np.save(\"../data/detections_only_fractions\", detections_only_fractions)"
   ]
  },
  {
   "cell_type": "markdown",
   "id": "opposed-organ",
   "metadata": {},
   "source": [
    "# What if we assumed everything was circular?"
   ]
  },
  {
   "cell_type": "code",
   "execution_count": 38,
   "id": "banner-maryland",
   "metadata": {},
   "outputs": [],
   "source": [
    "fid_sources = [None, None, None]\n",
    "total_mw_weights = [None, None, None]\n",
    "for i in range(len(dco_types)):\n",
    "    with h5.File(sim_folder + \"{}_massTransferEfficiencyFixed_0_5_all.h5\".format(dco_types[i]), \"r\") as f:\n",
    "        full_data = f[\"simulation\"][...].squeeze()\n",
    "        snr_mask = full_data[\"snr\"] > 7\n",
    "        \n",
    "        data = full_data[snr_mask]\n",
    "        \n",
    "        total_mw_weights[i] = f[\"simulation\"].attrs[\"total_MW_weight\"].sum()\n",
    "        \n",
    "    fid_sources[i] = legwork.source.Source(m_1=data[\"m_1\"] * u.Msun, m_2=data[\"m_2\"] * u.Msun,\n",
    "                                           dist=data[\"dist\"] * u.kpc, ecc=data[\"e_LISA\"],\n",
    "                                           a=data[\"a_LISA\"] * u.AU)\n",
    "    fid_sources[i].weight = data[\"weight\"]\n",
    "    fid_sources[i].zams_mask = np.logical_and(data[\"m_1_ZAMS\"] >= 20, data[\"m_1_ZAMS\"] <= 120)"
   ]
  },
  {
   "cell_type": "code",
   "execution_count": 40,
   "id": "cathedral-economics",
   "metadata": {},
   "outputs": [
    {
     "name": "stdout",
     "output_type": "stream",
     "text": [
      "40.60807861360013\n",
      "10.22671235981745\n",
      "0.1015822905330661\n"
     ]
    }
   ],
   "source": [
    "for i in range(len(dco_types)):\n",
    "    snr_true = fid_sources[i].get_snr()\n",
    "    new_source = fid_sources[i]\n",
    "    new_source.ecc = np.zeros(new_source.n_sources)\n",
    "    snr_circ = new_source.get_snr()\n",
    "    \n",
    "    full_mask = np.logical_and(fid_sources[i].zams_mask, snr_circ > 7)\n",
    "    \n",
    "    print(np.sum(new_source.weight[full_mask]) / total_mw_weights[i] * total_DCOs_in_MW[i][2])"
   ]
  }
 ],
 "metadata": {
  "kernelspec": {
   "display_name": "Python 3",
   "language": "python",
   "name": "python3"
  },
  "language_info": {
   "codemirror_mode": {
    "name": "ipython",
    "version": 3
   },
   "file_extension": ".py",
   "mimetype": "text/x-python",
   "name": "python",
   "nbconvert_exporter": "python",
   "pygments_lexer": "ipython3",
   "version": "3.8.5"
  }
 },
 "nbformat": 4,
 "nbformat_minor": 5
}
