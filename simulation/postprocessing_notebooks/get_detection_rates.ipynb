{
 "cells": [
  {
   "cell_type": "markdown",
   "id": "undefined-rwanda",
   "metadata": {},
   "source": [
    "<h1 style=\"font-size:50px; text-align:center\">DCO Detections</h1>"
   ]
  },
  {
   "cell_type": "code",
   "execution_count": 47,
   "id": "worldwide-consultation",
   "metadata": {},
   "outputs": [],
   "source": [
    "import h5py as h5\n",
    "import numpy as np\n",
    "import astropy.units as u\n",
    "import matplotlib.pyplot as plt\n",
    "import seaborn as sns\n",
    "import legwork\n",
    "import os\n",
    "import sys\n",
    "sys.path.append(\"../src/\")\n",
    "from variations import variations\n",
    "from galaxy import simulate_mw"
   ]
  },
  {
   "cell_type": "code",
   "execution_count": 48,
   "id": "compatible-memory",
   "metadata": {},
   "outputs": [],
   "source": [
    "%config InlineBackend.figure_format = 'retina'\n",
    "plt.rc('font', family='serif')\n",
    "fs = 20\n",
    "\n",
    "params = {'legend.fontsize': fs,\n",
    "         'axes.labelsize': fs,\n",
    "         'xtick.labelsize':0.7*fs,\n",
    "         'ytick.labelsize':0.7*fs}\n",
    "plt.rcParams.update(params)"
   ]
  },
  {
   "cell_type": "code",
   "execution_count": 50,
   "id": "peaceful-convertible",
   "metadata": {},
   "outputs": [],
   "source": [
    "dco_colours = {\"BHBH\": plt.get_cmap(\"plasma\")(0.2), \n",
    "               \"BHNS\": plt.get_cmap(\"plasma\")(0.5),\n",
    "               \"NSNS\": plt.get_cmap(\"plasma\")(0.8)}\n",
    "\n",
    "dco_types = [\"BHBH\", \"BHNS\", \"NSNS\"]\n",
    "data_path = \"../data/\"\n",
    "sim_folder = data_path + \"simulation/\"\n",
    "\n",
    "total_DCOs_in_MW = np.load(data_path + \"total_DCO_in_MW.npy\")"
   ]
  },
  {
   "cell_type": "markdown",
   "id": "victorian-regression",
   "metadata": {},
   "source": [
    "# Calculate number of detections"
   ]
  },
  {
   "cell_type": "code",
   "execution_count": 51,
   "id": "taken-input",
   "metadata": {},
   "outputs": [],
   "source": [
    "def get_detections(dco_type, MW_SIZE=200000, MW_MASS_FAC=1.0, t_obs=4*u.yr, only_frac=False):\n",
    "    # set up arrays for return\n",
    "    detections = np.zeros(shape=(len(dco_types), len(variations), 2500))\n",
    "    \n",
    "    # go through each physics variation\n",
    "#     for d in range(len(dco_types)):\n",
    "    \n",
    "    for d in range(len(dco_types)):\n",
    "        for v in range(len(variations)):\n",
    "            # open the proper output file\n",
    "            fname = sim_folder + \"{}_{}_all.h5\".format(dco_types[d], variations[v][\"file\"])\n",
    "            if os.path.isfile(fname):\n",
    "                with h5.File(fname, \"r\") as f:\n",
    "                    parameter = \"n_detect\"\n",
    "                    if v in [7, 8, 9, 17, 19]:\n",
    "                        parameter = \"n_ten_year\"\n",
    "                    n_detect = f[\"simulation\"].attrs[parameter].astype(np.int)\n",
    "                    total_mw_weight = f[\"simulation\"].attrs[\"total_MW_weight\"]\n",
    "                    full_data = f[\"simulation\"][...].squeeze()\n",
    "                \n",
    "#                 circ_sources = legwork.source.Source(m_1=full_data[\"m_1\"] * u.Msun, m_2=full_data[\"m_2\"] * u.Msun,\n",
    "#                                            dist=full_data[\"dist\"] * u.kpc, ecc=np.zeros(len(full_data[\"m_1\"])),\n",
    "#                                            a=full_data[\"a_LISA\"] * u.AU)\n",
    "#                 circ_snr = circ_sources.get_snr()\n",
    "                \n",
    "#                 print(dco_types[d])\n",
    "#                 true_rate = np.sum(full_data[\"weight\"][full_data[\"snr\"] >= 7]) / np.sum(total_mw_weight) * total_DCOs_in_MW[d][v] * MW_MASS_FAC\n",
    "#                 circ_rate = np.sum(full_data[\"weight\"][circ_snr >= 7]) / np.sum(total_mw_weight) * total_DCOs_in_MW[d][v] * MW_MASS_FAC\n",
    "#                 print(true_rate, circ_rate, (true_rate - circ_rate) / true_rate)\n",
    "#                 print()\n",
    "\n",
    "                # go through the file and normalise the detections for all binaries with SNR > x\n",
    "                cursor = 0\n",
    "                detections_per_MW = np.zeros(len(n_detect))\n",
    "                \n",
    "                checks = np.zeros(len(n_detect))\n",
    "                for i in range(len(n_detect)):\n",
    "                    snr = full_data[\"snr\"][cursor:cursor + n_detect[i]]\n",
    "                    weights = full_data[\"weight\"][cursor:cursor + n_detect[i]]\n",
    "                    checks = np.sum(weights)**2 / np.sum(weights**2)\n",
    "                    detections[d][v][i] = np.sum(weights[snr * np.sqrt(t_obs / (4 * u.yr)) > 7]) / total_mw_weight[i]\n",
    "                    cursor += n_detect[i]\n",
    "                if not only_frac:\n",
    "                    detections[d][v] *= total_DCOs_in_MW[d][v] * MW_MASS_FAC\n",
    "\n",
    "            # set to zero if no file exists (simulation will have crashed)\n",
    "            else:\n",
    "                detections[d][v] = 0\n",
    "                \n",
    "            print(detections[d][v])\n",
    "    \n",
    "    return detections"
   ]
  },
  {
   "cell_type": "code",
   "execution_count": 5,
   "id": "hollow-stockholm",
   "metadata": {},
   "outputs": [],
   "source": [
    "def get_detections_alt(dco_type, MW_SIZE=100000, MW_MASS_FAC=1.5, t_obs=4*u.yr, only_frac=False):\n",
    "    # set up arrays for return\n",
    "    detections = np.zeros(shape=(len(dco_types), len(variations), 2500))\n",
    "    \n",
    "    fname = sim_folder + \"{}_{}_all.h5\".format(dco_types[dco_type], variations[0][\"file\"])\n",
    "    if os.path.isfile(fname):\n",
    "        with h5.File(fname, \"r\") as f:\n",
    "            total_mw_weight = f[\"simulation\"].attrs[\"total_MW_weight\"].sum()\n",
    "            full_data = f[\"simulation\"][...].squeeze()\n",
    "            \n",
    "        factor = total_DCOs_in_MW[dco_type][0] * MW_MASS_FAC / total_mw_weight\n",
    "        \n",
    "        weights = full_data[\"weight\"][full_data[\"snr\"] > 7]\n",
    "        avg = weights.sum() * factor\n",
    "        print(avg)\n",
    "        \n",
    "    sample_rates = np.zeros(1000)\n",
    "    for i in range(len(sample_rates)):\n",
    "        sample = np.random.choice(weights, len(weights), replace=True)\n",
    "        sample_rates[i] = sample.sum() * factor\n",
    "        \n",
    "    print(np.percentile(sample_rates, [5, 95]))\n",
    "    \n",
    "    sample_rates = np.zeros(1000)\n",
    "    for i in range(len(sample_rates)):\n",
    "        sample = np.random.choice(weights, 100, replace=True)\n",
    "        sample_rates[i] = sample.sum() * factor * (len(weights) / 100)\n",
    "        \n",
    "    print(np.percentile(sample_rates, [5, 95]))"
   ]
  },
  {
   "cell_type": "code",
   "execution_count": 52,
   "id": "inappropriate-correspondence",
   "metadata": {},
   "outputs": [
    {
     "name": "stdout",
     "output_type": "stream",
     "text": [
      "[128.75553669  63.06312425  75.57047455 ...  51.96995253  77.33089551\n",
      "  57.66246165]\n",
      "[30.31776695 60.03412938 44.81810477 ... 64.45213089 60.70161075\n",
      " 82.1707407 ]\n",
      "[38.59636526 40.32541847 45.48455549 ... 46.3389492  36.60031676\n",
      " 57.00963637]\n",
      "[53.7095463  71.32829094 68.77145818 ... 25.7907076  63.93962085\n",
      " 59.72147587]\n",
      "[49.46868757 59.25840177 22.14038803 ... 58.27997258 70.71667549\n",
      " 37.92373272]\n",
      "[178.29296486 175.53584697 200.23458072 ...  60.41353385  95.19651672\n",
      " 207.5978456 ]\n",
      "[31.10562327 28.26714841 25.75328044 ... 26.61596304 24.72652701\n",
      " 13.55701753]\n",
      "[ 59.84984434  41.75670287  97.69051265 ... 110.31679008  53.62054762\n",
      " 113.96540859]\n",
      "[ 54.06738343  51.32082327 105.54099479 ...  61.93694525  99.14078286\n",
      "  66.33141567]\n",
      "[0. 0. 0. ... 0. 0. 0.]\n",
      "[151.32410424  55.46310353  87.15391573 ... 215.53566226 127.30733283\n",
      " 168.2665776 ]\n",
      "[38.90199851 62.33482076 57.71517767 ... 44.01386382 59.1332984\n",
      " 75.82676538]\n",
      "[137.3338922  183.33190218  55.99302763 ...  83.1171024   49.42977511\n",
      "  75.66929268]\n",
      "[84.89284361 52.65610116 41.51627171 ... 71.05525265 62.46994235\n",
      " 59.25674236]\n",
      "[79.288945   87.35588763 83.72374098 ... 49.34925181 58.64568972\n",
      " 71.9527256 ]\n",
      "[ 43.95890358  62.00819569 126.35825602 ...  47.44178307  69.89548519\n",
      "  95.7078886 ]\n",
      "[ 41.52490547  82.87017688 257.79033149 ...  84.38070797  57.09104832\n",
      " 150.4621679 ]\n",
      "[ 50.89222949 110.09569683  83.50517507 ... 184.34750307  25.94650344\n",
      " 132.35067367]\n",
      "[125.49309419  92.68362183  57.88478662 ...  97.51917117  62.88135585\n",
      "  81.29504166]\n",
      "[0. 0. 0. ... 0. 0. 0.]\n",
      "[13.93963938 29.68323149 34.01150793 ... 56.2731788  33.24418894\n",
      " 25.94939062]\n",
      "[15.02096483 20.86247436 40.99211509 ... 15.07052776 22.71438757\n",
      " 38.61421133]\n",
      "[ 8.28703315  9.78035687  6.99871842 ... 10.33311243  6.52648025\n",
      "  4.67654705]\n",
      "[10.94470155  6.43151972  9.62827797 ...  9.26968865  8.80423597\n",
      "  6.92691983]\n",
      "[ 6.63891422  6.53920304  7.17113686 ... 12.5513313   3.9839747\n",
      "  4.6777517 ]\n",
      "[184.06231897 197.29810786 138.45501526 ... 199.17349499 273.47890085\n",
      " 188.79475446]\n",
      "[1.41240712 1.68085529 1.96628182 ... 2.08985238 2.26379509 2.86074545]\n",
      "[12.92756432 93.92651576 23.81043437 ... 29.87442577  4.50208166\n",
      " 16.98491572]\n",
      "[39.99863779 23.05025777 68.1841786  ... 29.2826545  39.99807921\n",
      " 36.47296809]\n",
      "[0. 0. 0. ... 0. 0. 0.]\n",
      "[ 27.52590561  40.9271927   35.84171302 ...  35.00580951  34.60371554\n",
      " 147.85751729]\n",
      "[ 44.52938133  82.91579278  63.62994526 ...  61.51273884 127.80164224\n",
      "  42.53401607]\n",
      "[20.76906965 41.63160749 32.11342721 ... 21.23093776 36.35188344\n",
      "  5.02498935]\n",
      "[28.26071608 30.48932616 46.18021015 ... 35.9040133  57.2398062\n",
      " 39.8201868 ]\n",
      "[ 47.65022505  31.92291997  32.86751979 ... 133.6459989  103.40192254\n",
      "  19.95466668]\n",
      "[ 31.97839157  86.90192251  43.67013178 ... 106.65084529  65.46587459\n",
      "  84.59008086]\n",
      "[188.61498325 161.86504484 108.49996218 ...  82.21393017 179.39744093\n",
      " 174.61015753]\n",
      "[163.46446108 140.79960008  87.13211564 ...  64.75775946  66.08444219\n",
      "  23.23477865]\n",
      "[22.89726137 48.25091942 35.79725122 ... 12.16335934 34.28404667\n",
      " 16.74568843]\n",
      "[11.94824957 25.34739166  8.48240711 ...  9.56582948 10.03686277\n",
      " 13.43853575]\n",
      "[ 6.84448055  3.12439175  3.82532479 ...  7.18578934 11.90232245\n",
      " 16.53372085]\n",
      "[4.08811839 1.34871986 2.1403578  ... 0.66074341 4.65629893 1.43243498]\n",
      "[3.86214956 2.10757088 2.65054408 ... 5.26100329 5.16456411 5.64437858]\n",
      "[21.23106899  9.9040553  11.49187342 ...  9.54226746 12.80845184\n",
      " 18.69638287]\n",
      "[0.16753493 0.1760979  0.18360198 ... 0.24775575 0.37757446 0.27155943]\n",
      "[24.7493623  19.53097037 13.94328408 ... 20.13881034 18.41163096\n",
      " 18.52609006]\n",
      "[13.12000357  8.83429388 13.3588989  ...  5.94435124 14.56793477\n",
      " 10.08891867]\n",
      "[15.76110555  2.53185239  4.72348547 ...  2.19829488  2.29755768\n",
      "  6.13325252]\n",
      "[11.09906531 13.06935701 19.24905972 ... 26.63556924 42.75021165\n",
      " 21.06948479]\n",
      "[0. 0. 0. ... 0. 0. 0.]\n",
      "[ 8.6468308   0.96390743  4.75467997 ...  6.57331457  5.30859613\n",
      " 46.63849865]\n",
      "[ 5.32544454 10.4198757   5.14059737 ...  5.23065762  4.20461423\n",
      " 15.82802323]\n",
      "[ 4.77490521  5.95740768  7.53088912 ... 10.24602686 11.19485807\n",
      "  3.31565712]\n",
      "[ 4.57862409  8.92881151  6.99201261 ...  4.19477442 13.50691513\n",
      "  5.67594119]\n",
      "[7.34687852 4.88703144 7.23580527 ... 8.23334205 9.06614504 5.46573797]\n",
      "[15.62915921 19.41334126 17.21528255 ... 13.31342107 17.70522136\n",
      " 13.49918835]\n"
     ]
    },
    {
     "name": "stderr",
     "output_type": "stream",
     "text": [
      "<ipython-input-51-955773ba0689>:40: RuntimeWarning: invalid value encountered in double_scalars\n",
      "  checks = np.sum(weights)**2 / np.sum(weights**2)\n"
     ]
    },
    {
     "name": "stdout",
     "output_type": "stream",
     "text": [
      "[24.67012874 14.77025099 15.59923964 ... 23.43960807 25.05968262\n",
      " 19.06218668]\n",
      "[10.63582133  5.063011   11.88443939 ...  8.71506708  5.92582297\n",
      " 11.75163939]\n",
      "[ 9.55728124  4.53381028  6.93382537 ... 11.21813173 11.54231163\n",
      "  5.81899393]\n",
      "[10.47405414  6.08083969 14.72876013 ...  4.90230787  3.39729728\n",
      "  4.8508405 ]\n"
     ]
    }
   ],
   "source": [
    "detections_4yr = get_detections(dco_types)"
   ]
  },
  {
   "cell_type": "code",
   "execution_count": 6,
   "id": "fifty-significance",
   "metadata": {},
   "outputs": [],
   "source": [
    "detections_10yr = get_detections(dco_types, t_obs=10*u.yr)"
   ]
  },
  {
   "cell_type": "code",
   "execution_count": 7,
   "id": "polar-plastic",
   "metadata": {},
   "outputs": [],
   "source": [
    "detections_only_fractions = get_detections(dco_types, only_frac=True)"
   ]
  },
  {
   "cell_type": "code",
   "execution_count": 54,
   "id": "undefined-position",
   "metadata": {},
   "outputs": [
    {
     "ename": "NameError",
     "evalue": "name 'detections_10yr' is not defined",
     "output_type": "error",
     "traceback": [
      "\u001b[0;31m---------------------------------------------------------------------------\u001b[0m",
      "\u001b[0;31mNameError\u001b[0m                                 Traceback (most recent call last)",
      "\u001b[0;32m<ipython-input-54-a152b41621dd>\u001b[0m in \u001b[0;36m<module>\u001b[0;34m\u001b[0m\n\u001b[1;32m      1\u001b[0m \u001b[0mnp\u001b[0m\u001b[0;34m.\u001b[0m\u001b[0msave\u001b[0m\u001b[0;34m(\u001b[0m\u001b[0;34m\"../data/detections_4yr\"\u001b[0m\u001b[0;34m,\u001b[0m \u001b[0mdetections_4yr\u001b[0m\u001b[0;34m)\u001b[0m\u001b[0;34m\u001b[0m\u001b[0;34m\u001b[0m\u001b[0m\n\u001b[0;32m----> 2\u001b[0;31m \u001b[0mnp\u001b[0m\u001b[0;34m.\u001b[0m\u001b[0msave\u001b[0m\u001b[0;34m(\u001b[0m\u001b[0;34m\"../data/detections_10yr\"\u001b[0m\u001b[0;34m,\u001b[0m \u001b[0mdetections_10yr\u001b[0m\u001b[0;34m)\u001b[0m\u001b[0;34m\u001b[0m\u001b[0;34m\u001b[0m\u001b[0m\n\u001b[0m\u001b[1;32m      3\u001b[0m \u001b[0mnp\u001b[0m\u001b[0;34m.\u001b[0m\u001b[0msave\u001b[0m\u001b[0;34m(\u001b[0m\u001b[0;34m\"../data/detections_only_fractions\"\u001b[0m\u001b[0;34m,\u001b[0m \u001b[0mdetections_only_fractions\u001b[0m\u001b[0;34m)\u001b[0m\u001b[0;34m\u001b[0m\u001b[0;34m\u001b[0m\u001b[0m\n",
      "\u001b[0;31mNameError\u001b[0m: name 'detections_10yr' is not defined"
     ]
    }
   ],
   "source": [
    "np.save(\"../data/detections_4yr\", detections_4yr)\n",
    "np.save(\"../data/detections_10yr\", detections_10yr)\n",
    "np.save(\"../data/detections_only_fractions\", detections_only_fractions)"
   ]
  },
  {
   "cell_type": "markdown",
   "id": "cosmetic-tiger",
   "metadata": {},
   "source": [
    "# What if we assumed everything was circular?"
   ]
  },
  {
   "cell_type": "code",
   "execution_count": 38,
   "id": "protected-transsexual",
   "metadata": {},
   "outputs": [],
   "source": [
    "fid_sources = [None, None, None]\n",
    "total_mw_weights = [None, None, None]\n",
    "for i in range(len(dco_types)):\n",
    "    with h5.File(sim_folder + \"{}_massTransferEfficiencyFixed_0_5_all.h5\".format(dco_types[i]), \"r\") as f:\n",
    "        full_data = f[\"simulation\"][...].squeeze()\n",
    "        snr_mask = full_data[\"snr\"] > 7\n",
    "        \n",
    "        data = full_data[snr_mask]\n",
    "        \n",
    "        total_mw_weights[i] = f[\"simulation\"].attrs[\"total_MW_weight\"].sum()\n",
    "        \n",
    "    fid_sources[i] = legwork.source.Source(m_1=data[\"m_1\"] * u.Msun, m_2=data[\"m_2\"] * u.Msun,\n",
    "                                           dist=data[\"dist\"] * u.kpc, ecc=data[\"e_LISA\"],\n",
    "                                           a=data[\"a_LISA\"] * u.AU)\n",
    "    fid_sources[i].weight = data[\"weight\"]\n",
    "    fid_sources[i].zams_mask = np.logical_and(data[\"m_1_ZAMS\"] >= 20, data[\"m_1_ZAMS\"] <= 120)"
   ]
  },
  {
   "cell_type": "code",
   "execution_count": 40,
   "id": "federal-cradle",
   "metadata": {},
   "outputs": [
    {
     "name": "stdout",
     "output_type": "stream",
     "text": [
      "40.60807861360013\n",
      "10.22671235981745\n",
      "0.1015822905330661\n"
     ]
    }
   ],
   "source": [
    "for i in range(len(dco_types)):\n",
    "    snr_true = fid_sources[i].get_snr()\n",
    "    new_source = fid_sources[i]\n",
    "    new_source.ecc = np.zeros(new_source.n_sources)\n",
    "    snr_circ = new_source.get_snr()\n",
    "    \n",
    "    full_mask = np.logical_and(fid_sources[i].zams_mask, snr_circ > 7)\n",
    "    \n",
    "    print(np.sum(new_source.weight[full_mask]) / total_mw_weights[i] * total_DCOs_in_MW[i][2])"
   ]
  }
 ],
 "metadata": {
  "kernelspec": {
   "display_name": "Python 3",
   "language": "python",
   "name": "python3"
  },
  "language_info": {
   "codemirror_mode": {
    "name": "ipython",
    "version": 3
   },
   "file_extension": ".py",
   "mimetype": "text/x-python",
   "name": "python",
   "nbconvert_exporter": "python",
   "pygments_lexer": "ipython3",
   "version": "3.8.5"
  }
 },
 "nbformat": 4,
 "nbformat_minor": 5
}
