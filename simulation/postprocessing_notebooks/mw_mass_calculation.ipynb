{
 "cells": [
  {
   "cell_type": "markdown",
   "metadata": {},
   "source": [
    "<table align=\"center\" style=\"text-align:center\">\n",
    "    <tbody>\n",
    "        <tr>\n",
    "            <td colspan=\"15\"><img src=\"https://raw.githubusercontent.com/TomWagg/tomwagg.github.io/main/img/milky_way_dcos.png\"/></td>\n",
    "            <td colspan=\"50\">\n",
    "                <h1 style=\"font-size:50px\">Milky Way Mass Normalisation</h1>\n",
    "                <h2 style=\"font-size:20px;\"><i>Part of the notebook series for Wagg et al. 2021</i></h2>\n",
    "                <p style=\"font-size:15px;\">This notebook calculates the ratio of the current stellar mass in the Milky Way to the stellar mass that has ever existed in the Milky Way.</p>\n",
    "            </td>\n",
    "            <td colspan=\"15\"><img src=\"https://raw.githubusercontent.com/TomWagg/tomwagg.github.io/main/img/milky_way_dcos.png\"/></td>\n",
    "        </tr>\n",
    "    </tbody>\n",
    "</table>"
   ]
  },
  {
   "cell_type": "code",
   "execution_count": 108,
   "metadata": {},
   "outputs": [],
   "source": [
    "import numpy as np\n",
    "import h5py as h5\n",
    "import matplotlib.pyplot as plt\n",
    "import matplotlib as mpl\n",
    "import scipy.interpolate as interpolate\n",
    "from scipy.integrate import quad\n",
    "from scipy.special import lambertw\n",
    "from scipy.stats import beta\n",
    "\n",
    "import astropy.constants as consts\n",
    "import astropy.units as u\n",
    "\n",
    "import sys\n",
    "sys.path.append(\"../src\")\n",
    "import galaxy\n",
    "\n",
    "%config InlineBackend.figure_format = 'retina'\n",
    "plt.rc('font', family='serif')\n",
    "plt.rcParams['text.usetex'] = False\n",
    "fs = 24"
   ]
  },
  {
   "cell_type": "markdown",
   "metadata": {},
   "source": [
    "# Main Equation\n",
    "We are trying to calculate the following\n",
    "$$ M_{\\rm SF, MW} = (6.1 \\pm 1.1) \\times 10^{10} \\, \\rm{M_{\\rm \\odot}} \\cdot \\frac{\\langle {m}_{\\rm SF, total} \\rangle}{\\langle {m}_{\\rm SF, today} \\rangle},$$\n",
    "$$ \\langle {m}_{\\rm SF, total} \\rangle = \\int_{0}^{t_{\\rm MW}} p_{\\rm birth}(\\tau) \\int_{0.01}^{200} \\zeta(m)\\ m \\,\\rm{d}m \\rm{d}\\tau, $$\n",
    "$$ \\langle {m}_{\\rm SF, today} \\rangle = \\int_{0}^{t_{\\rm MW}} p_{\\rm birth}(\\tau) \\int_{0.08}^{200} \\zeta(m)\\ m_{\\rm today}(m, \\langle Z \\rangle_\\tau, \\tau) \\, \\rm{d}m \\rm{d}\\tau, $$\n",
    "\n",
    "We'll explain each of the terms below as we calculate them."
   ]
  },
  {
   "cell_type": "markdown",
   "metadata": {
    "tags": []
   },
   "source": [
    "# Helper functions\n",
    "Here we calculate each function in the equation above."
   ]
  },
  {
   "cell_type": "markdown",
   "metadata": {},
   "source": [
    "## Birth time probability density function\n",
    "This is $p_{\\rm birth}(\\tau)$, the probability that a star is formed at lookback time $\\tau$"
   ]
  },
  {
   "cell_type": "code",
   "execution_count": 254,
   "metadata": {},
   "outputs": [],
   "source": [
    "# masses of the different galactic components\n",
    "stellar_mass = {\n",
    "    \"bulge\": 0.91e10 * u.Msun,\n",
    "    \"thin_disc\": 5.17e10 * u.Msun / 2,\n",
    "    \"thick_disc\": 5.17e10 * u.Msun / 2,\n",
    "}\n",
    "\n",
    "total_stellar_mass = 6.08e10 * u.Msun\n",
    "\n",
    "stellar_mass_fractions = {}\n",
    "for key in stellar_mass.keys():\n",
    "    stellar_mass_fractions[key] = stellar_mass[key] / total_stellar_mass\n",
    "\n",
    "def disc_SFH(t, tm=12*u.Gyr, tsfr=6.8*u.Gyr, min_time=0*u.Gyr, max_time=8*u.Gyr):\n",
    "    norm = quad(lambda t: np.exp(-(tm - t * u.Gyr) / tsfr),\n",
    "                min_time.to(u.Gyr).value, max_time.to(u.Gyr).value)[0]\n",
    "    SFH = np.exp(-(tm - t) / tsfr) / norm\n",
    "    SFH[np.logical_or(t < min_time, t > max_time)] = 0.0\n",
    "    return SFH\n",
    "\n",
    "def bulge_SFH(t):\n",
    "    return beta(2, 3, loc=6, scale=6).pdf(t.to(u.Gyr).value)\n",
    "\n",
    "def p_birth(t):\n",
    "    return stellar_mass_fractions[\"bulge\"] * bulge_SFH(t) \\\n",
    "        + stellar_mass_fractions[\"thin_disc\"] * disc_SFH(t, min_time=0*u.Gyr, max_time=7.9999*u.Gyr) \\\n",
    "        + stellar_mass_fractions[\"thick_disc\"] * disc_SFH(t, min_time=8*u.Gyr, max_time=12*u.Gyr)"
   ]
  },
  {
   "cell_type": "markdown",
   "metadata": {},
   "source": [
    "## Initial Mass Function\n",
    "This is $\\zeta(m)$, the initial mass function"
   ]
  },
  {
   "cell_type": "code",
   "execution_count": 185,
   "metadata": {},
   "outputs": [],
   "source": [
    "def IMF(m, m1=0.01, m2=0.08, m3=0.5, m4=200.0, a12=0.3, a23=1.3, a34=2.3):\n",
    "    \"\"\" \n",
    "        Calculate the fraction of stellar mass between m and m + dm for a three part broken power law.\n",
    "        Default values follow Kroupa (2001)\n",
    "            zeta(m) ~ m^(-a_ij)\n",
    "        \n",
    "        Args:\n",
    "            m       --> [float, list of floats] mass or masses at which to evaluate\n",
    "            mi      --> [float]                 masses at which to transition the slope\n",
    "            aij     --> [float]                 slope of the IMF between mi and mj\n",
    "            \n",
    "        Returns:\n",
    "            zeta(m) --> [float, list of floats] value or values of the IMF at m\n",
    "    \"\"\"\n",
    "    # calculate normalisation constants that ensure the IMF is continuous\n",
    "    b1 = 1 / ( \n",
    "                (m2**(1 - a12) - m1**(1 - a12)) / (1 - a12) \\\n",
    "                + m2**(-(a12 - a23)) * (m3**(1 - a23) - m2**(1 - a23)) / (1 - a23) \\\n",
    "                + m2**(-(a12 - a23)) * m3**(-(a23 - a34)) * (m4**(1 - a34) - m3**(1 - a34)) / (1 - a34)\n",
    "                )\n",
    "    b2 = b1 * m2**(-(a12 - a23))\n",
    "    b3 = b2 * m3**(-(a23 - a34))\n",
    "\n",
    "    # evaluate IMF either at a point or for a list of points\n",
    "    if isinstance(m, float):\n",
    "        if m < m1:\n",
    "            return 0\n",
    "        elif m < m2:\n",
    "            return b1 * m**(-a12)\n",
    "        elif m < m3:\n",
    "            return b2 * m**(-a23)\n",
    "        elif m < m4:\n",
    "            return b3 * m**(-a34)\n",
    "        else:\n",
    "            return 0\n",
    "    else:\n",
    "        imf_vals = np.zeros(len(m))\n",
    "        imf_vals[np.logical_and(m >= m1, m < m2)] = b1 * m[np.logical_and(m >= m1, m < m2)]**(-a12)\n",
    "        imf_vals[np.logical_and(m >= m2, m < m3)] = b2 * m[np.logical_and(m >= m2, m < m3)]**(-a23)\n",
    "        imf_vals[np.logical_and(m >= m3, m < m4)] = b3 * m[np.logical_and(m >= m3, m < m4)]**(-a34)\n",
    "        return imf_vals"
   ]
  },
  {
   "cell_type": "markdown",
   "metadata": {},
   "source": [
    "## Final mass today\n",
    "This is $m_{\\rm today}(m, \\langle Z \\rangle_\\tau, \\tau)$, the amount of mass left in a star today that was born at lookback time $\\tau$ with mass $m$.\n",
    "\n",
    "### Main Sequence lifetime\n",
    "First we need the main sequence lifetime so that we can know whether a star has died yet or not."
   ]
  },
  {
   "cell_type": "code",
   "execution_count": 93,
   "metadata": {},
   "outputs": [],
   "source": [
    "def tBGB(M, Z):\n",
    "    zeta = np.log10(Z / 0.02)\n",
    "    \n",
    "    a1 = 1.593890e3 + 2.053038e3 * zeta + 1.231226e3 * zeta**2 + 2.327785e2 * zeta**3\n",
    "    a2 = 2.706708e3 + 1.483131e3 * zeta + 5.772723e2 * zeta**2 + 7.411230e1 * zeta**3\n",
    "    a3 = 1.466143e2 - 1.048442e2 * zeta - 6.795374e1 * zeta**2 - 1.391127e1 * zeta**3\n",
    "    a4 = 4.141960e-2 + 4.564888e-2 * zeta + 2.958542e-2 * zeta**2 + 5.571483e-3 * zeta**3\n",
    "    a5 = 3.426349e-1\n",
    "    return (a1 + a2 * M**4 + a3 * M**(5.5) + M**7) / (a4 * M**2 + a5 * M**7)\n",
    "\n",
    "def x_t(Z):\n",
    "    zeta = np.log10(Z / 0.02)\n",
    "    return np.maximum(0.95, np.minimum(0.95 - 0.03 * (zeta + 0.30103), 0.99))\n",
    "\n",
    "def mu_t(M, Z):\n",
    "    zeta = np.log10(Z / 0.02)\n",
    "    \n",
    "    a6 = 1.949814e1 + 1.758178e0 * zeta - 6.008212e0 * zeta**2 - 4.470533e0 * zeta**3\n",
    "    a7 = 4.903830e0\n",
    "    a8 = 5.212154e-2 + 3.166411e-2 * zeta - 2.750074e-3 * zeta**2 - 2.271549e-3 * zeta**3\n",
    "    a9 = 1.312179e0 - 3.294936e-1 * zeta + 9.231860e-2 * zeta**2 + 2.610989e-2 * zeta**3\n",
    "    a10 = 8.073972e-1\n",
    "    \n",
    "    return np.maximum(0.5, 1.0 - 0.01 * np.maximum(a6 / M**a7, a8 + a9 / M**a10))\n",
    "\n",
    "def t_MS(M, Z):\n",
    "    tbgb = tBGB(M, Z)\n",
    "    return np.maximum(mu_t(M, Z) * tbgb, x_t(Z) * tbgb) * u.Myr\n",
    "\n",
    "def still_MS(m, z, tau):\n",
    "    return t_MS(m, z) > tau"
   ]
  },
  {
   "cell_type": "markdown",
   "metadata": {},
   "source": [
    "### Remnant Mass function\n",
    "Next we need a function that gives the remnant mass of a star born with an initial mass and metallicity after it has died."
   ]
  },
  {
   "cell_type": "code",
   "execution_count": 255,
   "metadata": {},
   "outputs": [],
   "source": [
    "with h5.File(\"mwmass_fiducial/COMPAS_Output.h5\", \"r\") as compas:\n",
    "    m_ZAMS = compas[\"BSE_System_Parameters\"][\"Mass@ZAMS(1)\"][...].squeeze()\n",
    "    m_end = compas[\"BSE_System_Parameters\"][\"Mass(1)\"][...].squeeze()\n",
    "    Z_sys = compas[\"BSE_System_Parameters\"][\"Metallicity@ZAMS(1)\"][...].squeeze()\n",
    "    \n",
    "initial_masses = np.unique(m_ZAMS)\n",
    "initial_Z = np.unique(Z_sys)\n",
    "remnant_masses = np.array([m_end[Z_sys == Z] for Z in initial_Z])\n",
    "\n",
    "remnant_mass = interpolate.interp2d(initial_masses, initial_Z, remnant_masses)"
   ]
  },
  {
   "cell_type": "markdown",
   "metadata": {},
   "source": [
    "### Average metallicity at each time\n",
    "And the last part is that we need a relation that gives the average metallicity at a time $\\tau$. We calculate the average metallicity at each time by calculating the average radius and applying the metallicity-age-time relation. This is $\\langle Z \\rangle_\\tau$"
   ]
  },
  {
   "cell_type": "code",
   "execution_count": 240,
   "metadata": {},
   "outputs": [],
   "source": [
    "# define the total radial distribution\n",
    "def R_exp(t, alpha=0.3):\n",
    "    return 4 * u.kpc * (1 - alpha * (t / (8 * u.Gyr)))\n",
    "\n",
    "def radial_distribution(r, r0):\n",
    "    return np.exp(-r / r0) * r / r0**2\n",
    "\n",
    "def total_radial(r, t):\n",
    "    return stellar_mass_fractions[\"bulge\"] * radial_distribution(r, r0=1.5 * u.kpc) \\\n",
    "        + stellar_mass_fractions[\"thin_disc\"] * radial_distribution(r, R_exp(t)) \\\n",
    "        + stellar_mass_fractions[\"thick_disc\"] * radial_distribution(r, r0=1/0.43 * u.kpc)"
   ]
  },
  {
   "cell_type": "code",
   "execution_count": 241,
   "metadata": {},
   "outputs": [],
   "source": [
    "# define an integral to get the exact average radius\n",
    "def average_R_exact(tau):\n",
    "    return quad(lambda r: r * total_radial(r * u.kpc, tau).value, 0, 100)[0]"
   ]
  },
  {
   "cell_type": "code",
   "execution_count": 247,
   "metadata": {},
   "outputs": [],
   "source": [
    "# calculate exact values for a grid\n",
    "tau_list = np.linspace(0, 12, 500) * u.Gyr\n",
    "average_R_list = np.array([average_R_exact(tau) for tau in tau_list]) * u.kpc"
   ]
  },
  {
   "cell_type": "code",
   "execution_count": 242,
   "metadata": {},
   "outputs": [],
   "source": [
    "# interpolate the grid\n",
    "average_R_interp = interpolate.interp1d(tau_list, average_R_list)\n",
    "average_R = lambda tau: average_R_interp(tau) * u.kpc"
   ]
  },
  {
   "cell_type": "code",
   "execution_count": 252,
   "metadata": {},
   "outputs": [],
   "source": [
    "# def average_R(tau):\n",
    "#     return - u.kpc * (0.225 * ((tau / u.Gyr) - (26 + 2/3))**3) / ((26 + 2/3) - (tau / u.Gyr))**2\n",
    "\n",
    "def average_metallicity(tau):\n",
    "    R = average_R(tau)\n",
    "    return galaxy.get_metallicity(R, tau)"
   ]
  },
  {
   "cell_type": "markdown",
   "metadata": {},
   "source": [
    "# Calculate the factor!\n",
    "Now let's perform the calculation!\n",
    "\n",
    "## Average star forming mass today\n",
    "First we do the integral for the star forming mass today."
   ]
  },
  {
   "cell_type": "code",
   "execution_count": 260,
   "metadata": {},
   "outputs": [
    {
     "name": "stdout",
     "output_type": "stream",
     "text": [
      "0.2207317781072689\n"
     ]
    }
   ],
   "source": [
    "tau = np.linspace(0, 12, 1000) * u.Gyr\n",
    "mass = np.linspace(0.08, 200, 1500)\n",
    "\n",
    "MASS, TAU = np.meshgrid(mass, tau)\n",
    "\n",
    "M_REM = remnant_mass(mass, average_metallicity(tau))\n",
    "M_FINAL = np.where(still_MS(MASS, average_metallicity(TAU), TAU), MASS, M_REM)\n",
    "\n",
    "avg_mass_today = np.trapz(total_SFH(tau) * np.trapz(np.tile(IMF(mass), (len(tau), 1)) * M_FINAL, mass), tau).value\n",
    "\n",
    "print(avg_mass_today)"
   ]
  },
  {
   "cell_type": "markdown",
   "metadata": {},
   "source": [
    "## Average star forming mass total\n",
    "Then we do the integral for the star forming mass that has ever existed in the galaxy."
   ]
  },
  {
   "cell_type": "code",
   "execution_count": 267,
   "metadata": {},
   "outputs": [
    {
     "name": "stdout",
     "output_type": "stream",
     "text": [
      "0.3784547003151735\n"
     ]
    }
   ],
   "source": [
    "tau = np.linspace(0, 12, 1000) * u.Gyr\n",
    "mass = np.linspace(0.01, 200, 1500) # note we start at 0.01 instead of 0.08\n",
    "\n",
    "MASS, TAU = np.meshgrid(mass, tau)\n",
    "\n",
    "avg_mass_total = np.trapz(total_SFH(tau) * np.trapz(np.tile(IMF(mass), (len(tau), 1)) * MASS, mass), tau).value\n",
    "\n",
    "print(avg_mass_total)"
   ]
  },
  {
   "cell_type": "markdown",
   "metadata": {},
   "source": [
    "## The final result!"
   ]
  },
  {
   "cell_type": "code",
   "execution_count": 264,
   "metadata": {},
   "outputs": [
    {
     "name": "stdout",
     "output_type": "stream",
     "text": [
      "The ratio of the mass total over today is 1.71\n"
     ]
    }
   ],
   "source": [
    "print(\"The ratio of the mass total over today is {0:1.2f}\".format(avg_mass_total / avg_mass_today))"
   ]
  }
 ],
 "metadata": {
  "kernelspec": {
   "display_name": "Python 3 (ipykernel)",
   "language": "python",
   "name": "python3"
  },
  "language_info": {
   "codemirror_mode": {
    "name": "ipython",
    "version": 3
   },
   "file_extension": ".py",
   "mimetype": "text/x-python",
   "name": "python",
   "nbconvert_exporter": "python",
   "pygments_lexer": "ipython3",
   "version": "3.8.12"
  }
 },
 "nbformat": 4,
 "nbformat_minor": 4
}
